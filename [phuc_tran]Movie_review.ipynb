{
  "nbformat": 4,
  "nbformat_minor": 0,
  "metadata": {
    "kernelspec": {
      "display_name": "Python 3",
      "language": "python",
      "name": "python3"
    },
    "language_info": {
      "codemirror_mode": {
        "name": "ipython",
        "version": 3
      },
      "file_extension": ".py",
      "mimetype": "text/x-python",
      "name": "python",
      "nbconvert_exporter": "python",
      "pygments_lexer": "ipython3",
      "version": "3.6.8"
    },
    "colab": {
      "name": "[phuc.tran]Movie review.ipynb",
      "provenance": [],
      "collapsed_sections": [],
      "toc_visible": true
    }
  },
  "cells": [
    {
      "cell_type": "markdown",
      "metadata": {
        "id": "9MDEjcL7Lgs2",
        "colab_type": "text"
      },
      "source": [
        "\n",
        "# Movie Reviews Prediction"
      ]
    },
    {
      "cell_type": "markdown",
      "metadata": {
        "id": "ZOywA8bw_Sej",
        "colab_type": "text"
      },
      "source": [
        "## Logistic regression with Sklearn"
      ]
    },
    {
      "cell_type": "markdown",
      "metadata": {
        "id": "WTEBagIJ_fXp",
        "colab_type": "text"
      },
      "source": [
        "### Import data and library"
      ]
    },
    {
      "cell_type": "code",
      "metadata": {
        "id": "VQuoh8HSOs9F",
        "colab_type": "code",
        "outputId": "066eb593-876d-4e6b-c660-62877c56832b",
        "colab": {
          "base_uri": "https://localhost:8080/",
          "height": 34
        }
      },
      "source": [
        "from google.colab import drive\n",
        "drive.mount('/content/drive')"
      ],
      "execution_count": 2,
      "outputs": [
        {
          "output_type": "stream",
          "text": [
            "Drive already mounted at /content/drive; to attempt to forcibly remount, call drive.mount(\"/content/drive\", force_remount=True).\n"
          ],
          "name": "stdout"
        }
      ]
    },
    {
      "cell_type": "code",
      "metadata": {
        "id": "K04MloarbvBs",
        "colab_type": "code",
        "colab": {}
      },
      "source": [
        "# Import pandas, numpy and the dataset\n",
        "import numpy as np\n",
        "import pandas as pd\n",
        "import matplotlib.pyplot as plt\n"
      ],
      "execution_count": 0,
      "outputs": []
    },
    {
      "cell_type": "code",
      "metadata": {
        "id": "KeWTMVcyLgt4",
        "colab_type": "code",
        "outputId": "617016e5-2ff9-4967-de3f-d38bc674ffcc",
        "colab": {
          "base_uri": "https://localhost:8080/",
          "height": 247
        }
      },
      "source": [
        "import nltk\n",
        "nltk.download('stopwords')\n",
        "nltk.download('punkt')\n",
        "nltk.download('wordnet')\n",
        "nltk.download('averaged_perceptron_tagger')\n",
        "nltk.download('vader_lexicon')\n",
        "  "
      ],
      "execution_count": 4,
      "outputs": [
        {
          "output_type": "stream",
          "text": [
            "[nltk_data] Downloading package stopwords to /root/nltk_data...\n",
            "[nltk_data]   Package stopwords is already up-to-date!\n",
            "[nltk_data] Downloading package punkt to /root/nltk_data...\n",
            "[nltk_data]   Package punkt is already up-to-date!\n",
            "[nltk_data] Downloading package wordnet to /root/nltk_data...\n",
            "[nltk_data]   Package wordnet is already up-to-date!\n",
            "[nltk_data] Downloading package averaged_perceptron_tagger to\n",
            "[nltk_data]     /root/nltk_data...\n",
            "[nltk_data]   Package averaged_perceptron_tagger is already up-to-\n",
            "[nltk_data]       date!\n",
            "[nltk_data] Downloading package vader_lexicon to /root/nltk_data...\n",
            "[nltk_data]   Package vader_lexicon is already up-to-date!\n"
          ],
          "name": "stdout"
        },
        {
          "output_type": "execute_result",
          "data": {
            "text/plain": [
              "True"
            ]
          },
          "metadata": {
            "tags": []
          },
          "execution_count": 4
        }
      ]
    },
    {
      "cell_type": "code",
      "metadata": {
        "id": "l9YBSN51z1-i",
        "colab_type": "code",
        "outputId": "a67df97e-4287-48ea-ee05-4b4b9e118e07",
        "colab": {
          "base_uri": "https://localhost:8080/",
          "height": 105
        }
      },
      "source": [
        "!pip install contractions\n",
        "!pip install autocorrect\n"
      ],
      "execution_count": 5,
      "outputs": [
        {
          "output_type": "stream",
          "text": [
            "Requirement already satisfied: contractions in /usr/local/lib/python3.6/dist-packages (0.0.24)\n",
            "Requirement already satisfied: textsearch in /usr/local/lib/python3.6/dist-packages (from contractions) (0.0.17)\n",
            "Requirement already satisfied: pyahocorasick in /usr/local/lib/python3.6/dist-packages (from textsearch->contractions) (1.4.0)\n",
            "Requirement already satisfied: Unidecode in /usr/local/lib/python3.6/dist-packages (from textsearch->contractions) (1.1.1)\n",
            "Requirement already satisfied: autocorrect in /usr/local/lib/python3.6/dist-packages (1.1.0)\n"
          ],
          "name": "stdout"
        }
      ]
    },
    {
      "cell_type": "markdown",
      "metadata": {
        "id": "2QlFYgmy_oT1",
        "colab_type": "text"
      },
      "source": [
        "### Read data and clean up"
      ]
    },
    {
      "cell_type": "code",
      "metadata": {
        "id": "QPtgQIuhLgtd",
        "colab_type": "code",
        "colab": {}
      },
      "source": [
        "# Read file \n",
        "data = pd.read_csv('/content/drive/My Drive/FTMLE - Tonga/Data/movie_review.csv', encoding='utf-8', sep='\\t')\n",
        "data = data"
      ],
      "execution_count": 0,
      "outputs": []
    },
    {
      "cell_type": "code",
      "metadata": {
        "id": "2d-3kNPeehwT",
        "colab_type": "code",
        "outputId": "a66c9cce-74c1-4d25-822b-65b284c46603",
        "colab": {
          "base_uri": "https://localhost:8080/",
          "height": 347
        }
      },
      "source": [
        "data.head(10)"
      ],
      "execution_count": 7,
      "outputs": [
        {
          "output_type": "execute_result",
          "data": {
            "text/html": [
              "<div>\n",
              "<style scoped>\n",
              "    .dataframe tbody tr th:only-of-type {\n",
              "        vertical-align: middle;\n",
              "    }\n",
              "\n",
              "    .dataframe tbody tr th {\n",
              "        vertical-align: top;\n",
              "    }\n",
              "\n",
              "    .dataframe thead th {\n",
              "        text-align: right;\n",
              "    }\n",
              "</style>\n",
              "<table border=\"1\" class=\"dataframe\">\n",
              "  <thead>\n",
              "    <tr style=\"text-align: right;\">\n",
              "      <th></th>\n",
              "      <th>id</th>\n",
              "      <th>review</th>\n",
              "      <th>sentiment</th>\n",
              "    </tr>\n",
              "  </thead>\n",
              "  <tbody>\n",
              "    <tr>\n",
              "      <th>0</th>\n",
              "      <td>5814_8</td>\n",
              "      <td>With all this stuff going down at the moment w...</td>\n",
              "      <td>1</td>\n",
              "    </tr>\n",
              "    <tr>\n",
              "      <th>1</th>\n",
              "      <td>2381_9</td>\n",
              "      <td>\\The Classic War of the Worlds\\\" by Timothy Hi...</td>\n",
              "      <td>1</td>\n",
              "    </tr>\n",
              "    <tr>\n",
              "      <th>2</th>\n",
              "      <td>7759_3</td>\n",
              "      <td>The film starts with a manager (Nicholas Bell)...</td>\n",
              "      <td>0</td>\n",
              "    </tr>\n",
              "    <tr>\n",
              "      <th>3</th>\n",
              "      <td>3630_4</td>\n",
              "      <td>It must be assumed that those who praised this...</td>\n",
              "      <td>0</td>\n",
              "    </tr>\n",
              "    <tr>\n",
              "      <th>4</th>\n",
              "      <td>9495_8</td>\n",
              "      <td>Superbly trashy and wondrously unpretentious 8...</td>\n",
              "      <td>1</td>\n",
              "    </tr>\n",
              "    <tr>\n",
              "      <th>5</th>\n",
              "      <td>8196_8</td>\n",
              "      <td>I dont know why people think this is such a ba...</td>\n",
              "      <td>1</td>\n",
              "    </tr>\n",
              "    <tr>\n",
              "      <th>6</th>\n",
              "      <td>7166_2</td>\n",
              "      <td>This movie could have been very good, but come...</td>\n",
              "      <td>0</td>\n",
              "    </tr>\n",
              "    <tr>\n",
              "      <th>7</th>\n",
              "      <td>319_1</td>\n",
              "      <td>A friend of mine bought this film for Â£1, and...</td>\n",
              "      <td>0</td>\n",
              "    </tr>\n",
              "    <tr>\n",
              "      <th>8</th>\n",
              "      <td>8713_10</td>\n",
              "      <td>&lt;br /&gt;&lt;br /&gt;This movie is full of references. ...</td>\n",
              "      <td>1</td>\n",
              "    </tr>\n",
              "    <tr>\n",
              "      <th>9</th>\n",
              "      <td>2486_3</td>\n",
              "      <td>What happens when an army of wetbacks, towelhe...</td>\n",
              "      <td>0</td>\n",
              "    </tr>\n",
              "  </tbody>\n",
              "</table>\n",
              "</div>"
            ],
            "text/plain": [
              "        id                                             review  sentiment\n",
              "0   5814_8  With all this stuff going down at the moment w...          1\n",
              "1   2381_9  \\The Classic War of the Worlds\\\" by Timothy Hi...          1\n",
              "2   7759_3  The film starts with a manager (Nicholas Bell)...          0\n",
              "3   3630_4  It must be assumed that those who praised this...          0\n",
              "4   9495_8  Superbly trashy and wondrously unpretentious 8...          1\n",
              "5   8196_8  I dont know why people think this is such a ba...          1\n",
              "6   7166_2  This movie could have been very good, but come...          0\n",
              "7    319_1  A friend of mine bought this film for Â£1, and...          0\n",
              "8  8713_10  <br /><br />This movie is full of references. ...          1\n",
              "9   2486_3  What happens when an army of wetbacks, towelhe...          0"
            ]
          },
          "metadata": {
            "tags": []
          },
          "execution_count": 7
        }
      ]
    },
    {
      "cell_type": "code",
      "metadata": {
        "id": "ikU5xj0jh66n",
        "colab_type": "code",
        "colab": {}
      },
      "source": [
        "def print_full(x):\n",
        "    pd.set_option('display.max_rows', len(x))\n",
        "    pd.set_option('display.max_columns', None)\n",
        "    pd.set_option('display.width', 2000)\n",
        "    pd.set_option('display.float_format', '{:20,.2f}'.format)\n",
        "    pd.set_option('display.max_colwidth', -1)\n",
        "    print(x)\n",
        "    pd.reset_option('display.max_rows')\n",
        "    pd.reset_option('display.max_columns')\n",
        "    pd.reset_option('display.width')\n",
        "    pd.reset_option('display.float_format')\n",
        "    pd.reset_option('display.max_colwidth')\n"
      ],
      "execution_count": 0,
      "outputs": []
    },
    {
      "cell_type": "code",
      "metadata": {
        "id": "HoPF9gkUeQVP",
        "colab_type": "code",
        "colab": {}
      },
      "source": [
        "# Drop id\n",
        "data.drop(labels=['id'], axis=1, inplace=True)"
      ],
      "execution_count": 0,
      "outputs": []
    },
    {
      "cell_type": "code",
      "metadata": {
        "id": "-RnOTy4KemGW",
        "colab_type": "code",
        "outputId": "b6618615-51d1-44cb-f795-a25cb1cf7350",
        "colab": {
          "base_uri": "https://localhost:8080/",
          "height": 90
        }
      },
      "source": [
        "test_text = data.iloc[data['review'].str.len().idxmax()].iloc[0]\n",
        "print_full(test_text)"
      ],
      "execution_count": 10,
      "outputs": [
        {
          "output_type": "stream",
          "text": [
            "Match 1: Tag Team Table Match Bubba Ray and Spike Dudley vs Eddie Guerrero and Chris Benoit Bubba Ray and Spike Dudley started things off with a Tag Team Table Match against Eddie Guerrero and Chris Benoit. According to the rules of the match, both opponents have to go through tables in order to get the win. Benoit and Guerrero heated up early on by taking turns hammering first Spike and then Bubba Ray. A German suplex by Benoit to Bubba took the wind out of the Dudley brother. Spike tried to help his brother, but the referee restrained him while Benoit and Guerrero ganged up on him in the corner. With Benoit stomping away on Bubba, Guerrero set up a table outside. Spike dashed into the ring and somersaulted over the top rope onto Guerrero on the outside! After recovering and taking care of Spike, Guerrero slipped a table into the ring and helped the Wolverine set it up. The tandem then set up for a double superplex from the middle rope which would have put Bubba through the table, but Spike knocked the table over right before his brother came crashing down! Guerrero and Benoit propped another table in the corner and tried to Irish Whip Spike through it, but Bubba dashed in and blocked his brother. Bubba caught fire and lifted both opponents into back body drops! Bubba slammed Guerrero and Spike stomped on the Wolverine from off the top rope. Bubba held Benoit at bay for Spike to soar into the Wassup! headbutt! Shortly after, Benoit latched Spike in the Crossface, but the match continued even after Spike tapped out. Bubba came to his brother's rescue and managed to sprawl Benoit on a table. Bubba leapt from the middle rope, but Benoit moved and sent Bubba crashing through the wood! But because his opponents didn't force him through the table, Bubba was allowed to stay in the match. The first man was eliminated shortly after, though, as Spike put Eddie through a table with a Dudley Dawg from the ring apron to the outside! Benoit put Spike through a table moments later to even the score. Within seconds, Bubba nailed a Bubba Bomb that put Benoit through a table and gave the Dudleys the win! Winner: Bubba Ray and Spike Dudley<br /><br />Match 2: Cruiserweight Championship Jamie Noble vs Billy Kidman Billy Kidman challenged Jamie Noble, who brought Nidia with him to the ring, for the Cruiserweight Championship. Noble and Kidman locked up and tumbled over the ring, but raced back inside and grappled some more. When Kidman thwarted all Noble's moves, Noble fled outside the ring where Nidia gave him some encouragement. The fight spread outside the ring and Noble threw his girlfriend into the challenger. Kidman tossed Nidia aside but was taken down with a modified arm bar. Noble continued to attack Kidman's injured arm back in the ring. Kidman's injured harm hampered his offense, but he continued to battle hard. Noble tried to put Kidman away with a powerbomb but the challenger countered into a facebuster. Kidman went to finish things with a Shooting Star Press, but Noble broke up the attempt. Kidman went for the Shooting Star Press again, but this time Noble just rolled out of harm's way. Noble flipped Kidman into a power bomb soon after and got the pin to retain his WWE Cruiserweight Championship! Winner: Jamie Noble<br /><br />Match 3: European Championship William Regal vs Jeff Hardy William Regal took on Jeff Hardy next in an attempt to win back the European Championship. Jeff catapulted Regal over the top rope then took him down with a hurracanrana off the ring apron. Back in the ring, Jeff hit the Whisper in the wind to knock Regal for a loop. Jeff went for the Swanton Bomb, but Regal got his knees up to hit Jeff with a devastating shot. Jeff managed to surprise Regal with a quick rollup though and got the pin to keep the European Championship! Regal started bawling at seeing Hardy celebrate on his way back up the ramp. Winner: Jeff Hardy<br /><br />Match 4: Chris Jericho vs John Cena Chris Jericho had promised to end John Cena's career in their match at Vengeance, which came up next. Jericho tried to teach Cena a lesson as their match began by suplexing him to the mat. Jericho continued to knock Cena around the ring until his cockiness got the better of him. While on the top rope, Jericho began to showboat and allowed Cena to grab him for a superplex! Cena followed with a tilt-a-whirl slam but was taken down with a nasty dropkick to the gut. The rookie recovered and hit a belly to belly suplex but couldn't put Y2J away. Jericho launched into the Lionsault but Cena dodged the move. Jericho nailed a bulldog and then connected on the Lionsault, but did not go for the cover. He goaded Cena to his feet so he could put on the Walls of Jericho. Cena had other ideas, reversing the move into a pin attempt and getting the 1-2-3! Jericho went berserk after the match. Winner: John Cena<br /><br />Match 5: Intercontinental Championship RVD vs Brock Lesnar via disqualification The Next Big Thing and Mr. Pay-Per-View tangled with the Intercontinental Championship on the line. Brock grabbed the title from the ref and draped it over his shoulder momentarily while glaring at RVD. Van Dam 's quickness gave Brock fits early on. The big man rolled out of the ring and kicked the steel steps out of frustration. Brock pulled himself together and began to take charge. With Paul Heyman beaming at ringside, Brock slammed RVD to the hard floor outside the ring. From there, Brock began to overpower RVD, throwing him with ease over the top rope. RVD landed painfully on his back, then had to suffer from having his spine cracked against the steel ring steps. The fight returned to the ring with Brock squeezing RVD around the ribs. RVD broke away and soon after leveled Brock with a kick to the temple. RVD followed with the Rolling Thunder but Brock managed to kick out after a two-count. The fight looked like it might be over soon as RVD went for a Five-Star Frog Splash. Brock, though, hoisted Van Dam onto his shoulder and went for the F-5, but RVD whirled Brock into a DDT and followed with the Frog Splash! He went for the pin, but Heyman pulled the ref from the ring! The ref immediately called for a disqualification and soon traded blows with Heyman! After, RVD leapt onto Brock from the top rope and then threatened to hit the Van Terminator! Heyman grabbed RVD's leg and Brock picked up the champ and this time connected with the F-5 onto a steel chair! Winner: RVD<br /><br />Match 6: Booker T vs the Big Show Booker T faced the Big Show one-on-one next. Show withstood Booker T's kicks and punches and slapped Booker into the corner. After being thrown from the ring, Booker picked up a chair at ringside, but Big Show punched it back into Booker's face. Booker tried to get back into the game by choking Show with a camera cable at ringside. Booker smashed a TV monitor from the Spanish announcers' position into Show's skull, then delivered a scissors kick that put both men through the table! Booker crawled back into the ring and Big Show staggered in moments later. Show grabbed Booker's throat but was met by a low blow and a kick to the face. Booker climbed the top rope and nailed a somersaulting leg drop to get the pin! Winner: Booker T<br /><br />Announcement: Triple H entered the ring to a thunderous ovation as fans hoped to learn where The Game would end up competing. Before he could speak, Eric Bishoff stopped The Game to apologize for getting involved in his personal business. If Triple H signed with RAW, Bischoff promised his personal life would never come into play again. Bischoff said he's spent the past two years networking in Hollywood. He said everyone was looking for the next breakout WWE Superstar, and they were all talking about Triple H. Bischoff guaranteed that if Triple H signed with RAW, he'd be getting top opportunities coming his way. Stephanie McMahon stepped out to issue her own pitch. She said that because of her personal history with Triple H, the two of them know each other very well. She said the two of them were once unstoppable and they can be again. Bischoff cut her off and begged her to stop. Stephanie cited that Triple H once told her how Bischoff said Triple H had no talent and no charisma. Bischoff said he was young at the time and didn't know what he had, but he still has a lot more experience that Stephanie. The two continued to bicker back and forth, until Triple H stepped up with his microphone. The Game said it would be easy to say \\screw you\\\" to either one of them. Triple H went to shake Bischoff's hand, but pulled it away. He said he would rather go with the devil he knows, rather than the one he doesn't know. Before he could go any further, though, Shawn Michaels came out to shake things up. HBK said the last thing he wanted to do was cause any trouble. He didn't want to get involved, but he remembered pledging to bring Triple H to the nWo. HBK said there's nobody in the world that Triple H is better friends with. HBK told his friend to imagine the two back together again, making Bischoff's life a living hell. Triple H said that was a tempting offer. He then turned and hugged HBK, making official his switch to RAW! Triple H and HBK left, and Bischoff gloated over his victory. Bischoff said the difference between the two of them is that he's got testicles and she doesn't. Stephanie whacked Bischoff on the side of the head and left!<br /><br />Match 7: Tag Team Championship Match Christian and Lance Storm vs Hollywood Hogan and Edge The match started with loud \\\"USA\\\" chants and with Hogan shoving Christian through the ropes and out of the ring. The Canadians took over from there. But Edge scored a kick to Christian's head and planted a facebuster on Storm to get the tag to Hogan. Hogan began to Hulk up and soon caught Christian with a big boot and a leg drop! Storm broke up the count and Christian tossed Hogan from the ring where Storm superkicked the icon. Edge tagged in soon after and dropped both opponents. He speared both of them into the corner turnbuckles, but missed a spear on Strom and hit the ref hard instead. Edge nailed a DDT, but the ref was down and could not count. Test raced down and took down Hogan then leveled Edge with a boot. Storm tried to get the pin, but Edge kicked out after two. Riksihi sprinted in to fend off Test, allowing Edge to recover and spear Storm. Christian distracted the ref, though, and Y2J dashed in and clocked Edge with the Tag Team Championship! Storm rolled over and got the pinfall to win the title! Winners and New Tag Team Champions: Christian and Lance Storm<br /><br />Match 8: WWE Undisputed Championship Triple Threat Match. The Rock vs Kurt Angle and the Undertaker Three of WWE's most successful superstars lined up against each other in a Triple Threat Match with the Undisputed Championship hanging in the balance. Taker and The Rock got face to face with Kurt Angle begging for some attention off to the side. He got attention in the form of a beat down form the two other men. Soon after, Taker spilled out of the ring and The Rock brawled with Angle. Angle gave a series of suplexes that took down Rock, but the Great One countered with a DDT that managed a two-count. The fight continued outside the ring with Taker coming to life and clotheslining Angle and repeatedly smacking The Rock. Taker and Rock got into it back into the ring, and Taker dropped The Rock with a sidewalk slam to get a two-count. Rock rebounded, grabbed Taker by the throat and chokeslammed him! Angle broke up the pin attempt that likely would have given The Rock the title. The Rock retaliated by latching on the ankle lock to Kurt Angle. Angle reversed the move and Rock Bottomed the People's Champion. Soon after, The Rock disposed of Angle and hit the People's Elbow on the Undertaker. Angle tried to take advantage by disabling the Great One outside the ring and covering Taker, who kicked out after a two count. Outside the ring, Rock took a big swig from a nearby water bottle and spewed the liquid into Taker's face to blind the champion. Taker didn't stay disabled for long, and managed to overpower Rock and turn his attention to Angle. Taker landed a guillotine leg drop onto Angle, laying on the ring apron. The Rock picked himself up just in time to break up a pin attempt on Kurt Angle. Taker nailed Rock with a DDT and set him up for a chokeslam. ANgle tried sneaking up with a steel chair, but Taker caught on to that tomfoolery and smacked it out of his hands. The referee got caught in the ensuing fire and didn't see Angle knock Taker silly with a steel chair. Angle went to cover Taker as The Rock lay prone, but the Dead Man somehow got his shoulder up. Angle tried to pin Rock, but he too kicked out. The Rock got up and landed Angle in the sharpshooter! Angle looked like he was about to tap, but Taker kicked The Rock out of the submission hold. Taker picked Rock up and crashed him with the Last Ride. While the Dead Man covered him for the win, Angle raced in and picked Taker up in the ankle lock! Taker went delirious with pain, but managed to counter. He picked Angle up for the last ride, but Angle put on a triangle choke! It looked like Taker was about to pass out, but The Rock broke Angle's hold only to find himself caught in the ankle lock. Rock got out of the hold and watched Taker chokeslam Angle. Rocky hit the Rock Bottom, but Taker refused to go down and kicked out. Angle whirled Taker up into the Angle Slam but was Rock Bottomed by the Great One and pinned! Winner and New WWE Champion: The Rock<br /><br />~Finally there is a decent PPV! Lately the PPV weren't very good, but this one was a winner. I give this PPV a A-<br /><br />\"\n"
          ],
          "name": "stdout"
        },
        {
          "output_type": "stream",
          "text": [
            "/usr/local/lib/python3.6/dist-packages/ipykernel_launcher.py:6: FutureWarning: Passing a negative integer is deprecated in version 1.0 and will not be supported in future version. Instead, use None to not limit the column width.\n",
            "  \n"
          ],
          "name": "stderr"
        }
      ]
    },
    {
      "cell_type": "markdown",
      "metadata": {
        "id": "cMCrBqdhi3JT",
        "colab_type": "text"
      },
      "source": [
        "### Text Processing"
      ]
    },
    {
      "cell_type": "code",
      "metadata": {
        "id": "F6GvQ2HXjOZ1",
        "colab_type": "code",
        "colab": {}
      },
      "source": [
        "from nltk.corpus import stopwords\n",
        "from nltk.tokenize import word_tokenize, sent_tokenize\n",
        "\n",
        "stop = stopwords.words('english')"
      ],
      "execution_count": 0,
      "outputs": []
    },
    {
      "cell_type": "markdown",
      "metadata": {
        "id": "Z01BpBz7Lgt-",
        "colab_type": "text"
      },
      "source": [
        "#### Removing special characters and \"trash\"\n"
      ]
    },
    {
      "cell_type": "code",
      "metadata": {
        "id": "t9-gDY9MG5Qg",
        "colab_type": "code",
        "outputId": "95472a78-06fb-45ec-a5c7-646e7130b41a",
        "colab": {
          "base_uri": "https://localhost:8080/",
          "height": 818
        }
      },
      "source": [
        "!pip install beautifulsoup4\n",
        "!pip install -U spacy\n",
        "!python -m spacy download en_core_web_sm"
      ],
      "execution_count": 12,
      "outputs": [
        {
          "output_type": "stream",
          "text": [
            "Requirement already satisfied: beautifulsoup4 in /usr/local/lib/python3.6/dist-packages (4.6.3)\n",
            "Requirement already up-to-date: spacy in /usr/local/lib/python3.6/dist-packages (2.2.4)\n",
            "Requirement already satisfied, skipping upgrade: catalogue<1.1.0,>=0.0.7 in /usr/local/lib/python3.6/dist-packages (from spacy) (1.0.0)\n",
            "Requirement already satisfied, skipping upgrade: srsly<1.1.0,>=1.0.2 in /usr/local/lib/python3.6/dist-packages (from spacy) (1.0.2)\n",
            "Requirement already satisfied, skipping upgrade: thinc==7.4.0 in /usr/local/lib/python3.6/dist-packages (from spacy) (7.4.0)\n",
            "Requirement already satisfied, skipping upgrade: numpy>=1.15.0 in /usr/local/lib/python3.6/dist-packages (from spacy) (1.18.2)\n",
            "Requirement already satisfied, skipping upgrade: plac<1.2.0,>=0.9.6 in /usr/local/lib/python3.6/dist-packages (from spacy) (1.1.3)\n",
            "Requirement already satisfied, skipping upgrade: preshed<3.1.0,>=3.0.2 in /usr/local/lib/python3.6/dist-packages (from spacy) (3.0.2)\n",
            "Requirement already satisfied, skipping upgrade: cymem<2.1.0,>=2.0.2 in /usr/local/lib/python3.6/dist-packages (from spacy) (2.0.3)\n",
            "Requirement already satisfied, skipping upgrade: murmurhash<1.1.0,>=0.28.0 in /usr/local/lib/python3.6/dist-packages (from spacy) (1.0.2)\n",
            "Requirement already satisfied, skipping upgrade: tqdm<5.0.0,>=4.38.0 in /usr/local/lib/python3.6/dist-packages (from spacy) (4.38.0)\n",
            "Requirement already satisfied, skipping upgrade: requests<3.0.0,>=2.13.0 in /usr/local/lib/python3.6/dist-packages (from spacy) (2.21.0)\n",
            "Requirement already satisfied, skipping upgrade: wasabi<1.1.0,>=0.4.0 in /usr/local/lib/python3.6/dist-packages (from spacy) (0.6.0)\n",
            "Requirement already satisfied, skipping upgrade: setuptools in /usr/local/lib/python3.6/dist-packages (from spacy) (46.1.3)\n",
            "Requirement already satisfied, skipping upgrade: blis<0.5.0,>=0.4.0 in /usr/local/lib/python3.6/dist-packages (from spacy) (0.4.1)\n",
            "Requirement already satisfied, skipping upgrade: importlib-metadata>=0.20; python_version < \"3.8\" in /usr/local/lib/python3.6/dist-packages (from catalogue<1.1.0,>=0.0.7->spacy) (1.6.0)\n",
            "Requirement already satisfied, skipping upgrade: chardet<3.1.0,>=3.0.2 in /usr/local/lib/python3.6/dist-packages (from requests<3.0.0,>=2.13.0->spacy) (3.0.4)\n",
            "Requirement already satisfied, skipping upgrade: certifi>=2017.4.17 in /usr/local/lib/python3.6/dist-packages (from requests<3.0.0,>=2.13.0->spacy) (2020.4.5.1)\n",
            "Requirement already satisfied, skipping upgrade: urllib3<1.25,>=1.21.1 in /usr/local/lib/python3.6/dist-packages (from requests<3.0.0,>=2.13.0->spacy) (1.24.3)\n",
            "Requirement already satisfied, skipping upgrade: idna<2.9,>=2.5 in /usr/local/lib/python3.6/dist-packages (from requests<3.0.0,>=2.13.0->spacy) (2.8)\n",
            "Requirement already satisfied, skipping upgrade: zipp>=0.5 in /usr/local/lib/python3.6/dist-packages (from importlib-metadata>=0.20; python_version < \"3.8\"->catalogue<1.1.0,>=0.0.7->spacy) (3.1.0)\n",
            "Requirement already satisfied: en_core_web_sm==2.2.5 from https://github.com/explosion/spacy-models/releases/download/en_core_web_sm-2.2.5/en_core_web_sm-2.2.5.tar.gz#egg=en_core_web_sm==2.2.5 in /usr/local/lib/python3.6/dist-packages (2.2.5)\n",
            "Requirement already satisfied: spacy>=2.2.2 in /usr/local/lib/python3.6/dist-packages (from en_core_web_sm==2.2.5) (2.2.4)\n",
            "Requirement already satisfied: plac<1.2.0,>=0.9.6 in /usr/local/lib/python3.6/dist-packages (from spacy>=2.2.2->en_core_web_sm==2.2.5) (1.1.3)\n",
            "Requirement already satisfied: requests<3.0.0,>=2.13.0 in /usr/local/lib/python3.6/dist-packages (from spacy>=2.2.2->en_core_web_sm==2.2.5) (2.21.0)\n",
            "Requirement already satisfied: thinc==7.4.0 in /usr/local/lib/python3.6/dist-packages (from spacy>=2.2.2->en_core_web_sm==2.2.5) (7.4.0)\n",
            "Requirement already satisfied: srsly<1.1.0,>=1.0.2 in /usr/local/lib/python3.6/dist-packages (from spacy>=2.2.2->en_core_web_sm==2.2.5) (1.0.2)\n",
            "Requirement already satisfied: numpy>=1.15.0 in /usr/local/lib/python3.6/dist-packages (from spacy>=2.2.2->en_core_web_sm==2.2.5) (1.18.2)\n",
            "Requirement already satisfied: blis<0.5.0,>=0.4.0 in /usr/local/lib/python3.6/dist-packages (from spacy>=2.2.2->en_core_web_sm==2.2.5) (0.4.1)\n",
            "Requirement already satisfied: murmurhash<1.1.0,>=0.28.0 in /usr/local/lib/python3.6/dist-packages (from spacy>=2.2.2->en_core_web_sm==2.2.5) (1.0.2)\n",
            "Requirement already satisfied: tqdm<5.0.0,>=4.38.0 in /usr/local/lib/python3.6/dist-packages (from spacy>=2.2.2->en_core_web_sm==2.2.5) (4.38.0)\n",
            "Requirement already satisfied: setuptools in /usr/local/lib/python3.6/dist-packages (from spacy>=2.2.2->en_core_web_sm==2.2.5) (46.1.3)\n",
            "Requirement already satisfied: wasabi<1.1.0,>=0.4.0 in /usr/local/lib/python3.6/dist-packages (from spacy>=2.2.2->en_core_web_sm==2.2.5) (0.6.0)\n",
            "Requirement already satisfied: cymem<2.1.0,>=2.0.2 in /usr/local/lib/python3.6/dist-packages (from spacy>=2.2.2->en_core_web_sm==2.2.5) (2.0.3)\n",
            "Requirement already satisfied: preshed<3.1.0,>=3.0.2 in /usr/local/lib/python3.6/dist-packages (from spacy>=2.2.2->en_core_web_sm==2.2.5) (3.0.2)\n",
            "Requirement already satisfied: catalogue<1.1.0,>=0.0.7 in /usr/local/lib/python3.6/dist-packages (from spacy>=2.2.2->en_core_web_sm==2.2.5) (1.0.0)\n",
            "Requirement already satisfied: idna<2.9,>=2.5 in /usr/local/lib/python3.6/dist-packages (from requests<3.0.0,>=2.13.0->spacy>=2.2.2->en_core_web_sm==2.2.5) (2.8)\n",
            "Requirement already satisfied: chardet<3.1.0,>=3.0.2 in /usr/local/lib/python3.6/dist-packages (from requests<3.0.0,>=2.13.0->spacy>=2.2.2->en_core_web_sm==2.2.5) (3.0.4)\n",
            "Requirement already satisfied: urllib3<1.25,>=1.21.1 in /usr/local/lib/python3.6/dist-packages (from requests<3.0.0,>=2.13.0->spacy>=2.2.2->en_core_web_sm==2.2.5) (1.24.3)\n",
            "Requirement already satisfied: certifi>=2017.4.17 in /usr/local/lib/python3.6/dist-packages (from requests<3.0.0,>=2.13.0->spacy>=2.2.2->en_core_web_sm==2.2.5) (2020.4.5.1)\n",
            "Requirement already satisfied: importlib-metadata>=0.20; python_version < \"3.8\" in /usr/local/lib/python3.6/dist-packages (from catalogue<1.1.0,>=0.0.7->spacy>=2.2.2->en_core_web_sm==2.2.5) (1.6.0)\n",
            "Requirement already satisfied: zipp>=0.5 in /usr/local/lib/python3.6/dist-packages (from importlib-metadata>=0.20; python_version < \"3.8\"->catalogue<1.1.0,>=0.0.7->spacy>=2.2.2->en_core_web_sm==2.2.5) (3.1.0)\n",
            "\u001b[38;5;2m✔ Download and installation successful\u001b[0m\n",
            "You can now load the model via spacy.load('en_core_web_sm')\n"
          ],
          "name": "stdout"
        }
      ]
    },
    {
      "cell_type": "code",
      "metadata": {
        "id": "F9pqiFUXLgt_",
        "colab_type": "code",
        "colab": {}
      },
      "source": [
        "import re\n",
        "import contractions\n",
        "import string\n",
        "from bs4 import BeautifulSoup\n",
        "import unicodedata\n",
        "\n",
        "def preprocessor(text):\n",
        "    \"\"\" Return a cleaned version of text\n",
        "    \"\"\"\n",
        "    # Remove html tags\n",
        "    text = strip_html_tags(text)\n",
        "    # Remove accents \n",
        "    text = remove_accented_chars(text)\n",
        "    # remove extra newlines\n",
        "    text = re.sub(r'[\\r|\\n|\\r\\n]+', ' ',text)\n",
        "\n",
        "    # Expanding contractions words\n",
        "    # text = contractions.fix(text)\n",
        "    \n",
        "    # Save emoticons for later appending\n",
        "    emoticons = re.findall('(?::|;|=)(?:-)?(?:\\)|\\(|D|P)', text)\n",
        "\n",
        "    # text.replace('...',' ')\n",
        "    # text.replace('-',' ')\n",
        "\n",
        "    # Remove accents \n",
        "    text = remove_accented_chars(text)\n",
        "\n",
        "    # # insert spaces between special characters to isolate them    \n",
        "    # special_char_pattern = re.compile(r'([{.(-)!}])')\n",
        "    # text = remove_special_characters(text)  \n",
        "\n",
        "    # remove extra whitespace\n",
        "    text = re.sub(' +', ' ', text)  \n",
        "\n",
        "    # Remove any non-word character and append the emoticons,\n",
        "    # removing the nose character for standarization. Convert to lower case\n",
        "    text = (re.sub('[\\W]+', ' ', text.lower()) + ' ' + ' '.join(emoticons).replace('-', ''))\n",
        "\n",
        "    return text\n",
        "\n",
        "def remove_special_characters(text, remove_digits=False):\n",
        "    pattern = r'[^a-zA-z0-9\\s]' if not remove_digits else r'[^a-zA-z\\s]'\n",
        "    text = re.sub(pattern, '', text)\n",
        "    return text\n",
        "def remove_accented_chars(text):\n",
        "    text = unicodedata.normalize('NFKD', text).encode('ascii', 'ignore').decode('utf-8', 'ignore')\n",
        "    return text\n",
        "\n",
        "def strip_html_tags(text):\n",
        "    soup = BeautifulSoup(text, \"lxml\")\n",
        "    stripped_text = soup.get_text()\n",
        "    return stripped_text\n",
        "\n",
        "# # Removing Special Characters\n",
        "def remove_special_characters(text):\n",
        "    text = re.sub('[^a-zA-Z0-9\\s]', '', text)\n",
        "    return text\n"
      ],
      "execution_count": 0,
      "outputs": []
    },
    {
      "cell_type": "code",
      "metadata": {
        "id": "TB-cijhPtdcc",
        "colab_type": "code",
        "outputId": "81bfb7d0-adba-435b-ede0-7b6d7777b465",
        "colab": {
          "base_uri": "https://localhost:8080/",
          "height": 498
        }
      },
      "source": [
        "%%time\n",
        "test = data['review'].sample(10)\n",
        "print_full(test)\n",
        "print_full(test.apply(preprocessor))"
      ],
      "execution_count": 14,
      "outputs": [
        {
          "output_type": "stream",
          "text": [
            "7753     Hardly a masterpiece. Not so well written. Beautiful cinematography i think not. This movie wasn't too terrible but it wasn't that much better than average. The main story dealing with highly immoral teens should have focused more on the forbidden romance and why this was... should have really gotten into it instead of scraping the surface with basically \\because mom says we can't.\\\" Some parts should have been dropped altogether or reworked to have more importance to the plight of the two main characters. Couple times i was wondering if the writer/director was a fan of George Lucas' classic American Graffiti. Not that it's wrong to be a fan of that movie but to make your movie at times look like that, i mean come on! Worst part of this was that Madchen Amick had such a small part, i mean double come on!! She was the only one, in one or two lines, who actually tried a southern accent. (Take a good listen, it was there even though her character was from California! DOH!!) Maybe if she was the star others could have followed and we would have had a more authentically sounding movie. Oh well, what can ya do when you have a director who's just a director and not an artist, also. Too bad. Overall i give this a B- and that's being a little generous 'cause i'm partial to Ms. Amick.\"                                                                                                                                                                                                                                                                                                                                                                                                                                                                                                                                                                                                                                                                                                                                                                             \n",
            "13563    Remember the name Kevin Lime - and please, please never let<br /><br />him direct again. Timing, pacing, editing: all hopelessly wrong.<br /><br />Three or four decent professionals (next time, guys, walk off the<br /><br />set) can do nothing to save this film from amateurs like Alice<br /><br />Evans, and the kind of production standards you'd expect from<br /><br />teen-produced children's shows on british TV.<br /><br />Greatest mystery: the music. A score so inept, inappropriate and<br /><br />ill-matched to the tone of the film that one seriously wonders if it is<br /><br />a case of sabotage. Add an acoustic that booms apparently<br /><br />unengineered from a single mike, and a director who only<br /><br />intermittently remembers to add auditory action offscreen, and we<br /><br />have what must be on of the greatest ratio of money to result of<br /><br />recent years.                                                                                                                                                                                                                                                                                                                                                                                                                                                                                                                                                                                                                                                                                                                                                                                                                                                                                                                                                                                                                                                                                                                                                                                                   \n",
            "3730     I just saw this film tonight and I have to say that it's a mess. I love Vince Vaughn but he ends up more annoying that funny here and the film is more than less a remake of the crappy 80's classic \\ Santa Claus the movie\\\" but with out the camp or the bad Sheena Easton song at the end. .The story is your run of the mill black sheep in the family who comes back to face his family for the holidays kind of thing but with North Pole as its setting. Of course Fred (Vince Vaughn) is the family screw up who comes home after a series of set backs that include his girlfriend (Rachel Weisz in a cameo role) dumping him, so he comes home to face his parents and his more successful brother Santa Claus (Paul Giamatti) and wacky high jinks follow with a bit of sibling rivalry and a bit of anarky as well that threatens all of Christmas. Now if you think you know the ending of this film, I think you would be right because it's predicable to the hill. As for the acting, Vince Vaughn plays the same lovable loser he always plays but this time he ends up more annoying than likable, Miranda Richardson plays Mrs. Claus but the role is more than less one note, Elizabeth Banks plays Santa's assistant but she's not much of a character at all other than a neurotic joke and poor Kevin Spacey ends up basically playing the same person he plays in the film \\\"Glengarry Glen Ross\\\" but a little more anal. The only two actors who come out of this film with their dignity intact is Paul Giamatti, who brings a real sincerity and warmed to his role as Santa Claus but he looks somewhat embarrass to be in the movie and you can't blame him and Rachel Weisz, who manages to do a lot more with a very small role than most of the main actors do with theirs, which is a shame because both Rachel Weisz and Paul Giamatti deserved a lot better than what this script gave them.<br /><br />To put it in a nutshell, a major disappointment.\"                                                                                                                               \n",
            "3055     Born Again the Limerick: <br /><br />If a man could come back from the dead <br /><br />And live in a little girl's head <br /><br />Revenge he would get <br /><br />For the murder he met<br /><br />By the guy that's now in his wife's bed.<br /><br />For me Born Again is a highly under-rated, classic episode that makes up a part of what defined The X-Files for me before I started watching it. I saw a few segments before when the show first came on and I was much too young to watch it such as parts of The Jersey Devil, but I very specifically remember watching this episode as an 11 year old and being absolutely creeped out by the scene where they guy gets choked to death by the bus and then the hypnosis scene with the little girl. I tell you I couldn't sleep for weeks! For this reason the episode has a special aura about it now of the creepiness factor that I have since grown to enjoy. Its enough to let me look past some of the obvious flaws in the plot such as why the girl had to wait until she was 9 before her previous life spirit really began to exact his revenge. Or what she was doing just randomly sitting on a bus in the middle of the night. You'd think her parents would have been worried. And maybe they were we just don't really see that part of the story. And was was with the telekinesis? Other than adding the really cool Carrie factor to the already creepy story, there really wasn't any kind of good explanation for it. But even with its little flaws, in my mind this is a classic episode and has little to no reason for me to not like it. 10 out of 10.                                                                                                                                                                                                                                                                                                                                                                                                                                                                              \n",
            "18368    This movie was a rather odd viewing experience. The movie is obviously based on a play. Now I'm sure that everything in this movie works out just fine in a play but for in a movie it just doesn't feel terribly interesting enough to watch. The movie is way too 'stagey' and they didn't even bothered to change some of the dialog to make it more fitting for a movie. Instead what is presented now is an almost literally re-filming of a stage-play, with over-the-top characters and staged dialog. Because of all this the storyline really doesn't work out and the movie becomes an almost complete bore- and obsolete viewing experience.<br /><br />It takes a while before you figure out that this is a comedy you're watching. At first you think its a drama you're watching, with quirky characters in it but as the movie progresses you'll notice that the movie is more a tragicomedy, that leans really more toward the comedy genre, rather than the drama genre.<br /><br />The characters and dialog are really the things that make this movie a quirky and over-the-top one that at times really become unwatchable. Sure, the actors are great; Peter O'Toole and Susannah York, amongst others but they don't really uplift the movie to a level of 'watchable enough'.<br /><br />The story feels totally disorientated. Basicaly the story is about nothing and just mainly focuses on the brother/sister characters played by Peter O'Toole and Susannah York. But what exactly is the story even about? The movie feels like a pointless and obsolete one that has very little to offer. Like I said before; I'm sure the story is good and interesting to watch on stage but as a movie it really isn't fitting and simply doesn't work out.<br /><br />The editing is simply dreadful and times and it becomes even laughable bad in certain sequences. <br /><br />More was to expect from director J. Lee Thompson, who has obviously done far better movies than this rather failed, stage-play translated to screen, project.<br /><br />Really not worth your time.<br /><br />4/10\n",
            "14218    I never saw the original 1954 version with Judy Garland, so have no means of comparison. Also, it's been some years, but I found this tale neither gripping nor its romance captivating. The movie tells the story of two lovers whose musical careers are headed in opposite directions. John Norman Howard is a worn out, disillusioned rock star on the decline, embarking upon a romance with a fresh, talented new singing sensation, Esther Hoffman. Her dramatic success only serves to emphasize his decline.<br /><br />The lead actors, Kris Kristofferson and Barbra Streisand, are adequate in their roles, but neither their chemistry nor the plot left much of a mark with me. The film is noteworthy to me for only one aspect, Streisand's beautiful rendition of the Oscar winning song 'Evergreen'. She truly has a powerful and magnificent voice.                                                                                                                                                                                                                                                                                                                                                                                                                                                                                                                                                                                                                                                                                                                                                                                                                                                                                                                                                                                                                                                                                                                                                                                                                                                       \n",
            "3052     Oh, those sneaky Italians. It's not the first time they based a movie on source material without the permission or knowledge of the, in this case, author of the novel. Of course this is not something that is typically Italian but got done quite a lot in the early days of cinema, mostly because they often thought they would be able to get away with it. James M. Cain's publishers managed to keep this movie off American screens until 1976 but nevertheless the movie itself has grown a bit into a well known classic.<br /><br />The movie is not as great to watch as the 1946 American version but it's a great movie nevertheless. This of course not in the least is due to the movie it's great strong story, that is an intriguing one and provides the movie with some great characters and realism. It follows the novel quite closely and is therefore mostly the same as other movie versions of its story, with of course as a difference that it got set in an Italian environment.<br /><br />Leave it up to the Italians to make a movie about life and the real people in it. These early drama's always have a very realistic feeling over it and are therefore also quite involving to watch. Unfortunately the movie lost some of its power toward the end, when the movie started to feel a bit overlong and dragging in parts. The movie could had easily ended 15 minutes earlier.<br /><br />Nevertheless, I don't really have much else negative to say about this movie. It's simply a greatly made one, based on some equally great and strong source material. Quite an impressive directorial debut for Luchino Visconti, who continued to direct some many more great and memorable Italian dramatic movies.<br /><br />8/10                                                                                                                                                                                                                                                                                                                                                      \n",
            "10909    David Webb Peoples meets Paul Anderson...if it already sounds weird to you, then you are right, because it is.<br /><br />Peoples is known for his scripts with moral implications of what is right and wrong, the value of life, etc... He covered these issues in Bladerunner, Unforgiven, and pretty much in all of his screenplays there is something along those lines.<br /><br />Paul Anderson's first successful movie was a violent thriller. Not surprisingly so have all of his other movies! And here is a violent thriller with moral implications!<br /><br />Peoples' script is quite apparent in the first half of the movie. Soldiers trained from birth, taught to kill, and never had a normal life. They are replaced by better, genetically engineered soldiers and Todd, one of the original soldiers, is left on a planet and left for dead. There he must cope with a group of refugees, some want him to stay others hate him and there is an interesting drama here. BUT THEN...<br /><br />...The bullets start to fly as the new soldiers move onto the planet for a military exercise and try to kill all the people. Big, violent, loud action ensues and Peoples' script turns into an Anderson action-fest. It is hard to believe that the script was originally written that way, but the end product is better then I expected. Entertaining, somewhat, though admittedly not very, thought-provoking, and exciting once the action starts. 7/10<br /><br />Rated R: a lot of violence                                                                                                                                                                                                                                                                                                                                                                                                                                                                                                                                                                                                     \n",
            "7788     I had the privilege of seeing this film at a preview screening years ago, and outside the theater I was confronted by a camera crew from a local TV station looking for comments on the film. At the time, the only words that escaped my mouth were \\Awesome. Just awesome.\\\" I like to think I can articulate myself a little better than that, but at the time I was somewhat incapable of doing so.<br /><br />The story is intriguing and thought provoking, and the acting is first rate from all the principals. This film was the first one that Terry Gilliam directed that he didn't have a hand in the writing credit for. Back with Universal after his long, arduous battle with them over \\\"Brazil\\\", Terry had achieved what he wanted most; the \\\"final cut\\\". Terry is a master craftsman, and each shot is like a beautifully conceived painting that has been constructed carefully with determination and conviction. It is only justice that such an individual should be unfettered in his attempts to convey a concept. Unfortunately, limitations still exist in such arrangements.<br /><br />The Universal Collector's Edition DVD of this film is simply amazing, although most of the bonus features aren't listed on the box. It contains among other things, a director/producer audio commentary and an informative and extremely interesting 90 minute documentary on the making of the film called \\\"The Hamster Factor and Other Tales of 12 Monkeys\\\". It tells of some of the creative pitfalls in filmmaking, including a test of mettle when preview screenings tested poorly, striking the team with feelings of self-doubt and despair. Fortunately, for all of us, they decided to change very little about the film and released it to an enormous success. <br /><br />\"                                                                                                                                                                                                                                                                                                          \n",
            "5942     I cried my heart out, watching this movie. I have never suffered from any eating disorder, but I think this must be a very true picture.<br /><br />Alison Lohman is excellent! She expresses these feelings amazingly well. My teenage years came back to me so vividly. Anyone who has gone through difficult times as a child or teenager will be able to relate to this movie. I recommend you all to see it!<br /><br />The music is great too - I've now discovered Diana Lorden.<br /><br />I'm also looking forward to seeing Alison Lohman in White OlÃ©ander, because I am positive she is perfectly suited for the role as Agnes.                                                                                                                                                                                                                                                                                                                                                                                                                                                                                                                                                                                                                                                                                                                                                                                                                                                                                                                                                                                                                                                                                                                                                                                                                                                                                                                                                                                                                                                                                 \n",
            "Name: review, dtype: object\n",
            "7753     hardly a masterpiece not so well written beautiful cinematography i think not this movie wasn t too terrible but it wasn t that much better than average the main story dealing with highly immoral teens should have focused more on the forbidden romance and why this was should have really gotten into it instead of scraping the surface with basically because mom says we can t some parts should have been dropped altogether or reworked to have more importance to the plight of the two main characters couple times i was wondering if the writer director was a fan of george lucas classic american graffiti not that it s wrong to be a fan of that movie but to make your movie at times look like that i mean come on worst part of this was that madchen amick had such a small part i mean double come on she was the only one in one or two lines who actually tried a southern accent take a good listen it was there even though her character was from california doh maybe if she was the star others could have followed and we would have had a more authentically sounding movie oh well what can ya do when you have a director who s just a director and not an artist also too bad overall i give this a b and that s being a little generous cause i m partial to ms amick                                                                                                                                                                                                                                                                                                                                                                                                                                                                                                                                                                                                                                                                                                   \n",
            "13563    remember the name kevin lime and please please never lethim direct again timing pacing editing all hopelessly wrong three or four decent professionals next time guys walk off theset can do nothing to save this film from amateurs like aliceevans and the kind of production standards you d expect fromteen produced children s shows on british tv greatest mystery the music a score so inept inappropriate andill matched to the tone of the film that one seriously wonders if it isa case of sabotage add an acoustic that booms apparentlyunengineered from a single mike and a director who onlyintermittently remembers to add auditory action offscreen and wehave what must be on of the greatest ratio of money to result ofrecent years                                                                                                                                                                                                                                                                                                                                                                                                                                                                                                                                                                                                                                                                                                                                                                                                                                                                                                                                                                                                                                                                                                                                                                                                                                                      \n",
            "3730     i just saw this film tonight and i have to say that it s a mess i love vince vaughn but he ends up more annoying that funny here and the film is more than less a remake of the crappy 80 s classic santa claus the movie but with out the camp or the bad sheena easton song at the end the story is your run of the mill black sheep in the family who comes back to face his family for the holidays kind of thing but with north pole as its setting of course fred vince vaughn is the family screw up who comes home after a series of set backs that include his girlfriend rachel weisz in a cameo role dumping him so he comes home to face his parents and his more successful brother santa claus paul giamatti and wacky high jinks follow with a bit of sibling rivalry and a bit of anarky as well that threatens all of christmas now if you think you know the ending of this film i think you would be right because it s predicable to the hill as for the acting vince vaughn plays the same lovable loser he always plays but this time he ends up more annoying than likable miranda richardson plays mrs claus but the role is more than less one note elizabeth banks plays santa s assistant but she s not much of a character at all other than a neurotic joke and poor kevin spacey ends up basically playing the same person he plays in the film glengarry glen ross but a little more anal the only two actors who come out of this film with their dignity intact is paul giamatti who brings a real sincerity and warmed to his role as santa claus but he looks somewhat embarrass to be in the movie and you can t blame him and rachel weisz who manages to do a lot more with a very small role than most of the main actors do with theirs which is a shame because both rachel weisz and paul giamatti deserved a lot better than what this script gave them to put it in a nutshell a major disappointment                                                            \n",
            "3055     born again the limerick if a man could come back from the dead and live in a little girl s head revenge he would get for the murder he metby the guy that s now in his wife s bed for me born again is a highly under rated classic episode that makes up a part of what defined the x files for me before i started watching it i saw a few segments before when the show first came on and i was much too young to watch it such as parts of the jersey devil but i very specifically remember watching this episode as an 11 year old and being absolutely creeped out by the scene where they guy gets choked to death by the bus and then the hypnosis scene with the little girl i tell you i couldn t sleep for weeks for this reason the episode has a special aura about it now of the creepiness factor that i have since grown to enjoy its enough to let me look past some of the obvious flaws in the plot such as why the girl had to wait until she was 9 before her previous life spirit really began to exact his revenge or what she was doing just randomly sitting on a bus in the middle of the night you d think her parents would have been worried and maybe they were we just don t really see that part of the story and was was with the telekinesis other than adding the really cool carrie factor to the already creepy story there really wasn t any kind of good explanation for it but even with its little flaws in my mind this is a classic episode and has little to no reason for me to not like it 10 out of 10                                                                                                                                                                                                                                                                                                                                                                                                                                                       \n",
            "18368    this movie was a rather odd viewing experience the movie is obviously based on a play now i m sure that everything in this movie works out just fine in a play but for in a movie it just doesn t feel terribly interesting enough to watch the movie is way too stagey and they didn t even bothered to change some of the dialog to make it more fitting for a movie instead what is presented now is an almost literally re filming of a stage play with over the top characters and staged dialog because of all this the storyline really doesn t work out and the movie becomes an almost complete bore and obsolete viewing experience it takes a while before you figure out that this is a comedy you re watching at first you think its a drama you re watching with quirky characters in it but as the movie progresses you ll notice that the movie is more a tragicomedy that leans really more toward the comedy genre rather than the drama genre the characters and dialog are really the things that make this movie a quirky and over the top one that at times really become unwatchable sure the actors are great peter o toole and susannah york amongst others but they don t really uplift the movie to a level of watchable enough the story feels totally disorientated basicaly the story is about nothing and just mainly focuses on the brother sister characters played by peter o toole and susannah york but what exactly is the story even about the movie feels like a pointless and obsolete one that has very little to offer like i said before i m sure the story is good and interesting to watch on stage but as a movie it really isn t fitting and simply doesn t work out the editing is simply dreadful and times and it becomes even laughable bad in certain sequences more was to expect from director j lee thompson who has obviously done far better movies than this rather failed stage play translated to screen project really not worth your time 4 10 \n",
            "14218    i never saw the original 1954 version with judy garland so have no means of comparison also it s been some years but i found this tale neither gripping nor its romance captivating the movie tells the story of two lovers whose musical careers are headed in opposite directions john norman howard is a worn out disillusioned rock star on the decline embarking upon a romance with a fresh talented new singing sensation esther hoffman her dramatic success only serves to emphasize his decline the lead actors kris kristofferson and barbra streisand are adequate in their roles but neither their chemistry nor the plot left much of a mark with me the film is noteworthy to me for only one aspect streisand s beautiful rendition of the oscar winning song evergreen she truly has a powerful and magnificent voice                                                                                                                                                                                                                                                                                                                                                                                                                                                                                                                                                                                                                                                                                                                                                                                                                                                                                                                                                                                                                                                                                                                                                                       \n",
            "3052     oh those sneaky italians it s not the first time they based a movie on source material without the permission or knowledge of the in this case author of the novel of course this is not something that is typically italian but got done quite a lot in the early days of cinema mostly because they often thought they would be able to get away with it james m cain s publishers managed to keep this movie off american screens until 1976 but nevertheless the movie itself has grown a bit into a well known classic the movie is not as great to watch as the 1946 american version but it s a great movie nevertheless this of course not in the least is due to the movie it s great strong story that is an intriguing one and provides the movie with some great characters and realism it follows the novel quite closely and is therefore mostly the same as other movie versions of its story with of course as a difference that it got set in an italian environment leave it up to the italians to make a movie about life and the real people in it these early drama s always have a very realistic feeling over it and are therefore also quite involving to watch unfortunately the movie lost some of its power toward the end when the movie started to feel a bit overlong and dragging in parts the movie could had easily ended 15 minutes earlier nevertheless i don t really have much else negative to say about this movie it s simply a greatly made one based on some equally great and strong source material quite an impressive directorial debut for luchino visconti who continued to direct some many more great and memorable italian dramatic movies 8 10                                                                                                                                                                                                                                                                                                           \n",
            "10909    david webb peoples meets paul anderson if it already sounds weird to you then you are right because it is peoples is known for his scripts with moral implications of what is right and wrong the value of life etc he covered these issues in bladerunner unforgiven and pretty much in all of his screenplays there is something along those lines paul anderson s first successful movie was a violent thriller not surprisingly so have all of his other movies and here is a violent thriller with moral implications peoples script is quite apparent in the first half of the movie soldiers trained from birth taught to kill and never had a normal life they are replaced by better genetically engineered soldiers and todd one of the original soldiers is left on a planet and left for dead there he must cope with a group of refugees some want him to stay others hate him and there is an interesting drama here but then the bullets start to fly as the new soldiers move onto the planet for a military exercise and try to kill all the people big violent loud action ensues and peoples script turns into an anderson action fest it is hard to believe that the script was originally written that way but the end product is better then i expected entertaining somewhat though admittedly not very thought provoking and exciting once the action starts 7 10rated r a lot of violence                                                                                                                                                                                                                                                                                                                                                                                                                                                                                                                                                                                           \n",
            "7788     i had the privilege of seeing this film at a preview screening years ago and outside the theater i was confronted by a camera crew from a local tv station looking for comments on the film at the time the only words that escaped my mouth were awesome just awesome i like to think i can articulate myself a little better than that but at the time i was somewhat incapable of doing so the story is intriguing and thought provoking and the acting is first rate from all the principals this film was the first one that terry gilliam directed that he didn t have a hand in the writing credit for back with universal after his long arduous battle with them over brazil terry had achieved what he wanted most the final cut terry is a master craftsman and each shot is like a beautifully conceived painting that has been constructed carefully with determination and conviction it is only justice that such an individual should be unfettered in his attempts to convey a concept unfortunately limitations still exist in such arrangements the universal collector s edition dvd of this film is simply amazing although most of the bonus features aren t listed on the box it contains among other things a director producer audio commentary and an informative and extremely interesting 90 minute documentary on the making of the film called the hamster factor and other tales of 12 monkeys it tells of some of the creative pitfalls in filmmaking including a test of mettle when preview screenings tested poorly striking the team with feelings of self doubt and despair fortunately for all of us they decided to change very little about the film and released it to an enormous success                                                                                                                                                                                                                                                                          \n",
            "5942     i cried my heart out watching this movie i have never suffered from any eating disorder but i think this must be a very true picture alison lohman is excellent she expresses these feelings amazingly well my teenage years came back to me so vividly anyone who has gone through difficult times as a child or teenager will be able to relate to this movie i recommend you all to see it the music is great too i ve now discovered diana lorden i m also looking forward to seeing alison lohman in white olaander because i am positive she is perfectly suited for the role as agnes                                                                                                                                                                                                                                                                                                                                                                                                                                                                                                                                                                                                                                                                                                                                                                                                                                                                                                                                                                                                                                                                                                                                                                                                                                                                                                                                                                                                                 \n",
            "Name: review, dtype: object\n",
            "CPU times: user 16.8 ms, sys: 1.75 ms, total: 18.6 ms\n",
            "Wall time: 18.4 ms\n"
          ],
          "name": "stdout"
        },
        {
          "output_type": "stream",
          "text": [
            "/usr/local/lib/python3.6/dist-packages/ipykernel_launcher.py:6: FutureWarning: Passing a negative integer is deprecated in version 1.0 and will not be supported in future version. Instead, use None to not limit the column width.\n",
            "  \n"
          ],
          "name": "stderr"
        }
      ]
    },
    {
      "cell_type": "markdown",
      "metadata": {
        "id": "p6mimtiSLguB",
        "colab_type": "text"
      },
      "source": [
        "#### Prepare tokenizer"
      ]
    },
    {
      "cell_type": "code",
      "metadata": {
        "id": "ZsG38a0h8ywg",
        "colab_type": "code",
        "colab": {}
      },
      "source": [
        "import spacy\n",
        "from spacy.lang.en.stop_words import STOP_WORDS\n",
        "from spacy.lang.en import English\n",
        "import string\n",
        "from sklearn.base import TransformerMixin\n",
        "from nltk.tokenize.toktok import ToktokTokenizer\n",
        "\n",
        "\n",
        "punctuations = string.punctuation\n",
        "tokenizer = ToktokTokenizer()\n",
        "stop_words = spacy.lang.en.stop_words.STOP_WORDS\n",
        "parser = spacy.load(\"en_core_web_sm\")\n",
        "\n",
        "# Creating our tokenizer function\n",
        "def spacy_tokenizer(sentence):\n",
        "    sentence = remove_stopwords(sentence)\n",
        "    # Keep meaningfull words\n",
        "    # meaningfull_words = get_meaningfull_words(sentence)\n",
        "    # for word in meaningfull_words:\n",
        "    #   sentence = sentence.replace(word,'')\n",
        "    # Creating our token object, which is used to create documents with linguistic annotations.\n",
        "    tokens = parser(sentence)\n",
        "    # # Lemmatizing each token and converting each token into lowercase\n",
        "    tokens = [ word.lemma_.lower().strip() if word.lemma_ != \"-PRON-\" else word.lower_ for word in tokens ]\n",
        "    # tokens.extend(meaningfull_words)\n",
        "\n",
        "   # return preprocessed list of tokens\n",
        "    return tokens\n",
        "\n",
        "\n",
        "def spacy_filter_meaningfull_word_tokenizer(sentence):\n",
        "    sentence = remove_stopwords(sentence)\n",
        "    # Keep meaningfull words\n",
        "    meaningfull_words = get_meaningfull_words(sentence)\n",
        "    for word in meaningfull_words:\n",
        "      sentence = sentence.replace(word,'')\n",
        "    # Creating our token object, which is used to create documents with linguistic annotations.\n",
        "    tokens = parser(sentence)\n",
        "    # # Lemmatizing each token and converting each token into lowercase\n",
        "    tokens = [ word.lemma_.lower().strip() if word.lemma_ != \"-PRON-\" else word.lower_ for word in tokens ]\n",
        "    tokens.extend(meaningfull_words)\n",
        "\n",
        "   # return preprocessed list of tokens\n",
        "    return tokens\n",
        "\n",
        "def get_meaningfull_words(sentence):\n",
        "  parser = spacy.load(\"en_core_web_sm\")\n",
        "  tokens = parser(sentence)\n",
        "  return [ent.text for ent in tokens.ents]\n",
        "\n",
        "\n",
        "\n",
        "# # Removing Stopwords\n",
        "def remove_stopwords(text, is_lower_case=False):\n",
        "    tokens = tokenizer.tokenize(text)\n",
        "    tokens = [token.strip() for token in tokens]\n",
        "    if is_lower_case:\n",
        "        filtered_tokens = [token for token in tokens if token not in stop_words]\n",
        "    else:\n",
        "        filtered_tokens = [token for token in tokens if token.lower() not in stop_words]\n",
        "    filtered_text = ' '.join(filtered_tokens)    \n",
        "    return filtered_text\n",
        "\n",
        "\n",
        "\n",
        "# Custom transformer using spaCy\n",
        "class predictors(TransformerMixin):\n",
        "    def transform(self, X, **transform_params):\n",
        "        # Cleaning Text\n",
        "        return [clean_text(text) for text in X]\n",
        "\n",
        "    def fit(self, X, y=None, **fit_params):\n",
        "        return self\n",
        "\n",
        "    def get_params(self, deep=True):\n",
        "        return {}\n",
        "\n",
        "# Basic function to clean the text\n",
        "def clean_text(text):\n",
        "    # Removing spaces and converting text into lowercase\n",
        "    return text.strip().lower()\n"
      ],
      "execution_count": 0,
      "outputs": []
    },
    {
      "cell_type": "code",
      "metadata": {
        "id": "S0_TYgmnx1Y7",
        "colab_type": "code",
        "outputId": "5de75948-00bb-453e-eeeb-be92a8ac0086",
        "colab": {
          "base_uri": "https://localhost:8080/",
          "height": 498
        }
      },
      "source": [
        "%%time\n",
        "test = data['review'].sample(10)\n",
        "print_full(test)\n",
        "print_full(test.apply(preprocessor).apply(spacy_tokenizer))"
      ],
      "execution_count": 16,
      "outputs": [
        {
          "output_type": "stream",
          "text": [
            "/usr/local/lib/python3.6/dist-packages/ipykernel_launcher.py:6: FutureWarning: Passing a negative integer is deprecated in version 1.0 and will not be supported in future version. Instead, use None to not limit the column width.\n",
            "  \n"
          ],
          "name": "stderr"
        },
        {
          "output_type": "stream",
          "text": [
            "15186    \\Three Daring Daughters\\\" is a sickly sweet, rose-colored look at divorce, remarriage, and single-parent living. Obviously, social issues and economic difficulty have no place in the picture perfect life of a single parent mother who feels exhausted, takes a cruise, and then dates and marries a band conductor. Even when the \\\"its just a movie\\\" phrase excuses the script from addressing real-life problems, 'Daughters' suffers from too many incoherent high-note songs, children whose personalities are not based on real children and band leader Hose Iturbi playing himself. Isn't it bizarre that any real person would star in a film in which their supposed real self gets married? <br /><br />Admittedly, this movie was released in the nineteen forties. Only a love for old style Hollywood romance and comedy could make 'Daughters' a tolerable film.\"                                                                                                                                                                                                                                                                                                                                                                                                                                                                                                                                                                                                                                                                                                                                                                                                                                                                                                                                                                                                                                                                                                                                                                                                                                                                                                                                                                               \n",
            "716      OK, it was a good American Pie. Erick Stifler goes off to college with his buddy Cooze. During their arrival they meet up with Eric's cousin Dwight. The two pledge to become Betas and along the way they get involved with a whole lot of sex, tits, and some hot girls along the way. In a few words there is a lot more sex, nudity and alcohol. It is a good movie for those who want to enjoy an American Pie movie, granted it isn't as great as the first three is is a good movie. If you enjoy hot girls with really nice tits, get this movie. If you enjoy seeing a bunch of dudes making assholes of themselves, go to this movie. If you want to see the full thing, get the unrated addition. One last thing this is a better attempt than the last two American Pies.                                                                                                                                                                                                                                                                                                                                                                                                                                                                                                                                                                                                                                                                                                                                                                                                                                                                                                                                                                                                                                                                                                                                                                                                                                                                                                                                                                                                                                                                              \n",
            "991      The Booth puts a whole new twist on your typical J-horror movie. This movie puts you in the shoes of the protagonist of the story. The director wants you to see what the protagonist sees and thinks.<br /><br />The story is about perception of the people who works, lives, and loves of our protagonist, and how he perceives the people who surrounds him in an antiquated radio station DJ booth. The story peels back the layers of the main character like an onion in flash-backs as the movie runs its course, and from it we learned that things are not always the way it seems. The movie mostly took place in a small, out-dated radio station's studio with a very bad history, where the main character was forced to broadcast his talk show due to the radio station was in the process of re-locating. It is from this confined space that this movie thrives and makes you feel very claustrophobic and very paranoid. At time our protagonist can not determined the strange happenings in the old studio were caused by ghost or some conspiracy by his co-workers or it was all in his mind. What I like about this film is that the film-makers makes you see through the eyes of the main character and makes you just as paranoid as protagonist did. This movie is a very smart, abide rather short 76 minutes film.                                                                                                                                                                                                                                                                                                                                                                                                                                                                                                                                                                                                                                                                                                                                                                                                                                                                                                                   \n",
            "6919     Admittedly, Parsifal is not an opera that can appeal to everyone, although it is a favourite of mine, Knappertsbusch, 1951, in particular. Syberberg's entire approach is so static. Whenever the music suddenly begins to swell ... Syberberg keeps the cast moving at the same pace. The takes on Amfortas and Klingsor are endless. Whatever happened to film editing? The result is physically exhausting to watch. The viewer is never spiritually transported. Your impulse is to rush home and play a recording again to confirm that Wagner got it right, Syberberg got it wrong. And that set decoration with those \\clever\\\" reminders of Wagner's anti-Semitism -- will there ever be a viewer of this film with no prior knowledge of Wagner?\"                                                                                                                                                                                                                                                                                                                                                                                                                                                                                                                                                                                                                                                                                                                                                                                                                                                                                                                                                                                                                                                                                                                                                                                                                                                                                                                                                                                                                                                                                                         \n",
            "14587    I think the comments regarding the show being cheesy are a bit too exaggerated. When a person comes to watch a TV show, what does he look out for? It is to enjoy that he watches a show, unless he/she is a critic or a person who analyzes story. But most of us are not so and watch the shows to relax and enjoy. FULL HOUSE is an ideal show to watch after having a heavy day in the office/school. It makes you laugh and it is not just humor.<br /><br />Yes, the Tanner family is a perfect family, a perfectly hypothetical family. If any such family existed in real world, it would be a role model for us to follow. But this is a TV show, and not a real family, and there is nothing wrong in depicting a hypothetical family on television. The very fact that the show could run so long shows us that people enjoyed watching it, whatever be the comments later on.<br /><br />Another good point about the show is that any person of any age would not only enjoy watching it, but would take back a message however childish that message be. Those Jesse's talks with Michelle are extremely touching, if one doesn't think of it as childish.<br /><br />Overall I would say after watching every show of Full House, there is a contentment in your heart that is rarely present after many other shows.                                                                                                                                                                                                                                                                                                                                                                                                                                                                                                                                                                                                                                                                                                                                                                                                                                                                                                                               \n",
            "9092     This film makes you really appreciate the invention of the fast forward button on your remote control. It's exquisite boredom in beautiful pictures. For once Hamilton goes relatively easy on soft focus shots. However, what I found hard to take about the film was that although Anja SchÃ¼te was about 19 when it was shot the girls are portrayed as much younger than they actually are. This whole Lolita thing especially as there is an older man involved leaves me rather uneasy. The heroine is actually shaved in the pubic area in order to make her look even younger than she is. Come on, sex is a nice past time- between consenting adults. Another thing I found odd was that neither Beart nor SchÃ¼te have a nude scene in the film, well, not a proper one at least.                                                                                                                                                                                                                                                                                                                                                                                                                                                                                                                                                                                                                                                                                                                                                                                                                                                                                                                                                                                                                                                                                                                                                                                                                                                                                                                                                                                                                                                                       \n",
            "3839     This film, along with WESTFRONT 1918, are my favorite Pabst-directed films and I enjoyed them more than his much more famous films which starred Louise Brooks (such as PANDORA'S BOX). It's probably because both are very similar to the Neo-Realist films that the Italians perfected in the 1940s and 50s. This style film called for using non-actors (just typical folks) in everyday settings in order to create intensely involving and realistic films.<br /><br />In this case, the film is about French and German coal miners, so appropriately, the people in the roles seem like miners--not actors. The central conflict as the film begins is that there is a huge mine located on the Franco-German border. Instead of one big mine, it is divided at the border and German workers are not welcome in the French mine, despite there being greater unemployment in Germany. This, language differences (illustrated wonderfully in a dance hall scene) and WWI conspire to create a huge rift between the factions--resulting in a WE vs. THEY mentality. Later, an explosion causes a huge collapse in the French and the Germans refuse to sit back and do nothing. Risking their own lives, they prove that there is true comradeship between miners and men in general.<br /><br />The film is a strong criticism of xenophobia and tried, in vain, to get the German audiences to see the futility of war and hatred. It was a gorgeously moving film with some of the scariest and claustrophobic images I have ever seen. Considering history, though, the film's impact was minimal at best. It's a real shame, as like this one, WESTFRONT 1918, JÃACCUSE (Gance) and ALL QUIET ON THE WESTERN FRONT (Milestone) had great messages of peace and harmony but ultimately were failures in positively swaying public opinion. So, from a historical point of view, it's an amazing and sad relic that is well worth seeing.                                                                                                                                                                                                                                                                                                              \n",
            "5173     This is by far the worst movie I have ever seen!!!! <br /><br />I can honestly say I have never seen a movie worse than this one!!!<br /><br />AND I MEAN NEVER!!!!<br /><br />I'm a BIG fan of \\B\\\" horror movies. As you may imagine.... I've been exposed to some of worst that the movie industry has to offer.<br /><br />I was lured to this movie by it's title. I mean c'mon... what true fan of horror wouldn't be intrigued by a title like \\\"Vampires vs. Zombies\\\"??? Images of the \\\"undead\\\" battling each other to the \\\"undeath\\\" danced in my head. I thought to myself... \\\"this I've got to see\\\"!!!!<br /><br />Well.... sorry to say.... \\\"this I wish I hadn't seen\\\"!!!!!<br /><br />This movies title is very misleading to say the least. There was no vampires fighting zombies. In fact, there is no plot!!!! If you were to ask me what this movie is all about I could honestly tell you I have no idea!!!<br /><br />There was no plot!!!! <br /><br />There was no story!!!! <br /><br />This movie absolutely makes no sense at all!!!!<br /><br />At the end of this debacle... I found myself feeling sorry for the poor souls who had invested their money into this project for they surely have no business sense!!!\"                                                                                                                                                                                                                                                                                                                                                                                                                                                                                                                                                                                                                                                                                                                                                                                                                                                                                                                                                                                                         \n",
            "7345     How can anyone argue the fact that Urban Cowboy was, and still is, the best document of Texas life for the time period. Consider the following: men beat their wives, get drunk at bars nightly, get married to settle a fight, commit adultery, and compete on mechanical bulls. Try and name a movie that depicts real life so vividly. They dont make them anymore. It seems current films are always about people with lots of money, they live in huge homes, drive expensive cars and don't work. This movie has a celebration scene about getting a trailer for pete's sake !<br /><br />Anyway, I watch it at least once a week. No kidding. I have dissected this movie from end to end. feel free to email me to learn more about my reason for calling it a documentary. Consider the following scenes: Bud sees Sissy - they are split up - he amicably honks and waves, she flips him the bird - he returns half the peace sign honking his horn to add impact then tears off.<br /><br />Buds mom calls him approx. 18 hours after he gets into town, on a Sunday, to see if he has a job yet - all he has accomplished is getting drunk and laid(x2), with help from his uncle and aunt who cover for him.<br /><br />\\You all live like pigs\\\" Think about why this scene is needed. Think about it. Was it necessary ? Could we not figure it out without showing the filthy sink ? God I love that !<br /><br />Sissy allows Wes to help her ride the bull. Only a few days (or possibly the next day) after Wes just kicked the crap out of her husband. Steve asks - Hey Sissy, remember Wes ? Oh yeah, didnt you beat my husband up the other night, so let's get this lesson goin', to make no mention of the fact that she seeks solace in him later during one Bud and Sissy's many fights, which by the way all take place in public - in Gilley's !<br /><br />The Wedding reception picture taking session (oh the humanity !) could they at least arrange or move the chairs out of the way. \\\"My legs are sweatin' momma\\\"<br /><br />In conclusion, you don't put scenes like this in a movie to try and show insight into human psychology. It is a documentary of real life.<br /><br />I only wish there was a director's cut....\"\n",
            "4257     As the 2000's came to a close, king Kong's adopted daughter went ahead and made a tearful announcement her show as coming to an end.<br /><br />While Miss Winfrey was tearing up, i was laughing and screaming like a wild Indian from the old west.<br /><br />So what does Oprah do? she takes famous people, and puts them on her show. what kind of famous people? people who've suffered (just like her, except these people have lost more than their virginity) they've suffered melted faces (true story), missing limbs (True story, see end of paragraph), and spousal abuse (too many to count). and somehow they come on the show and tell their story, as if we haven't heard it before tons and tons of times (Bethany Hamilton, i've heard your tale about losing an arm to a shark since day one, which was October 31st, 2003. don't tell me you have no hard feelings.) But the biggest thing probably on Oprah was Michael Jackson's interview in 1993, after being accused of being a child molester. sadly, Mr. Jackson has since passed away. but that one particular show told about Michael's personal life, something not many people knew about at the time.<br /><br />Oprah's Real influence comes from middle aged women and soccer moms. They seem to think she's like a personal Jesus sometimes. but all i see in Oprah is some big ghetto lady who made it big, and she's just showing off how rich she is.<br /><br />I'm glad her shows going to end soon. we need better television programs.                                                                                                                                                                                                                                                                                                                                                                                                                                                                                                                                                                                                                                                                                                                                 \n",
            "Name: review, dtype: object\n",
            "15186    [dare, daughter, sickly, sweet, rise, colored, look, divorce, remarriage, single, parent, live, obviously, social, issue, economic, difficulty, place, picture, perfect, life, single, parent, mother, feel, exhausted, take, cruise, date, marrie, band, conductor, movie, phrase, excuse, script, address, real, life, problem, daughter, suffer, incoherent, high, note, song, child, personality, base, real, child, band, leader, hose, iturbi, play, isn, t, bizarre, real, person, star, film, suppose, real, self, get, marry, admittedly, movie, release, nineteen, forty, love, old, style, hollywood, romance, comedy, daughter, tolerable, film]                                                                                                                                               \n",
            "716      [ok, good, american, pie, erick, stifler, go, college, buddy, cooze, arrival, meet, eric, s, cousin, dwight, pledge, beta, way, involve, lot, sex, tit, hot, girl, way, word, lot, sex, nudity, alcohol, good, movie, want, enjoy, american, pie, movie, grant, isn, t, great, good, movie, enjoy, hot, girl, nice, tit, movie, enjoy, see, bunch, dude, make, asshole, movie, want, thing, unrated, addition, thing, well, attempt, american, pie]                                                                                                                                                                                                                                                                                                                                                        \n",
            "991      [booth, put, new, twist, typical, j, horror, movie, movie, put, shoe, protagonist, story, director, want, protagonist, see, think, story, perception, people, work, live, love, protagonist, perceive, people, surrounds, antiquated, radio, station, dj, booth, story, peel, layer, main, character, like, onion, flash, back, movie, run, course, learn, thing, way, movie, take, place, small, date, radio, station, s, studio, bad, history, main, character, force, broadcast, talk, radio, station, process, locating, confine, space, movie, thrive, make, feel, claustrophobic, paranoid, time, protagonist, determine, strange, happening, old, studio, cause, ghost, conspiracy, co, worker, mind, like, film, film, maker, make, eye, main, character, make, paranoid, protagonist, ...]        \n",
            "6919     [admittedly, parsifal, opera, appeal, favourite, knappertsbusch, 1951, particular, syberberg, s, entire, approach, static, music, suddenly, begin, swell, syberberg, keep, cast, move, pace, take, amfortas, klingsor, endless, happen, film, editing, result, physically, exhausting, watch, viewer, spiritually, transport, impulse, rush, home, play, recording, confirm, wagner, get, right, syberberg, get, wrong, set, decoration, clever, reminder, wagner, s, anti, semitism, viewer, film, prior, knowledge, wagner]                                                                                                                                                                                                                                                                              \n",
            "14587    [think, comment, cheesy, bit, exaggerated, person, come, watch, tv, look, enjoy, watch, critic, person, analyze, story, watch, show, relax, enjoy, house, ideal, watch, have, heavy, day, office, school, make, laugh, humor, yes, tanner, family, perfect, family, perfectly, hypothetical, family, family, exist, real, world, role, model, follow, tv, real, family, wrong, depict, hypothetical, family, television, fact, run, long, show, people, enjoy, watch, comment, later, good, point, person, age, enjoy, watch, message, childish, message, jesse, s, talk, michelle, extremely, touching, doesn, t, think, childish, overall, watch, house, contentment, heart, rarely, present, show]                                                                                                      \n",
            "9092     [film, make, appreciate, invention, fast, forward, button, remote, control, s, exquisite, boredom, beautiful, pictures, hamilton, go, relatively, easy, soft, focus, shot, find, hard, film, anja, scha14te, 19, shoot, girl, portray, young, actually, lolita, thing, especially, old, man, involve, leave, uneasy, heroine, actually, shave, pubic, area, order, look, young, come, sex, nice, past, time, consent, adult, thing, find, odd, beart, scha14te, nude, scene, film, proper]                                                                                                                                                                                                                                                                                                                 \n",
            "3839     [film, westfront, 1918, favorite, pabst, direct, film, enjoy, famous, film, star, louise, brooks, pandora, s, box, s, probably, similar, neo, realist, film, italian, perfect, 1940, 50s, style, film, call, non, actor, typical, folk, everyday, setting, order, create, intensely, involve, realistic, film, case, film, french, german, coal, miner, appropriately, people, role, like, miner, actor, central, conflict, film, begin, huge, locate, franco, german, border, instead, big, divide, border, german, worker, welcome, french, despite, great, unemployment, germany, language, difference, illustrate, wonderfully, dance, hall, scene, wwi, conspire, create, huge, rift, faction, result, vs, mentality, later, explosion, cause, huge, collapse, french, german, refuse, sit, risk, ...]\n",
            "5173     [far, bad, movie, see, honestly, see, movie, bad, mean, m, big, fan, b, horror, movie, imagine, ve, expose, bad, movie, industry, offer, lure, movie, s, title, mean, c, mon, true, fan, horror, wouldn, t, intrigue, title, like, vampire, vs, zombie, image, undead, battle, undeath, dance, head, think, ve, get, sorry, wish, hadn, t, see, movie, title, misleading, vampire, fight, zombie, fact, plot, ask, movie, honestly, tell, idea, plot, story, movie, absolutely, make, sense, end, debacle, find, feel, sorry, poor, soul, invest, money, project, surely, business, sense]                                                                                                                                                                                                                 \n",
            "7345     [argue, fact, urban, cowboy, good, document, texas, life, time, period, consider, follow, man, beat, wife, drunk, bar, nightly, marry, settle, fight, commit, adultery, compete, mechanical, bull, try, movie, depict, real, life, vividly, do, not, anymore, current, film, people, lot, money, live, huge, home, drive, expensive, car, don, t, work, movie, celebration, scene, get, trailer, pete, s, sake, watch, week, kid, dissect, movie, end, end, feel, free, email, learn, reason, call, documentary, consider, follow, scene, bud, see, sissy, split, amicably, honk, wave, flip, bird, return, half, peace, sign, honk, horn, add, impact, tear, bud, mom, call, approx, 18, hour, get, town, ...]                                                                                            \n",
            "4257     [2000, s, come, close, king, kong, s, adopt, daughter, go, ahead, tearful, announcement, come, end, miss, winfrey, tear, laugh, scream, like, wild, indian, old, west, oprah, take, famous, people, put, kind, famous, people, people, ve, suffer, like, people, lose, virginity, ve, suffer, melted, face, true, story, miss, limbs, true, story, end, paragraph, spousal, abuse, count, come, tell, story, haven, t, hear, ton, ton, time, bethany, hamilton, ve, hear, tale, lose, arm, shark, day, october, 31st, 2003, don, t, tell, hard, feeling, big, thing, probably, oprah, michael, jackson, s, interview, 1993, accuse, child, molester, sadly, mr, jackson, pass, away, particular, tell, ...]                                                                                                \n",
            "Name: review, dtype: object\n",
            "CPU times: user 362 ms, sys: 5.06 ms, total: 368 ms\n",
            "Wall time: 370 ms\n"
          ],
          "name": "stdout"
        }
      ]
    },
    {
      "cell_type": "markdown",
      "metadata": {
        "id": "xpOHUj0QLguG",
        "colab_type": "text"
      },
      "source": [
        "### Split train and test sample"
      ]
    },
    {
      "cell_type": "code",
      "metadata": {
        "colab_type": "code",
        "id": "WNtEA36onDhi",
        "colab": {}
      },
      "source": [
        "# split the dataset in train and test\n",
        "# Your code here\n",
        "from sklearn.model_selection import train_test_split\n",
        "X = data['review']\n",
        "y = data['sentiment']\n",
        "X_train,X_test,y_train, y_test = train_test_split(X,y,test_size=0.2)\n"
      ],
      "execution_count": 0,
      "outputs": []
    },
    {
      "cell_type": "code",
      "metadata": {
        "id": "8dQObRO_BBFb",
        "colab_type": "code",
        "outputId": "72408c96-1e77-469a-e21d-fc1c10b287e7",
        "colab": {
          "base_uri": "https://localhost:8080/",
          "height": 87
        }
      },
      "source": [
        "print(X.shape)\n",
        "print(y.shape)\n",
        "print(X_train.shape)\n",
        "print(y_train.shape)"
      ],
      "execution_count": 18,
      "outputs": [
        {
          "output_type": "stream",
          "text": [
            "(22500,)\n",
            "(22500,)\n",
            "(18000,)\n",
            "(18000,)\n"
          ],
          "name": "stdout"
        }
      ]
    },
    {
      "cell_type": "markdown",
      "metadata": {
        "id": "96CGvWnKLguJ",
        "colab_type": "text"
      },
      "source": [
        "### Classification\n",
        "\n"
      ]
    },
    {
      "cell_type": "code",
      "metadata": {
        "id": "mrKUekdZKVWx",
        "colab_type": "code",
        "colab": {}
      },
      "source": [
        "from sklearn.model_selection import GridSearchCV\n",
        "from sklearn.linear_model import LogisticRegression\n",
        "from sklearn.model_selection import GridSearchCV \n",
        "from sklearn.pipeline import Pipeline\n",
        "from sklearn import metrics\n",
        "from sklearn.feature_extraction.text import TfidfVectorizer\n",
        "from sklearn.externals.joblib import Memory\n",
        "tfidf_vector = TfidfVectorizer(tokenizer = spacy_tokenizer,preprocessor=preprocessor,\n",
        "                               ngram_range=(1,1), max_df = 0.5, min_df = 1,sublinear_tf=True)\n",
        "\n",
        "log_reg = LogisticRegression(n_jobs=-1,random_state=0,C=3.5938136638046276)\n",
        "tfidf_pipe =  Pipeline([(\"cleaner\", predictors()),\n",
        "                 ('vect', tfidf_vector),\n",
        "                 ('clf', log_reg)],memory = Memory(location='/content/cache'))\n"
      ],
      "execution_count": 0,
      "outputs": []
    },
    {
      "cell_type": "code",
      "metadata": {
        "id": "DFGMpcD4yVbF",
        "colab_type": "code",
        "outputId": "865b786b-ffca-4d72-ff80-b61645decb9a",
        "colab": {
          "base_uri": "https://localhost:8080/",
          "height": 1000
        }
      },
      "source": [
        "%%time\n",
        "# Train model\n",
        "\n",
        "# model generation\n",
        "tfidf_pipe.fit(X_train,y_train)\n",
        "# Predict\n",
        "\n",
        "tfidf_pipe_predictions = tfidf_pipe.predict(X_test)\n",
        "# Evaluate\n",
        "print(\"Logistic Regression Accuracy:\",metrics.accuracy_score(y_test, tfidf_pipe_predictions))\n",
        "print(\"Logistic Regression Precision:\",metrics.precision_score(y_test, tfidf_pipe_predictions))\n",
        "print(\"Logistic Regression Recall:\",metrics.recall_score(y_test, tfidf_pipe_predictions))"
      ],
      "execution_count": 29,
      "outputs": [
        {
          "output_type": "stream",
          "text": [
            "________________________________________________________________________________\n",
            "[Memory] Calling sklearn.pipeline._fit_transform_one...\n",
            "_fit_transform_one(<__main__.predictors object at 0x7fb149ad55f8>, 10485    I was always a big fan of this movie, first of...\n",
            "15329    Considering the big name cast and lavish produ...\n",
            "2294     Part II or formerly known as GUERILLA, is also...\n",
            "6986     Unlike other commenters who have commented on ...\n",
            "12690    Redundant, but again the case. If you enjoy th...\n",
            "                               ...                        \n",
            "5265     I really enjoyed \\Doctor Mordrid\\\". This is a ...\n",
            "19111    Here's a horror version of PRISCILLA: QUEEN OF...\n",
            "14721    There are movies, and there are films. Movies ...\n",
            "1662     I love killer Insects movies they are great fu...\n",
            "18206    This project was originally conceived as the m...\n",
            "Name: review, Length: 18000, dtype: object, \n",
            "10485    1\n",
            "15329    1\n",
            "2294     1\n",
            "6986     1\n",
            "12690    0\n",
            "        ..\n",
            "5265     1\n",
            "19111    0\n",
            "14721    1\n",
            "1662     0\n",
            "18206    1\n",
            "Name: sentiment, Length: 18000, dtype: int64, \n",
            "None, message_clsname='Pipeline', message=None)\n",
            "________________________________________________fit_transform_one - 0.3s, 0.0min\n",
            "________________________________________________________________________________\n",
            "[Memory] Calling sklearn.pipeline._fit_transform_one...\n",
            "_fit_transform_one(TfidfVectorizer(analyzer='word', binary=False, decode_error='strict',\n",
            "                dtype=<class 'numpy.float64'>, encoding='utf-8',\n",
            "                input='content', lowercase=True, max_df=0.5, max_features=None,\n",
            "                min_df=1, ngram_range=(1, 1), norm='l2',\n",
            "                preprocessor=<function preprocessor at 0x7fb1523b6c80>,\n",
            "                smooth_idf=True, stop_words=None, strip_accents=None,\n",
            "                sublinear_tf=True, token_pattern='(?u)\\\\b\\\\w\\\\w+\\\\b',\n",
            "                tokenizer=<function spacy_tokenizer at 0x7fb15340b6a8>,\n",
            "                use_idf=True, vocabulary=None), \n",
            "[ 'i was always a big fan of this movie, first of all have you seen the cast, '\n",
            "  'the acting is superb and help make this movie move along very well. cybill '\n",
            "  'shepherd was given great reviews for her role, and they were well deserved. '\n",
            "  'the beginning of this movie starts in the past when corinne jeffries '\n",
            "  '(cybill) whose picture-perfect marriage comes to a shattering halt when her '\n",
            "  'husband louie dies unexpectedly. fortunately, louse gets a second shot at '\n",
            "  'life when he agrees to be \\\\recycled\\\\\" back to earth as the newborn alex '\n",
            "  'finch (robert downey, jr). alex goes on to live his new life forgetting his '\n",
            "  'past life while corinne tries to get on with hers. but fate cr..., \n",
            "10485    1\n",
            "15329    1\n",
            "2294     1\n",
            "6986     1\n",
            "12690    0\n",
            "        ..\n",
            "5265     1\n",
            "19111    0\n",
            "14721    1\n",
            "1662     0\n",
            "18206    1\n",
            "Name: sentiment, Length: 18000, dtype: int64, \n",
            "None, message_clsname='Pipeline', message=None)\n",
            "______________________________________________fit_transform_one - 454.3s, 7.6min\n"
          ],
          "name": "stdout"
        },
        {
          "output_type": "stream",
          "text": [
            "/usr/local/lib/python3.6/dist-packages/sklearn/pipeline.py:315: UserWarning: Persisting input arguments took 7.12s to run.\n",
            "If this happens often in your code, it can cause performance problems \n",
            "(results will be correct in all cases). \n",
            "The reason for this is probably some large input arguments for a wrapped\n",
            " function (e.g. large strings).\n",
            "THIS IS A JOBLIB ISSUE. If you can, kindly provide the joblib's team with an\n",
            " example so that they can fix the problem.\n",
            "  **fit_params_steps[name])\n"
          ],
          "name": "stderr"
        },
        {
          "output_type": "stream",
          "text": [
            "Logistic Regression Accuracy: 0.8946666666666667\n",
            "Logistic Regression Precision: 0.8860149057430952\n",
            "Logistic Regression Recall: 0.9042505592841164\n",
            "CPU times: user 9min 27s, sys: 1.82 s, total: 9min 29s\n",
            "Wall time: 9min 31s\n"
          ],
          "name": "stdout"
        }
      ]
    },
    {
      "cell_type": "code",
      "metadata": {
        "id": "Oc0S6CaqWhah",
        "colab_type": "code",
        "colab": {
          "base_uri": "https://localhost:8080/",
          "height": 238
        },
        "outputId": "3077a9dc-6a7e-4c30-8dd2-aa67746587bd"
      },
      "source": [
        "tfidf_filter_vector = TfidfVectorizer(tokenizer = spacy_filter_meaningfull_word_tokenizer,preprocessor=preprocessor,\n",
        "                               ngram_range=(1,1), max_df = 0.5, min_df = 1,sublinear_tf=True)\n",
        "\n",
        "log_reg = LogisticRegression(n_jobs=-1,random_state=0,C=3.5938136638046276)\n",
        "tfidf_filter_pipe =  Pipeline([(\"cleaner\", predictors()),\n",
        "                 ('vect', tfidf_filter_vector),\n",
        "                 ('clf', log_reg)],memory = Memory(location='/content/cache'))\n"
      ],
      "execution_count": 1,
      "outputs": [
        {
          "output_type": "error",
          "ename": "NameError",
          "evalue": "ignored",
          "traceback": [
            "\u001b[0;31m---------------------------------------------------------------------------\u001b[0m",
            "\u001b[0;31mNameError\u001b[0m                                 Traceback (most recent call last)",
            "\u001b[0;32m<ipython-input-1-f154c8dea457>\u001b[0m in \u001b[0;36m<module>\u001b[0;34m()\u001b[0m\n\u001b[0;32m----> 1\u001b[0;31m tfidf_filter_vector = TfidfVectorizer(tokenizer = spacy_filter_meaningfull_word_tokenizer,preprocessor=preprocessor,\n\u001b[0m\u001b[1;32m      2\u001b[0m                                ngram_range=(1,1), max_df = 0.5, min_df = 1,sublinear_tf=True)\n\u001b[1;32m      3\u001b[0m \u001b[0;34m\u001b[0m\u001b[0m\n\u001b[1;32m      4\u001b[0m \u001b[0mlog_reg\u001b[0m \u001b[0;34m=\u001b[0m \u001b[0mLogisticRegression\u001b[0m\u001b[0;34m(\u001b[0m\u001b[0mn_jobs\u001b[0m\u001b[0;34m=\u001b[0m\u001b[0;34m-\u001b[0m\u001b[0;36m1\u001b[0m\u001b[0;34m,\u001b[0m\u001b[0mrandom_state\u001b[0m\u001b[0;34m=\u001b[0m\u001b[0;36m0\u001b[0m\u001b[0;34m,\u001b[0m\u001b[0mC\u001b[0m\u001b[0;34m=\u001b[0m\u001b[0;36m3.5938136638046276\u001b[0m\u001b[0;34m)\u001b[0m\u001b[0;34m\u001b[0m\u001b[0;34m\u001b[0m\u001b[0m\n\u001b[1;32m      5\u001b[0m tfidf_filter_pipe =  Pipeline([(\"cleaner\", predictors()),\n",
            "\u001b[0;31mNameError\u001b[0m: name 'TfidfVectorizer' is not defined"
          ]
        }
      ]
    },
    {
      "cell_type": "code",
      "metadata": {
        "id": "gavVRv0rW8E2",
        "colab_type": "code",
        "outputId": "ab67b74f-6c8f-49b9-f35e-67fedcb0f011",
        "colab": {
          "base_uri": "https://localhost:8080/",
          "height": 1000
        }
      },
      "source": [
        "%%time\n",
        "# Train model\n",
        "\n",
        "# model generation\n",
        "tfidf_filter_pipe.fit(X_train,y_train)\n",
        "# Predict\n",
        "\n",
        "tfidf_filter_pipe_predictions = tfidf_filter_pipe.predict(X_test)\n",
        "# Evaluate\n",
        "print(\"Logistic Regression Accuracy:\",metrics.accuracy_score(y_test, tfidf_filter_pipe_predictions))\n",
        "print(\"Logistic Regression Precision:\",metrics.precision_score(y_test, tfidf_filter_pipe_predictions))\n",
        "print(\"Logistic Regression Recall:\",metrics.recall_score(y_test, tfidf_filter_pipe_predictions))"
      ],
      "execution_count": 0,
      "outputs": [
        {
          "output_type": "stream",
          "text": [
            "________________________________________________________________________________\n",
            "[Memory] Calling sklearn.pipeline._fit_transform_one...\n",
            "_fit_transform_one(<__main__.predictors object at 0x7f4563867940>, 19716    The Little Mermaid is one of my absolute favor...\n",
            "5938     \\Whipped\\\" is one of the most awful films of a...\n",
            "15650    Dennis Hopper is without a doubt one of the fi...\n",
            "5065     Madhur Bhandarkar goes all out to touch upon t...\n",
            "2850     A bondage, humiliation, S&M show, and not much...\n",
            "                               ...                        \n",
            "2387     the Germans all stand out in the open and get ...\n",
            "16957    I expected a comedy like the \\Big Mama\\\" movie...\n",
            "21559    As soon as I heard about this film I knew I ha...\n",
            "3262     A plot that fizzled and reeked of irreconcilab...\n",
            "19884    I am a guy, who loves guy movies... I was look...\n",
            "Name: review, Length: 18000, dtype: object, \n",
            "19716    0\n",
            "5938     0\n",
            "15650    0\n",
            "5065     1\n",
            "2850     0\n",
            "        ..\n",
            "2387     0\n",
            "16957    0\n",
            "21559    1\n",
            "3262     0\n",
            "19884    0\n",
            "Name: sentiment, Length: 18000, dtype: int64, \n",
            "None, message_clsname='Pipeline', message=None)\n",
            "________________________________________________fit_transform_one - 0.4s, 0.0min\n",
            "________________________________________________________________________________\n",
            "[Memory] Calling sklearn.pipeline._fit_transform_one...\n",
            "_fit_transform_one(TfidfVectorizer(analyzer='word', binary=False, decode_error='strict',\n",
            "                dtype=<class 'numpy.float64'>, encoding='utf-8',\n",
            "                input='content', lowercase=True, max_df=0.5, max_features=None,\n",
            "                min_df=1, ngram_range=(1, 1), norm='l2',\n",
            "                preprocessor=<function preprocessor at 0x7f4562f5e7b8>,\n",
            "                smooth_idf=True, stop_words=None, strip_accents=None,\n",
            "                sublinear_tf=True, token_pattern='(?u)\\\\b\\\\w\\\\w+\\\\b',\n",
            "                tokenizer=<function spacy_filter_meaningfull_word_tokenizer at 0x7f4565334bf8>,\n",
            "                use_idf=True, vocabulary=None), \n",
            "[ \"the little mermaid is one of my absolute favorite disney movies. i'm sorry \"\n",
            "  'to say, however, that disney completely messed up when they made this '\n",
            "  \"sequel. i'll admit it has some good points to it. the songs aren't bad, and \"\n",
            "  \"the animation is clean and clear. there is some humor, i'm sure--i don't \"\n",
            "  'remember, because after watching it i immediately banned it from appearing '\n",
            "  'before my eyes again. the worst point of this movie is the plot. in this '\n",
            "  'movie, ariel becomes her father. she forbids her daughter to go near the '\n",
            "  'sea (yes, out of fear), just as she was forbidden to go near the land. i '\n",
            "  'personally think that, given her past, ariel would maintain some of h..., \n",
            "19716    0\n",
            "5938     0\n",
            "15650    0\n",
            "5065     1\n",
            "2850     0\n",
            "        ..\n",
            "2387     0\n",
            "16957    0\n",
            "21559    1\n",
            "3262     0\n",
            "19884    0\n",
            "Name: sentiment, Length: 18000, dtype: int64, \n",
            "None, message_clsname='Pipeline', message=None)\n"
          ],
          "name": "stdout"
        }
      ]
    },
    {
      "cell_type": "code",
      "metadata": {
        "id": "Pw0l8fd8BlfJ",
        "colab_type": "code",
        "colab": {}
      },
      "source": [
        "# Create hyperparameter options\n",
        "# Create regularization hyperparameter space\n",
        "C = np.logspace(-5,5,10)\n",
        "ngram_range = [(1,1),(1,2),(1,3),(2,2),(2,3)]\n",
        "max_df = (0.25,0.5,0.75,1)\n",
        "min_df = (0.25,0.5,0.75,1)\n",
        "binary = (True,False)\n",
        "norm = ('l1','l2')\n",
        "use_idf = (True,False)\n",
        "smooth_idf = (True,False)\n",
        "sublinear_tf = (True,False)\n",
        "\n",
        "param_grid = {\n",
        "  'clf__C': C,\n",
        "  # 'vect__ngram_range': ngram_range,\n",
        "  # 'vect__max_df': max_df,'vect__min_df': min_df\n",
        "  # 'vect__binary': binary, 'vect__norm': norm,\n",
        "  # 'vect__use_idf': use_idf, 'vect__smooth_idf': smooth_idf,\n",
        "  # 'vect__sublinear_tf':  sublinear_tf\n",
        "}\n",
        "gs = GridSearchCV(tfidf_filter_pipe, param_grid,n_jobs=-1 ,cv=5, verbose=1)\n"
      ],
      "execution_count": 0,
      "outputs": []
    },
    {
      "cell_type": "code",
      "metadata": {
        "id": "8S2FrL9nLCC5",
        "colab_type": "code",
        "outputId": "7e53746e-fd34-4aba-c0e1-4b4dd6a4578b",
        "colab": {
          "base_uri": "https://localhost:8080/",
          "height": 1000
        }
      },
      "source": [
        "from sklearn.externals.joblib import parallel_backend\n",
        "\n",
        "# model generation\n",
        "with parallel_backend('multiprocessing'):\n",
        "  gs.fit(X_train,y_train)"
      ],
      "execution_count": 0,
      "outputs": [
        {
          "output_type": "stream",
          "text": [
            "Fitting 5 folds for each of 10 candidates, totalling 50 fits\n"
          ],
          "name": "stdout"
        },
        {
          "output_type": "stream",
          "text": [
            "[Parallel(n_jobs=-1)]: Using backend MultiprocessingBackend with 2 concurrent workers.\n"
          ],
          "name": "stderr"
        },
        {
          "output_type": "stream",
          "text": [
            "________________________________________________________________________________\n",
            "[Memory] Calling sklearn.pipeline._fit_transform_one...\n",
            "_fit_transform_one(<__main__.predictors object at 0x7fb151b18358>, 9370     I might not be a huge admirer of the original ...\n",
            "16239    Watch the Original with the same title from 19...\n",
            "10757    I rarely write a negative review for this site...\n",
            "6969     This is the best movie I've seen since White a...\n",
            "14159    I started to watch this movie expecting nothin...\n",
            "                               ...                        \n",
            "5265     I really enjoyed \\Doctor Mordrid\\\". This is a ...\n",
            "19111    Here's a horror version of PRISCILLA: QUEEN OF...\n",
            "14721    There are movies, and there are films. Movies ...\n",
            "1662     I love killer Insects movies they are great fu...\n",
            "18206    This project was originally conceived as the m...\n",
            "Name: review, Length: 14400, dtype: object, \n",
            "9370     0\n",
            "16239    0\n",
            "10757    0\n",
            "6969     1\n",
            "14159    1\n",
            "        ..\n",
            "5265     1\n",
            "19111    0\n",
            "14721    1\n",
            "1662     0\n",
            "18206    1\n",
            "Name: sentiment, Length: 14400, dtype: int64, \n",
            "None, message_clsname='Pipeline', message=None)\n",
            "________________________________________________________________________________\n",
            "[Memory] Calling sklearn.pipeline._fit_transform_one...\n",
            "_fit_transform_one(<__main__.predictors object at 0x7fb151b18b38>, 10485    I was always a big fan of this movie, first of...\n",
            "15329    Considering the big name cast and lavish produ...\n",
            "2294     Part II or formerly known as GUERILLA, is also...\n",
            "6986     Unlike other commenters who have commented on ...\n",
            "12690    Redundant, but again the case. If you enjoy th...\n",
            "                               ...                        \n",
            "5265     I really enjoyed \\Doctor Mordrid\\\". This is a ...\n",
            "19111    Here's a horror version of PRISCILLA: QUEEN OF...\n",
            "14721    There are movies, and there are films. Movies ...\n",
            "1662     I love killer Insects movies they are great fu...\n",
            "18206    This project was originally conceived as the m...\n",
            "Name: review, Length: 14400, dtype: object, \n",
            "10485    1\n",
            "15329    1\n",
            "2294     1\n",
            "6986     1\n",
            "12690    0\n",
            "        ..\n",
            "5265     1\n",
            "19111    0\n",
            "14721    1\n",
            "1662     0\n",
            "18206    1\n",
            "Name: sentiment, Length: 14400, dtype: int64, \n",
            "None, message_clsname='Pipeline', message=None)\n",
            "________________________________________________fit_transform_one - 0.5s, 0.0min\n",
            "________________________________________________fit_transform_one - 0.5s, 0.0min\n",
            "________________________________________________________________________________\n",
            "[Memory] Calling sklearn.pipeline._fit_transform_one...\n",
            "_fit_transform_one(TfidfVectorizer(analyzer='word', binary=False, decode_error='strict',\n",
            "                dtype=<class 'numpy.float64'>, encoding='utf-8',\n",
            "                input='content', lowercase=True, max_df=0.5, max_features=None,\n",
            "                min_df=1, ngram_range=(1, 1), norm='l2',\n",
            "                preprocessor=<function preprocessor at 0x7fb1523b6c80>,\n",
            "                smooth_idf=True, stop_words=None, strip_accents=None,\n",
            "                sublinear_tf=True, token_pattern='(?u)\\\\b\\\\w\\\\w+\\\\b',\n",
            "                tokenizer=<function spacy_filter_meaningfull_word_tokenizer at 0x7fb15340b9d8>,\n",
            "                use_idf=True, vocabulary=None), \n",
            "[ 'i might not be a huge admirer of the original \\\\creepshow\\\\\", but its '\n",
            "  'trashy sequel makes that anthology look like perfection! and to think i was '\n",
            "  'going into this expecting to like this one more. five years after its '\n",
            "  'predecessor, george romero gets back on board the ec comic style trail and '\n",
            "  \"on this outing pens the screenplay for steve king's three stories. though, \"\n",
            "  'the direction is handed off to michael gornick. the film mostly falters in '\n",
            "  'that aspect with uneven brushes by gornick. but most of the blame would '\n",
            "  \"have to go to romero's dreadfully static and unbearably cringe-like script \"\n",
            "  '(especially in those dialogues streaming through the first and final ..., \n",
            "9370     0\n",
            "16239    0\n",
            "10757    0\n",
            "6969     1\n",
            "14159    1\n",
            "        ..\n",
            "5265     1\n",
            "19111    0\n",
            "14721    1\n",
            "1662     0\n",
            "18206    1\n",
            "Name: sentiment, Length: 14400, dtype: int64, \n",
            "None, message_clsname='Pipeline', message=None)\n",
            "________________________________________________________________________________\n",
            "[Memory] Calling sklearn.pipeline._fit_transform_one...\n",
            "_fit_transform_one(TfidfVectorizer(analyzer='word', binary=False, decode_error='strict',\n",
            "                dtype=<class 'numpy.float64'>, encoding='utf-8',\n",
            "                input='content', lowercase=True, max_df=0.5, max_features=None,\n",
            "                min_df=1, ngram_range=(1, 1), norm='l2',\n",
            "                preprocessor=<function preprocessor at 0x7fb1523b6c80>,\n",
            "                smooth_idf=True, stop_words=None, strip_accents=None,\n",
            "                sublinear_tf=True, token_pattern='(?u)\\\\b\\\\w\\\\w+\\\\b',\n",
            "                tokenizer=<function spacy_filter_meaningfull_word_tokenizer at 0x7fb15340b9d8>,\n",
            "                use_idf=True, vocabulary=None), \n",
            "[ 'i was always a big fan of this movie, first of all have you seen the cast, '\n",
            "  'the acting is superb and help make this movie move along very well. cybill '\n",
            "  'shepherd was given great reviews for her role, and they were well deserved. '\n",
            "  'the beginning of this movie starts in the past when corinne jeffries '\n",
            "  '(cybill) whose picture-perfect marriage comes to a shattering halt when her '\n",
            "  'husband louie dies unexpectedly. fortunately, louse gets a second shot at '\n",
            "  'life when he agrees to be \\\\recycled\\\\\" back to earth as the newborn alex '\n",
            "  'finch (robert downey, jr). alex goes on to live his new life forgetting his '\n",
            "  'past life while corinne tries to get on with hers. but fate cr..., \n",
            "10485    1\n",
            "15329    1\n",
            "2294     1\n",
            "6986     1\n",
            "12690    0\n",
            "        ..\n",
            "5265     1\n",
            "19111    0\n",
            "14721    1\n",
            "1662     0\n",
            "18206    1\n",
            "Name: sentiment, Length: 14400, dtype: int64, \n",
            "None, message_clsname='Pipeline', message=None)\n"
          ],
          "name": "stdout"
        },
        {
          "output_type": "stream",
          "text": [
            "ERROR:root:Internal Python error in the inspect module.\n",
            "Below is the traceback from this internal error.\n",
            "\n"
          ],
          "name": "stderr"
        },
        {
          "output_type": "stream",
          "text": [
            "Traceback (most recent call last):\n",
            "  File \"/usr/local/lib/python3.6/dist-packages/IPython/core/interactiveshell.py\", line 2882, in run_code\n",
            "    exec(code_obj, self.user_global_ns, self.user_ns)\n",
            "  File \"<ipython-input-33-599e14f4a495>\", line 5, in <module>\n",
            "    gs.fit(X_train,y_train)\n",
            "  File \"/usr/local/lib/python3.6/dist-packages/sklearn/model_selection/_search.py\", line 710, in fit\n",
            "    self._run_search(evaluate_candidates)\n",
            "  File \"/usr/local/lib/python3.6/dist-packages/sklearn/model_selection/_search.py\", line 1151, in _run_search\n",
            "    evaluate_candidates(ParameterGrid(self.param_grid))\n",
            "  File \"/usr/local/lib/python3.6/dist-packages/sklearn/model_selection/_search.py\", line 689, in evaluate_candidates\n",
            "    cv.split(X, y, groups)))\n",
            "  File \"/usr/local/lib/python3.6/dist-packages/joblib/parallel.py\", line 1017, in __call__\n",
            "    self.retrieve()\n",
            "  File \"/usr/local/lib/python3.6/dist-packages/joblib/parallel.py\", line 909, in retrieve\n",
            "    self._output.extend(job.get(timeout=self.timeout))\n",
            "  File \"/usr/lib/python3.6/multiprocessing/pool.py\", line 638, in get\n",
            "    self.wait(timeout)\n",
            "  File \"/usr/lib/python3.6/multiprocessing/pool.py\", line 635, in wait\n",
            "    self._event.wait(timeout)\n",
            "  File \"/usr/lib/python3.6/threading.py\", line 551, in wait\n",
            "    signaled = self._cond.wait(timeout)\n",
            "  File \"/usr/lib/python3.6/threading.py\", line 295, in wait\n",
            "    waiter.acquire()\n",
            "KeyboardInterrupt\n",
            "\n",
            "During handling of the above exception, another exception occurred:\n",
            "\n",
            "Traceback (most recent call last):\n",
            "  File \"/usr/local/lib/python3.6/dist-packages/IPython/core/interactiveshell.py\", line 1823, in showtraceback\n",
            "    stb = value._render_traceback_()\n",
            "AttributeError: 'KeyboardInterrupt' object has no attribute '_render_traceback_'\n",
            "\n",
            "During handling of the above exception, another exception occurred:\n",
            "\n",
            "Traceback (most recent call last):\n",
            "  File \"/usr/local/lib/python3.6/dist-packages/IPython/core/ultratb.py\", line 1132, in get_records\n",
            "    return _fixed_getinnerframes(etb, number_of_lines_of_context, tb_offset)\n",
            "  File \"/usr/local/lib/python3.6/dist-packages/IPython/core/ultratb.py\", line 313, in wrapped\n",
            "    return f(*args, **kwargs)\n",
            "  File \"/usr/local/lib/python3.6/dist-packages/IPython/core/ultratb.py\", line 358, in _fixed_getinnerframes\n",
            "    records = fix_frame_records_filenames(inspect.getinnerframes(etb, context))\n",
            "  File \"/usr/lib/python3.6/inspect.py\", line 1490, in getinnerframes\n",
            "    frameinfo = (tb.tb_frame,) + getframeinfo(tb, context)\n",
            "  File \"/usr/lib/python3.6/inspect.py\", line 1452, in getframeinfo\n",
            "    lines, lnum = findsource(frame)\n",
            "  File \"/usr/local/lib/python3.6/dist-packages/IPython/core/ultratb.py\", line 170, in findsource\n",
            "    file = getsourcefile(object) or getfile(object)\n",
            "  File \"/usr/lib/python3.6/inspect.py\", line 696, in getsourcefile\n",
            "    if getattr(getmodule(object, filename), '__loader__', None) is not None:\n",
            "  File \"/usr/lib/python3.6/inspect.py\", line 735, in getmodule\n",
            "    if f == _filesbymodname.get(modname, None):\n",
            "KeyboardInterrupt\n"
          ],
          "name": "stdout"
        },
        {
          "output_type": "error",
          "ename": "KeyboardInterrupt",
          "evalue": "ignored",
          "traceback": [
            "\u001b[0;31m---------------------------------------------------------------------------\u001b[0m"
          ]
        },
        {
          "output_type": "stream",
          "text": [
            "ERROR:tornado.general:Uncaught exception in ZMQStream callback\n",
            "Traceback (most recent call last):\n",
            "  File \"/usr/local/lib/python3.6/dist-packages/zmq/eventloop/zmqstream.py\", line 438, in _run_callback\n",
            "    callback(*args, **kwargs)\n",
            "  File \"/usr/local/lib/python3.6/dist-packages/tornado/stack_context.py\", line 277, in null_wrapper\n",
            "    return fn(*args, **kwargs)\n",
            "  File \"/usr/local/lib/python3.6/dist-packages/ipykernel/kernelbase.py\", line 283, in dispatcher\n",
            "    return self.dispatch_shell(stream, msg)\n",
            "  File \"/usr/local/lib/python3.6/dist-packages/ipykernel/kernelbase.py\", line 233, in dispatch_shell\n",
            "    handler(stream, idents, msg)\n",
            "  File \"/usr/local/lib/python3.6/dist-packages/ipykernel/kernelbase.py\", line 421, in execute_request\n",
            "    self._abort_queues()\n",
            "  File \"/usr/local/lib/python3.6/dist-packages/ipykernel/kernelbase.py\", line 636, in _abort_queues\n",
            "    self._abort_queue(stream)\n",
            "  File \"/usr/local/lib/python3.6/dist-packages/ipykernel/kernelbase.py\", line 657, in _abort_queue\n",
            "    self._publish_status('idle', parent=msg)\n",
            "  File \"/usr/local/lib/python3.6/dist-packages/ipykernel/kernelbase.py\", line 327, in _publish_status\n",
            "    ident=self._topic('status'),\n",
            "  File \"/usr/local/lib/python3.6/dist-packages/jupyter_client/session.py\", line 713, in send\n",
            "    header=header, metadata=metadata)\n",
            "  File \"/usr/local/lib/python3.6/dist-packages/jupyter_client/session.py\", line 572, in msg\n",
            "    header = self.msg_header(msg_type) if header is None else header\n",
            "  File \"/usr/local/lib/python3.6/dist-packages/jupyter_client/session.py\", line 562, in msg_header\n",
            "    return msg_header(self.msg_id, msg_type, self.username, self.session)\n",
            "  File \"/usr/local/lib/python3.6/dist-packages/jupyter_client/session.py\", line 512, in msg_id\n",
            "    return new_id()\n",
            "  File \"/usr/local/lib/python3.6/dist-packages/jupyter_client/session.py\", line 131, in new_id\n",
            "    buf = os.urandom(16)\n",
            "KeyboardInterrupt\n"
          ],
          "name": "stderr"
        }
      ]
    },
    {
      "cell_type": "code",
      "metadata": {
        "id": "s8tIyYfgL8WH",
        "colab_type": "code",
        "outputId": "2bdd32cb-6a21-40fa-f4cd-f9f9f6b15314",
        "colab": {
          "base_uri": "https://localhost:8080/",
          "height": 52
        }
      },
      "source": [
        "%%time\n",
        "# Predicting with a test dataset\n",
        "gs_predictions = gs.predict(X_test)"
      ],
      "execution_count": 0,
      "outputs": [
        {
          "output_type": "stream",
          "text": [
            "CPU times: user 24.3 s, sys: 100 ms, total: 24.4 s\n",
            "Wall time: 24.5 s\n"
          ],
          "name": "stdout"
        }
      ]
    },
    {
      "cell_type": "code",
      "metadata": {
        "id": "ZrupP63CDfnM",
        "colab_type": "code",
        "outputId": "1a15bdac-3add-4b4d-e329-3c4e8415c5e0",
        "colab": {
          "base_uri": "https://localhost:8080/",
          "height": 88
        }
      },
      "source": [
        "from sklearn import metrics\n",
        "\n",
        "\n",
        "# View best hyperparameters\n",
        "print('Best params:', gs.best_params_)\n",
        "# print('Best C:', gs.best_estimator_.get_params()['C'])\n",
        "# print('Best dual:', gs.best_estimator_.get_params()['dual'])\n",
        "# print('Best fit_intercept:', gs.best_estimator_.get_params()['fit_intercept'])\n",
        "# print('Best class_weight:', gs.best_estimator_.get_params()['class_weight'])\n",
        "# print('Best random_state:', gs.best_estimator_.get_params()['random_state'])\n",
        "# print('Best solver:', gs.best_estimator_.get_params()['solver'])\n",
        "\n",
        "\n",
        "# Model Accuracy\n",
        "print(\"Logistic Regression Accuracy:\",metrics.accuracy_score(y_test, gs_predictions))\n",
        "print(\"Logistic Regression Precision:\",metrics.precision_score(y_test, gs_predictions))\n",
        "print(\"Logistic Regression Recall:\",metrics.recall_score(y_test, gs_predictions))\n"
      ],
      "execution_count": 0,
      "outputs": [
        {
          "output_type": "stream",
          "text": [
            "Best params: {'clf__C': 3.5938136638046276}\n",
            "Logistic Regression Accuracy: 0.8805387205387205\n",
            "Logistic Regression Precision: 0.8723854911305269\n",
            "Logistic Regression Recall: 0.8905405405405405\n"
          ],
          "name": "stdout"
        }
      ]
    },
    {
      "cell_type": "code",
      "metadata": {
        "id": "qcgsonCxLguO",
        "colab_type": "code",
        "colab": {}
      },
      "source": [
        "tweets = [\n",
        "    \"This is really bad\",\n",
        "    \"I love this!\",\n",
        "    \":)\",\n",
        "]\n",
        "\n",
        "preds = clf.predict_proba(tweets)\n",
        "\n",
        "for i in range(len(tweets)):\n",
        "    print(f'{tweets[i]} --> Positive, Negative = {preds[i]}')"
      ],
      "execution_count": 0,
      "outputs": []
    },
    {
      "cell_type": "markdown",
      "metadata": {
        "id": "Hwxt0TwMX9-K",
        "colab_type": "text"
      },
      "source": [
        "#### Save Model"
      ]
    },
    {
      "cell_type": "code",
      "metadata": {
        "id": "lfdBKUEELguQ",
        "colab_type": "code",
        "colab": {}
      },
      "source": [
        "import pickle\n",
        "import os\n",
        "\n",
        "pickle.dump(tfidf_pipe, open(os.path.join('models', 'movie_review.pkl'), 'wb'), protocol=4)"
      ],
      "execution_count": 0,
      "outputs": []
    },
    {
      "cell_type": "code",
      "metadata": {
        "id": "jPtprJPRlFhl",
        "colab_type": "code",
        "colab": {}
      },
      "source": [
        "# Evaluate model\n",
        "evaluation_data = pd.read_csv('/content/drive/My Drive/FTMLE - Tonga/Data/movie_review_evaluation.csv',sep='\\t')\n",
        "X_evaluation = evaluation_data['review']\n",
        "y_pred = tfidf_pipe.predict(X_evaluation)\n",
        "pred_sentiment = pd.DataFrame(y_pred,columns=['sentiment'])\n",
        "evaluation_data = pd.concat([X_evaluation,pred_sentiment], axis=1)\n",
        "evaluation_data.to_csv('/content/models/phuc.tran.csv')"
      ],
      "execution_count": 0,
      "outputs": []
    },
    {
      "cell_type": "markdown",
      "metadata": {
        "id": "9kf3QJIdXT6f",
        "colab_type": "text"
      },
      "source": [
        "### Addition"
      ]
    },
    {
      "cell_type": "code",
      "metadata": {
        "id": "rO-4z0kwTIXj",
        "colab_type": "code",
        "colab": {}
      },
      "source": [
        ""
      ],
      "execution_count": 0,
      "outputs": []
    }
  ]
}