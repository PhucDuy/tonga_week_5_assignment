{
  "nbformat": 4,
  "nbformat_minor": 0,
  "metadata": {
    "kernelspec": {
      "display_name": "Python 3",
      "language": "python",
      "name": "python3"
    },
    "language_info": {
      "codemirror_mode": {
        "name": "ipython",
        "version": 3
      },
      "file_extension": ".py",
      "mimetype": "text/x-python",
      "name": "python",
      "nbconvert_exporter": "python",
      "pygments_lexer": "ipython3",
      "version": "3.6.8"
    },
    "colab": {
      "name": "[phuc.tran]Movie review.ipynb",
      "provenance": [],
      "collapsed_sections": [],
      "toc_visible": true,
      "include_colab_link": true
    }
  },
  "cells": [
    {
      "cell_type": "markdown",
      "metadata": {
        "id": "view-in-github",
        "colab_type": "text"
      },
      "source": [
        "<a href=\"https://colab.research.google.com/github/PhucDuy/tonga_week_5_assignment/blob/master/%5Bphuc_tran%5DMovie_review.ipynb\" target=\"_parent\"><img src=\"https://colab.research.google.com/assets/colab-badge.svg\" alt=\"Open In Colab\"/></a>"
      ]
    },
    {
      "cell_type": "markdown",
      "metadata": {
        "id": "9MDEjcL7Lgs2",
        "colab_type": "text"
      },
      "source": [
        "\n",
        "# Movie Reviews Prediction"
      ]
    },
    {
      "cell_type": "markdown",
      "metadata": {
        "id": "ZOywA8bw_Sej",
        "colab_type": "text"
      },
      "source": [
        "## Logistic regression with Sklearn"
      ]
    },
    {
      "cell_type": "markdown",
      "metadata": {
        "id": "WTEBagIJ_fXp",
        "colab_type": "text"
      },
      "source": [
        "### Import data and library"
      ]
    },
    {
      "cell_type": "code",
      "metadata": {
        "id": "VQuoh8HSOs9F",
        "colab_type": "code",
        "outputId": "4387d208-760e-4694-ed58-e4cad7eacffd",
        "colab": {
          "base_uri": "https://localhost:8080/",
          "height": 34
        }
      },
      "source": [
        "from google.colab import drive\n",
        "drive.mount('/content/drive')"
      ],
      "execution_count": 72,
      "outputs": [
        {
          "output_type": "stream",
          "text": [
            "Drive already mounted at /content/drive; to attempt to forcibly remount, call drive.mount(\"/content/drive\", force_remount=True).\n"
          ],
          "name": "stdout"
        }
      ]
    },
    {
      "cell_type": "code",
      "metadata": {
        "id": "K04MloarbvBs",
        "colab_type": "code",
        "colab": {}
      },
      "source": [
        "# Import pandas, numpy and the dataset\n",
        "import numpy as np\n",
        "import pandas as pd\n",
        "import matplotlib.pyplot as plt\n"
      ],
      "execution_count": 0,
      "outputs": []
    },
    {
      "cell_type": "code",
      "metadata": {
        "id": "KeWTMVcyLgt4",
        "colab_type": "code",
        "outputId": "4229cccb-49ab-40d5-b3ab-bc1af95e3af2",
        "colab": {
          "base_uri": "https://localhost:8080/",
          "height": 247
        }
      },
      "source": [
        "import nltk\n",
        "nltk.download('stopwords')\n",
        "nltk.download('punkt')\n",
        "nltk.download('wordnet')\n",
        "nltk.download('averaged_perceptron_tagger')\n",
        "nltk.download('vader_lexicon')\n",
        "  "
      ],
      "execution_count": 74,
      "outputs": [
        {
          "output_type": "stream",
          "text": [
            "[nltk_data] Downloading package stopwords to /root/nltk_data...\n",
            "[nltk_data]   Package stopwords is already up-to-date!\n",
            "[nltk_data] Downloading package punkt to /root/nltk_data...\n",
            "[nltk_data]   Package punkt is already up-to-date!\n",
            "[nltk_data] Downloading package wordnet to /root/nltk_data...\n",
            "[nltk_data]   Package wordnet is already up-to-date!\n",
            "[nltk_data] Downloading package averaged_perceptron_tagger to\n",
            "[nltk_data]     /root/nltk_data...\n",
            "[nltk_data]   Package averaged_perceptron_tagger is already up-to-\n",
            "[nltk_data]       date!\n",
            "[nltk_data] Downloading package vader_lexicon to /root/nltk_data...\n",
            "[nltk_data]   Package vader_lexicon is already up-to-date!\n"
          ],
          "name": "stdout"
        },
        {
          "output_type": "execute_result",
          "data": {
            "text/plain": [
              "True"
            ]
          },
          "metadata": {
            "tags": []
          },
          "execution_count": 74
        }
      ]
    },
    {
      "cell_type": "code",
      "metadata": {
        "id": "l9YBSN51z1-i",
        "colab_type": "code",
        "outputId": "626bc246-2ac1-4b61-9e88-cedc19df5e6c",
        "colab": {
          "base_uri": "https://localhost:8080/",
          "height": 105
        }
      },
      "source": [
        "!pip install contractions\n",
        "!pip install autocorrect\n"
      ],
      "execution_count": 75,
      "outputs": [
        {
          "output_type": "stream",
          "text": [
            "Requirement already satisfied: contractions in /usr/local/lib/python3.6/dist-packages (0.0.24)\n",
            "Requirement already satisfied: textsearch in /usr/local/lib/python3.6/dist-packages (from contractions) (0.0.17)\n",
            "Requirement already satisfied: Unidecode in /usr/local/lib/python3.6/dist-packages (from textsearch->contractions) (1.1.1)\n",
            "Requirement already satisfied: pyahocorasick in /usr/local/lib/python3.6/dist-packages (from textsearch->contractions) (1.4.0)\n",
            "Requirement already satisfied: autocorrect in /usr/local/lib/python3.6/dist-packages (1.1.0)\n"
          ],
          "name": "stdout"
        }
      ]
    },
    {
      "cell_type": "markdown",
      "metadata": {
        "id": "2QlFYgmy_oT1",
        "colab_type": "text"
      },
      "source": [
        "### Read data and clean up"
      ]
    },
    {
      "cell_type": "code",
      "metadata": {
        "id": "QPtgQIuhLgtd",
        "colab_type": "code",
        "colab": {}
      },
      "source": [
        "# Read file \n",
        "data = pd.read_csv('/content/drive/My Drive/FTMLE - Tonga/Data/movie_review.csv', encoding='utf-8', sep='\\t')\n",
        "data = data"
      ],
      "execution_count": 0,
      "outputs": []
    },
    {
      "cell_type": "code",
      "metadata": {
        "id": "2d-3kNPeehwT",
        "colab_type": "code",
        "outputId": "18722c01-d894-49a3-da46-a9ec0615f4fd",
        "colab": {
          "base_uri": "https://localhost:8080/",
          "height": 347
        }
      },
      "source": [
        "data.head(10)"
      ],
      "execution_count": 77,
      "outputs": [
        {
          "output_type": "execute_result",
          "data": {
            "text/html": [
              "<div>\n",
              "<style scoped>\n",
              "    .dataframe tbody tr th:only-of-type {\n",
              "        vertical-align: middle;\n",
              "    }\n",
              "\n",
              "    .dataframe tbody tr th {\n",
              "        vertical-align: top;\n",
              "    }\n",
              "\n",
              "    .dataframe thead th {\n",
              "        text-align: right;\n",
              "    }\n",
              "</style>\n",
              "<table border=\"1\" class=\"dataframe\">\n",
              "  <thead>\n",
              "    <tr style=\"text-align: right;\">\n",
              "      <th></th>\n",
              "      <th>id</th>\n",
              "      <th>review</th>\n",
              "      <th>sentiment</th>\n",
              "    </tr>\n",
              "  </thead>\n",
              "  <tbody>\n",
              "    <tr>\n",
              "      <th>0</th>\n",
              "      <td>5814_8</td>\n",
              "      <td>With all this stuff going down at the moment w...</td>\n",
              "      <td>1</td>\n",
              "    </tr>\n",
              "    <tr>\n",
              "      <th>1</th>\n",
              "      <td>2381_9</td>\n",
              "      <td>\\The Classic War of the Worlds\\\" by Timothy Hi...</td>\n",
              "      <td>1</td>\n",
              "    </tr>\n",
              "    <tr>\n",
              "      <th>2</th>\n",
              "      <td>7759_3</td>\n",
              "      <td>The film starts with a manager (Nicholas Bell)...</td>\n",
              "      <td>0</td>\n",
              "    </tr>\n",
              "    <tr>\n",
              "      <th>3</th>\n",
              "      <td>3630_4</td>\n",
              "      <td>It must be assumed that those who praised this...</td>\n",
              "      <td>0</td>\n",
              "    </tr>\n",
              "    <tr>\n",
              "      <th>4</th>\n",
              "      <td>9495_8</td>\n",
              "      <td>Superbly trashy and wondrously unpretentious 8...</td>\n",
              "      <td>1</td>\n",
              "    </tr>\n",
              "    <tr>\n",
              "      <th>5</th>\n",
              "      <td>8196_8</td>\n",
              "      <td>I dont know why people think this is such a ba...</td>\n",
              "      <td>1</td>\n",
              "    </tr>\n",
              "    <tr>\n",
              "      <th>6</th>\n",
              "      <td>7166_2</td>\n",
              "      <td>This movie could have been very good, but come...</td>\n",
              "      <td>0</td>\n",
              "    </tr>\n",
              "    <tr>\n",
              "      <th>7</th>\n",
              "      <td>319_1</td>\n",
              "      <td>A friend of mine bought this film for Â£1, and...</td>\n",
              "      <td>0</td>\n",
              "    </tr>\n",
              "    <tr>\n",
              "      <th>8</th>\n",
              "      <td>8713_10</td>\n",
              "      <td>&lt;br /&gt;&lt;br /&gt;This movie is full of references. ...</td>\n",
              "      <td>1</td>\n",
              "    </tr>\n",
              "    <tr>\n",
              "      <th>9</th>\n",
              "      <td>2486_3</td>\n",
              "      <td>What happens when an army of wetbacks, towelhe...</td>\n",
              "      <td>0</td>\n",
              "    </tr>\n",
              "  </tbody>\n",
              "</table>\n",
              "</div>"
            ],
            "text/plain": [
              "        id                                             review  sentiment\n",
              "0   5814_8  With all this stuff going down at the moment w...          1\n",
              "1   2381_9  \\The Classic War of the Worlds\\\" by Timothy Hi...          1\n",
              "2   7759_3  The film starts with a manager (Nicholas Bell)...          0\n",
              "3   3630_4  It must be assumed that those who praised this...          0\n",
              "4   9495_8  Superbly trashy and wondrously unpretentious 8...          1\n",
              "5   8196_8  I dont know why people think this is such a ba...          1\n",
              "6   7166_2  This movie could have been very good, but come...          0\n",
              "7    319_1  A friend of mine bought this film for Â£1, and...          0\n",
              "8  8713_10  <br /><br />This movie is full of references. ...          1\n",
              "9   2486_3  What happens when an army of wetbacks, towelhe...          0"
            ]
          },
          "metadata": {
            "tags": []
          },
          "execution_count": 77
        }
      ]
    },
    {
      "cell_type": "code",
      "metadata": {
        "id": "ikU5xj0jh66n",
        "colab_type": "code",
        "colab": {}
      },
      "source": [
        "def print_full(x):\n",
        "    pd.set_option('display.max_rows', len(x))\n",
        "    pd.set_option('display.max_columns', None)\n",
        "    pd.set_option('display.width', 2000)\n",
        "    pd.set_option('display.float_format', '{:20,.2f}'.format)\n",
        "    pd.set_option('display.max_colwidth', -1)\n",
        "    print(x)\n",
        "    pd.reset_option('display.max_rows')\n",
        "    pd.reset_option('display.max_columns')\n",
        "    pd.reset_option('display.width')\n",
        "    pd.reset_option('display.float_format')\n",
        "    pd.reset_option('display.max_colwidth')\n"
      ],
      "execution_count": 0,
      "outputs": []
    },
    {
      "cell_type": "code",
      "metadata": {
        "id": "HoPF9gkUeQVP",
        "colab_type": "code",
        "colab": {}
      },
      "source": [
        "# Drop id\n",
        "data.drop(labels=['id'], axis=1, inplace=True)"
      ],
      "execution_count": 0,
      "outputs": []
    },
    {
      "cell_type": "code",
      "metadata": {
        "id": "-RnOTy4KemGW",
        "colab_type": "code",
        "outputId": "7312dcc1-bdbb-405b-c7c2-70e9b0ba0800",
        "colab": {
          "base_uri": "https://localhost:8080/",
          "height": 90
        }
      },
      "source": [
        "test_text = data.iloc[data['review'].str.len().idxmax()].iloc[0]\n",
        "print_full(test_text)"
      ],
      "execution_count": 80,
      "outputs": [
        {
          "output_type": "stream",
          "text": [
            "Match 1: Tag Team Table Match Bubba Ray and Spike Dudley vs Eddie Guerrero and Chris Benoit Bubba Ray and Spike Dudley started things off with a Tag Team Table Match against Eddie Guerrero and Chris Benoit. According to the rules of the match, both opponents have to go through tables in order to get the win. Benoit and Guerrero heated up early on by taking turns hammering first Spike and then Bubba Ray. A German suplex by Benoit to Bubba took the wind out of the Dudley brother. Spike tried to help his brother, but the referee restrained him while Benoit and Guerrero ganged up on him in the corner. With Benoit stomping away on Bubba, Guerrero set up a table outside. Spike dashed into the ring and somersaulted over the top rope onto Guerrero on the outside! After recovering and taking care of Spike, Guerrero slipped a table into the ring and helped the Wolverine set it up. The tandem then set up for a double superplex from the middle rope which would have put Bubba through the table, but Spike knocked the table over right before his brother came crashing down! Guerrero and Benoit propped another table in the corner and tried to Irish Whip Spike through it, but Bubba dashed in and blocked his brother. Bubba caught fire and lifted both opponents into back body drops! Bubba slammed Guerrero and Spike stomped on the Wolverine from off the top rope. Bubba held Benoit at bay for Spike to soar into the Wassup! headbutt! Shortly after, Benoit latched Spike in the Crossface, but the match continued even after Spike tapped out. Bubba came to his brother's rescue and managed to sprawl Benoit on a table. Bubba leapt from the middle rope, but Benoit moved and sent Bubba crashing through the wood! But because his opponents didn't force him through the table, Bubba was allowed to stay in the match. The first man was eliminated shortly after, though, as Spike put Eddie through a table with a Dudley Dawg from the ring apron to the outside! Benoit put Spike through a table moments later to even the score. Within seconds, Bubba nailed a Bubba Bomb that put Benoit through a table and gave the Dudleys the win! Winner: Bubba Ray and Spike Dudley<br /><br />Match 2: Cruiserweight Championship Jamie Noble vs Billy Kidman Billy Kidman challenged Jamie Noble, who brought Nidia with him to the ring, for the Cruiserweight Championship. Noble and Kidman locked up and tumbled over the ring, but raced back inside and grappled some more. When Kidman thwarted all Noble's moves, Noble fled outside the ring where Nidia gave him some encouragement. The fight spread outside the ring and Noble threw his girlfriend into the challenger. Kidman tossed Nidia aside but was taken down with a modified arm bar. Noble continued to attack Kidman's injured arm back in the ring. Kidman's injured harm hampered his offense, but he continued to battle hard. Noble tried to put Kidman away with a powerbomb but the challenger countered into a facebuster. Kidman went to finish things with a Shooting Star Press, but Noble broke up the attempt. Kidman went for the Shooting Star Press again, but this time Noble just rolled out of harm's way. Noble flipped Kidman into a power bomb soon after and got the pin to retain his WWE Cruiserweight Championship! Winner: Jamie Noble<br /><br />Match 3: European Championship William Regal vs Jeff Hardy William Regal took on Jeff Hardy next in an attempt to win back the European Championship. Jeff catapulted Regal over the top rope then took him down with a hurracanrana off the ring apron. Back in the ring, Jeff hit the Whisper in the wind to knock Regal for a loop. Jeff went for the Swanton Bomb, but Regal got his knees up to hit Jeff with a devastating shot. Jeff managed to surprise Regal with a quick rollup though and got the pin to keep the European Championship! Regal started bawling at seeing Hardy celebrate on his way back up the ramp. Winner: Jeff Hardy<br /><br />Match 4: Chris Jericho vs John Cena Chris Jericho had promised to end John Cena's career in their match at Vengeance, which came up next. Jericho tried to teach Cena a lesson as their match began by suplexing him to the mat. Jericho continued to knock Cena around the ring until his cockiness got the better of him. While on the top rope, Jericho began to showboat and allowed Cena to grab him for a superplex! Cena followed with a tilt-a-whirl slam but was taken down with a nasty dropkick to the gut. The rookie recovered and hit a belly to belly suplex but couldn't put Y2J away. Jericho launched into the Lionsault but Cena dodged the move. Jericho nailed a bulldog and then connected on the Lionsault, but did not go for the cover. He goaded Cena to his feet so he could put on the Walls of Jericho. Cena had other ideas, reversing the move into a pin attempt and getting the 1-2-3! Jericho went berserk after the match. Winner: John Cena<br /><br />Match 5: Intercontinental Championship RVD vs Brock Lesnar via disqualification The Next Big Thing and Mr. Pay-Per-View tangled with the Intercontinental Championship on the line. Brock grabbed the title from the ref and draped it over his shoulder momentarily while glaring at RVD. Van Dam 's quickness gave Brock fits early on. The big man rolled out of the ring and kicked the steel steps out of frustration. Brock pulled himself together and began to take charge. With Paul Heyman beaming at ringside, Brock slammed RVD to the hard floor outside the ring. From there, Brock began to overpower RVD, throwing him with ease over the top rope. RVD landed painfully on his back, then had to suffer from having his spine cracked against the steel ring steps. The fight returned to the ring with Brock squeezing RVD around the ribs. RVD broke away and soon after leveled Brock with a kick to the temple. RVD followed with the Rolling Thunder but Brock managed to kick out after a two-count. The fight looked like it might be over soon as RVD went for a Five-Star Frog Splash. Brock, though, hoisted Van Dam onto his shoulder and went for the F-5, but RVD whirled Brock into a DDT and followed with the Frog Splash! He went for the pin, but Heyman pulled the ref from the ring! The ref immediately called for a disqualification and soon traded blows with Heyman! After, RVD leapt onto Brock from the top rope and then threatened to hit the Van Terminator! Heyman grabbed RVD's leg and Brock picked up the champ and this time connected with the F-5 onto a steel chair! Winner: RVD<br /><br />Match 6: Booker T vs the Big Show Booker T faced the Big Show one-on-one next. Show withstood Booker T's kicks and punches and slapped Booker into the corner. After being thrown from the ring, Booker picked up a chair at ringside, but Big Show punched it back into Booker's face. Booker tried to get back into the game by choking Show with a camera cable at ringside. Booker smashed a TV monitor from the Spanish announcers' position into Show's skull, then delivered a scissors kick that put both men through the table! Booker crawled back into the ring and Big Show staggered in moments later. Show grabbed Booker's throat but was met by a low blow and a kick to the face. Booker climbed the top rope and nailed a somersaulting leg drop to get the pin! Winner: Booker T<br /><br />Announcement: Triple H entered the ring to a thunderous ovation as fans hoped to learn where The Game would end up competing. Before he could speak, Eric Bishoff stopped The Game to apologize for getting involved in his personal business. If Triple H signed with RAW, Bischoff promised his personal life would never come into play again. Bischoff said he's spent the past two years networking in Hollywood. He said everyone was looking for the next breakout WWE Superstar, and they were all talking about Triple H. Bischoff guaranteed that if Triple H signed with RAW, he'd be getting top opportunities coming his way. Stephanie McMahon stepped out to issue her own pitch. She said that because of her personal history with Triple H, the two of them know each other very well. She said the two of them were once unstoppable and they can be again. Bischoff cut her off and begged her to stop. Stephanie cited that Triple H once told her how Bischoff said Triple H had no talent and no charisma. Bischoff said he was young at the time and didn't know what he had, but he still has a lot more experience that Stephanie. The two continued to bicker back and forth, until Triple H stepped up with his microphone. The Game said it would be easy to say \\screw you\\\" to either one of them. Triple H went to shake Bischoff's hand, but pulled it away. He said he would rather go with the devil he knows, rather than the one he doesn't know. Before he could go any further, though, Shawn Michaels came out to shake things up. HBK said the last thing he wanted to do was cause any trouble. He didn't want to get involved, but he remembered pledging to bring Triple H to the nWo. HBK said there's nobody in the world that Triple H is better friends with. HBK told his friend to imagine the two back together again, making Bischoff's life a living hell. Triple H said that was a tempting offer. He then turned and hugged HBK, making official his switch to RAW! Triple H and HBK left, and Bischoff gloated over his victory. Bischoff said the difference between the two of them is that he's got testicles and she doesn't. Stephanie whacked Bischoff on the side of the head and left!<br /><br />Match 7: Tag Team Championship Match Christian and Lance Storm vs Hollywood Hogan and Edge The match started with loud \\\"USA\\\" chants and with Hogan shoving Christian through the ropes and out of the ring. The Canadians took over from there. But Edge scored a kick to Christian's head and planted a facebuster on Storm to get the tag to Hogan. Hogan began to Hulk up and soon caught Christian with a big boot and a leg drop! Storm broke up the count and Christian tossed Hogan from the ring where Storm superkicked the icon. Edge tagged in soon after and dropped both opponents. He speared both of them into the corner turnbuckles, but missed a spear on Strom and hit the ref hard instead. Edge nailed a DDT, but the ref was down and could not count. Test raced down and took down Hogan then leveled Edge with a boot. Storm tried to get the pin, but Edge kicked out after two. Riksihi sprinted in to fend off Test, allowing Edge to recover and spear Storm. Christian distracted the ref, though, and Y2J dashed in and clocked Edge with the Tag Team Championship! Storm rolled over and got the pinfall to win the title! Winners and New Tag Team Champions: Christian and Lance Storm<br /><br />Match 8: WWE Undisputed Championship Triple Threat Match. The Rock vs Kurt Angle and the Undertaker Three of WWE's most successful superstars lined up against each other in a Triple Threat Match with the Undisputed Championship hanging in the balance. Taker and The Rock got face to face with Kurt Angle begging for some attention off to the side. He got attention in the form of a beat down form the two other men. Soon after, Taker spilled out of the ring and The Rock brawled with Angle. Angle gave a series of suplexes that took down Rock, but the Great One countered with a DDT that managed a two-count. The fight continued outside the ring with Taker coming to life and clotheslining Angle and repeatedly smacking The Rock. Taker and Rock got into it back into the ring, and Taker dropped The Rock with a sidewalk slam to get a two-count. Rock rebounded, grabbed Taker by the throat and chokeslammed him! Angle broke up the pin attempt that likely would have given The Rock the title. The Rock retaliated by latching on the ankle lock to Kurt Angle. Angle reversed the move and Rock Bottomed the People's Champion. Soon after, The Rock disposed of Angle and hit the People's Elbow on the Undertaker. Angle tried to take advantage by disabling the Great One outside the ring and covering Taker, who kicked out after a two count. Outside the ring, Rock took a big swig from a nearby water bottle and spewed the liquid into Taker's face to blind the champion. Taker didn't stay disabled for long, and managed to overpower Rock and turn his attention to Angle. Taker landed a guillotine leg drop onto Angle, laying on the ring apron. The Rock picked himself up just in time to break up a pin attempt on Kurt Angle. Taker nailed Rock with a DDT and set him up for a chokeslam. ANgle tried sneaking up with a steel chair, but Taker caught on to that tomfoolery and smacked it out of his hands. The referee got caught in the ensuing fire and didn't see Angle knock Taker silly with a steel chair. Angle went to cover Taker as The Rock lay prone, but the Dead Man somehow got his shoulder up. Angle tried to pin Rock, but he too kicked out. The Rock got up and landed Angle in the sharpshooter! Angle looked like he was about to tap, but Taker kicked The Rock out of the submission hold. Taker picked Rock up and crashed him with the Last Ride. While the Dead Man covered him for the win, Angle raced in and picked Taker up in the ankle lock! Taker went delirious with pain, but managed to counter. He picked Angle up for the last ride, but Angle put on a triangle choke! It looked like Taker was about to pass out, but The Rock broke Angle's hold only to find himself caught in the ankle lock. Rock got out of the hold and watched Taker chokeslam Angle. Rocky hit the Rock Bottom, but Taker refused to go down and kicked out. Angle whirled Taker up into the Angle Slam but was Rock Bottomed by the Great One and pinned! Winner and New WWE Champion: The Rock<br /><br />~Finally there is a decent PPV! Lately the PPV weren't very good, but this one was a winner. I give this PPV a A-<br /><br />\"\n"
          ],
          "name": "stdout"
        },
        {
          "output_type": "stream",
          "text": [
            "/usr/local/lib/python3.6/dist-packages/ipykernel_launcher.py:6: FutureWarning: Passing a negative integer is deprecated in version 1.0 and will not be supported in future version. Instead, use None to not limit the column width.\n",
            "  \n"
          ],
          "name": "stderr"
        }
      ]
    },
    {
      "cell_type": "markdown",
      "metadata": {
        "id": "cMCrBqdhi3JT",
        "colab_type": "text"
      },
      "source": [
        "### Text Processing"
      ]
    },
    {
      "cell_type": "code",
      "metadata": {
        "id": "F6GvQ2HXjOZ1",
        "colab_type": "code",
        "colab": {}
      },
      "source": [
        "from nltk.corpus import stopwords\n",
        "from nltk.tokenize import word_tokenize, sent_tokenize\n",
        "\n",
        "stop = stopwords.words('english')"
      ],
      "execution_count": 0,
      "outputs": []
    },
    {
      "cell_type": "markdown",
      "metadata": {
        "id": "Z01BpBz7Lgt-",
        "colab_type": "text"
      },
      "source": [
        "#### Removing special characters and \"trash\"\n"
      ]
    },
    {
      "cell_type": "code",
      "metadata": {
        "id": "t9-gDY9MG5Qg",
        "colab_type": "code",
        "outputId": "3b6f1e8c-3609-4c80-91da-2c3bc029f741",
        "colab": {
          "base_uri": "https://localhost:8080/",
          "height": 818
        }
      },
      "source": [
        "!pip install beautifulsoup4\n",
        "!pip install -U spacy\n",
        "!python -m spacy download en_core_web_sm"
      ],
      "execution_count": 82,
      "outputs": [
        {
          "output_type": "stream",
          "text": [
            "Requirement already satisfied: beautifulsoup4 in /usr/local/lib/python3.6/dist-packages (4.6.3)\n",
            "Requirement already up-to-date: spacy in /usr/local/lib/python3.6/dist-packages (2.2.4)\n",
            "Requirement already satisfied, skipping upgrade: cymem<2.1.0,>=2.0.2 in /usr/local/lib/python3.6/dist-packages (from spacy) (2.0.3)\n",
            "Requirement already satisfied, skipping upgrade: srsly<1.1.0,>=1.0.2 in /usr/local/lib/python3.6/dist-packages (from spacy) (1.0.2)\n",
            "Requirement already satisfied, skipping upgrade: murmurhash<1.1.0,>=0.28.0 in /usr/local/lib/python3.6/dist-packages (from spacy) (1.0.2)\n",
            "Requirement already satisfied, skipping upgrade: tqdm<5.0.0,>=4.38.0 in /usr/local/lib/python3.6/dist-packages (from spacy) (4.38.0)\n",
            "Requirement already satisfied, skipping upgrade: catalogue<1.1.0,>=0.0.7 in /usr/local/lib/python3.6/dist-packages (from spacy) (1.0.0)\n",
            "Requirement already satisfied, skipping upgrade: setuptools in /usr/local/lib/python3.6/dist-packages (from spacy) (46.1.3)\n",
            "Requirement already satisfied, skipping upgrade: plac<1.2.0,>=0.9.6 in /usr/local/lib/python3.6/dist-packages (from spacy) (1.1.3)\n",
            "Requirement already satisfied, skipping upgrade: numpy>=1.15.0 in /usr/local/lib/python3.6/dist-packages (from spacy) (1.18.2)\n",
            "Requirement already satisfied, skipping upgrade: thinc==7.4.0 in /usr/local/lib/python3.6/dist-packages (from spacy) (7.4.0)\n",
            "Requirement already satisfied, skipping upgrade: blis<0.5.0,>=0.4.0 in /usr/local/lib/python3.6/dist-packages (from spacy) (0.4.1)\n",
            "Requirement already satisfied, skipping upgrade: requests<3.0.0,>=2.13.0 in /usr/local/lib/python3.6/dist-packages (from spacy) (2.21.0)\n",
            "Requirement already satisfied, skipping upgrade: preshed<3.1.0,>=3.0.2 in /usr/local/lib/python3.6/dist-packages (from spacy) (3.0.2)\n",
            "Requirement already satisfied, skipping upgrade: wasabi<1.1.0,>=0.4.0 in /usr/local/lib/python3.6/dist-packages (from spacy) (0.6.0)\n",
            "Requirement already satisfied, skipping upgrade: importlib-metadata>=0.20; python_version < \"3.8\" in /usr/local/lib/python3.6/dist-packages (from catalogue<1.1.0,>=0.0.7->spacy) (1.6.0)\n",
            "Requirement already satisfied, skipping upgrade: certifi>=2017.4.17 in /usr/local/lib/python3.6/dist-packages (from requests<3.0.0,>=2.13.0->spacy) (2020.4.5.1)\n",
            "Requirement already satisfied, skipping upgrade: urllib3<1.25,>=1.21.1 in /usr/local/lib/python3.6/dist-packages (from requests<3.0.0,>=2.13.0->spacy) (1.24.3)\n",
            "Requirement already satisfied, skipping upgrade: chardet<3.1.0,>=3.0.2 in /usr/local/lib/python3.6/dist-packages (from requests<3.0.0,>=2.13.0->spacy) (3.0.4)\n",
            "Requirement already satisfied, skipping upgrade: idna<2.9,>=2.5 in /usr/local/lib/python3.6/dist-packages (from requests<3.0.0,>=2.13.0->spacy) (2.8)\n",
            "Requirement already satisfied, skipping upgrade: zipp>=0.5 in /usr/local/lib/python3.6/dist-packages (from importlib-metadata>=0.20; python_version < \"3.8\"->catalogue<1.1.0,>=0.0.7->spacy) (3.1.0)\n",
            "Requirement already satisfied: en_core_web_sm==2.2.5 from https://github.com/explosion/spacy-models/releases/download/en_core_web_sm-2.2.5/en_core_web_sm-2.2.5.tar.gz#egg=en_core_web_sm==2.2.5 in /usr/local/lib/python3.6/dist-packages (2.2.5)\n",
            "Requirement already satisfied: spacy>=2.2.2 in /usr/local/lib/python3.6/dist-packages (from en_core_web_sm==2.2.5) (2.2.4)\n",
            "Requirement already satisfied: preshed<3.1.0,>=3.0.2 in /usr/local/lib/python3.6/dist-packages (from spacy>=2.2.2->en_core_web_sm==2.2.5) (3.0.2)\n",
            "Requirement already satisfied: catalogue<1.1.0,>=0.0.7 in /usr/local/lib/python3.6/dist-packages (from spacy>=2.2.2->en_core_web_sm==2.2.5) (1.0.0)\n",
            "Requirement already satisfied: cymem<2.1.0,>=2.0.2 in /usr/local/lib/python3.6/dist-packages (from spacy>=2.2.2->en_core_web_sm==2.2.5) (2.0.3)\n",
            "Requirement already satisfied: requests<3.0.0,>=2.13.0 in /usr/local/lib/python3.6/dist-packages (from spacy>=2.2.2->en_core_web_sm==2.2.5) (2.21.0)\n",
            "Requirement already satisfied: setuptools in /usr/local/lib/python3.6/dist-packages (from spacy>=2.2.2->en_core_web_sm==2.2.5) (46.1.3)\n",
            "Requirement already satisfied: wasabi<1.1.0,>=0.4.0 in /usr/local/lib/python3.6/dist-packages (from spacy>=2.2.2->en_core_web_sm==2.2.5) (0.6.0)\n",
            "Requirement already satisfied: thinc==7.4.0 in /usr/local/lib/python3.6/dist-packages (from spacy>=2.2.2->en_core_web_sm==2.2.5) (7.4.0)\n",
            "Requirement already satisfied: blis<0.5.0,>=0.4.0 in /usr/local/lib/python3.6/dist-packages (from spacy>=2.2.2->en_core_web_sm==2.2.5) (0.4.1)\n",
            "Requirement already satisfied: srsly<1.1.0,>=1.0.2 in /usr/local/lib/python3.6/dist-packages (from spacy>=2.2.2->en_core_web_sm==2.2.5) (1.0.2)\n",
            "Requirement already satisfied: tqdm<5.0.0,>=4.38.0 in /usr/local/lib/python3.6/dist-packages (from spacy>=2.2.2->en_core_web_sm==2.2.5) (4.38.0)\n",
            "Requirement already satisfied: plac<1.2.0,>=0.9.6 in /usr/local/lib/python3.6/dist-packages (from spacy>=2.2.2->en_core_web_sm==2.2.5) (1.1.3)\n",
            "Requirement already satisfied: murmurhash<1.1.0,>=0.28.0 in /usr/local/lib/python3.6/dist-packages (from spacy>=2.2.2->en_core_web_sm==2.2.5) (1.0.2)\n",
            "Requirement already satisfied: numpy>=1.15.0 in /usr/local/lib/python3.6/dist-packages (from spacy>=2.2.2->en_core_web_sm==2.2.5) (1.18.2)\n",
            "Requirement already satisfied: importlib-metadata>=0.20; python_version < \"3.8\" in /usr/local/lib/python3.6/dist-packages (from catalogue<1.1.0,>=0.0.7->spacy>=2.2.2->en_core_web_sm==2.2.5) (1.6.0)\n",
            "Requirement already satisfied: certifi>=2017.4.17 in /usr/local/lib/python3.6/dist-packages (from requests<3.0.0,>=2.13.0->spacy>=2.2.2->en_core_web_sm==2.2.5) (2020.4.5.1)\n",
            "Requirement already satisfied: idna<2.9,>=2.5 in /usr/local/lib/python3.6/dist-packages (from requests<3.0.0,>=2.13.0->spacy>=2.2.2->en_core_web_sm==2.2.5) (2.8)\n",
            "Requirement already satisfied: urllib3<1.25,>=1.21.1 in /usr/local/lib/python3.6/dist-packages (from requests<3.0.0,>=2.13.0->spacy>=2.2.2->en_core_web_sm==2.2.5) (1.24.3)\n",
            "Requirement already satisfied: chardet<3.1.0,>=3.0.2 in /usr/local/lib/python3.6/dist-packages (from requests<3.0.0,>=2.13.0->spacy>=2.2.2->en_core_web_sm==2.2.5) (3.0.4)\n",
            "Requirement already satisfied: zipp>=0.5 in /usr/local/lib/python3.6/dist-packages (from importlib-metadata>=0.20; python_version < \"3.8\"->catalogue<1.1.0,>=0.0.7->spacy>=2.2.2->en_core_web_sm==2.2.5) (3.1.0)\n",
            "\u001b[38;5;2m✔ Download and installation successful\u001b[0m\n",
            "You can now load the model via spacy.load('en_core_web_sm')\n"
          ],
          "name": "stdout"
        }
      ]
    },
    {
      "cell_type": "code",
      "metadata": {
        "id": "F9pqiFUXLgt_",
        "colab_type": "code",
        "colab": {}
      },
      "source": [
        "import re\n",
        "import contractions\n",
        "import string\n",
        "from bs4 import BeautifulSoup\n",
        "import unicodedata\n",
        "\n",
        "def preprocessor(text):\n",
        "    \"\"\" Return a cleaned version of text\n",
        "    \"\"\"\n",
        "    # Remove html tags\n",
        "    text = strip_html_tags(text)\n",
        "    # Remove accents \n",
        "    text = remove_accented_chars(text)\n",
        "    # remove extra newlines\n",
        "    text = re.sub(r'[\\r|\\n|\\r\\n]+', ' ',text)\n",
        "\n",
        "    # Expanding contractions words\n",
        "    text = contractions.fix(text)\n",
        "    \n",
        "    # Save emoticons for later appending\n",
        "    emoticons = re.findall('(?::|;|=)(?:-)?(?:\\)|\\(|D|P)', text)\n",
        "\n",
        "    # text.replace('...',' ')\n",
        "    # text.replace('-',' ')\n",
        "\n",
        "    # Remove accents \n",
        "    text = remove_accented_chars(text)\n",
        "\n",
        "    # # insert spaces between special characters to isolate them    \n",
        "    # special_char_pattern = re.compile(r'([{.(-)!}])')\n",
        "    # text = remove_special_characters(text)  \n",
        "\n",
        "    # # remove extra whitespace\n",
        "    # text = re.sub(' +', ' ', text)\n",
        "\n",
        "    # Remove any non-word character and append the emoticons,\n",
        "    # removing the nose character for standarization. Convert to lower case\n",
        "    text = (re.sub('[\\W]+', ' ', text.lower()) + ' ' + ' '.join(emoticons).replace('-', ''))\n",
        "\n",
        "    return text\n",
        "\n",
        "def remove_special_characters(text, remove_digits=False):\n",
        "    pattern = r'[^a-zA-z0-9\\s]' if not remove_digits else r'[^a-zA-z\\s]'\n",
        "    text = re.sub(pattern, '', text)\n",
        "    return text\n",
        "def remove_accented_chars(text):\n",
        "    text = unicodedata.normalize('NFKD', text).encode('ascii', 'ignore').decode('utf-8', 'ignore')\n",
        "    return text\n",
        "\n",
        "def strip_html_tags(text):\n",
        "    soup = BeautifulSoup(text, \"lxml\")\n",
        "    stripped_text = soup.get_text()\n",
        "    return stripped_text\n",
        "\n",
        "# # Removing Special Characters\n",
        "def remove_special_characters(text):\n",
        "    text = re.sub('[^a-zA-Z0-9\\s]', '', text)\n",
        "    return text\n"
      ],
      "execution_count": 0,
      "outputs": []
    },
    {
      "cell_type": "code",
      "metadata": {
        "id": "TB-cijhPtdcc",
        "colab_type": "code",
        "outputId": "2b937fe3-8127-4c99-a6d4-3208f81a8183",
        "colab": {
          "base_uri": "https://localhost:8080/",
          "height": 498
        }
      },
      "source": [
        "%%time\n",
        "test = data['review'].sample(10)\n",
        "print_full(test)\n",
        "print_full(test.apply(preprocessor))"
      ],
      "execution_count": 84,
      "outputs": [
        {
          "output_type": "stream",
          "text": [
            "16674    This ensemble piece about adults who return to the formulative Summer camp of their youth was a very quiet entrant and exiter to the cinemas in the Autumn of 1993. I'd say that was a shame,but then again,some of the better movies ARE quiet releases that don't get much hype or praise.<br /><br />Diane LAne,Kevin Pollack,Elizabeth Perkins,Vincent Spano,Julie Warner,Bill Paxton,Kimberly Williams,Matt Craven and Alan Arkin(who is painfully good here) are the group of actors who flesh out these roles as people who have grown old with good,bad and funny memories of summers gone past. This film covers the gambit of emotions,mostly pleasant,and the film never hammers away at the viewer to feel what the characters are feeling,preferring to allow the viewer to enter into the memories on their own. Since I am a movie viewer who bristles at bluntly,brazen manipulation in films,this is something that I appreciate from writer/director Mike Binder.<br /><br />This film's a great cheap rent,a good main rent and even a pretty sit in a theater flick. You might run across this on TV,and I would definitely suggest a look-see.                                                                                                                                                                                                                                                                                                                                                                                                                                                                                                                                                                                                                                                                                                                                                                                                                                                                                                                                                                                                                                                                                                                                                                                                                                                                                                                                                                                                                                                                                                                                                                                                                                                                                                                                                                                                                                                                                                                                                                                                                                                                                                                                                                                                                                                                                                                                                                                                                                                                                                                                                                                                                                                                                                                                                                                                                                                                                                                                                                                                                                                                                                                                                                                                                                                                                                                                                                                                                                                                                                                                                                                                                      \n",
            "15398    TOM HULCE* turns in yet another Oscar-worthy performance as Dominick Luciano, the brain-damaged garbage man who's helping put his brother (Ray Liotta as Eugene) through medical school.<br /><br />This is a must-see for all movie lovers and all lovers of life and people!<br /><br />===========> *From the small studder to the eratic dancing, to the repeated words \\Oh, Jeez\\\" whenever Nicky is in a bind, the belieavablitly of Tom's performance is so excellent that you will have to concentrate to remember that it's an actor on screen!\"                                                                                                                                                                                                                                                                                                                                                                                                                                                                                                                                                                                                                                                                                                                                                                                                                                                                                                                                                                                                                                                                                                                                                                                                                                                                                                                                                                                                                                                                                                                                                                                                                                                                                                                                                                                                                                                                                                                                                                                                                                                                                                                                                                                                                                                                                                                                                                                                                                                                                                                                                                                                                                                                                                                                                                                                                                                                                                                                                                                                                                                                                                                                                                                                                                                                                                                                                                                                                                                                                                                                                                                                                                                                                                                                                                                                                                                                                                                                                                                                                                                                                                                                                                                                                                \n",
            "6188     Probably Jackie Chan's best film in the 1980s, and the one that put him on the map. The scale of this self-directed police drama is evident from the opening and closing scenes, during which a squatters' village and shopping mall are demolished. There are, clearly, differences between the original Chinese and dubbed English versions, with many of the jokes failing to make their way into the latter. The latter is also hampered by stars who sound nothing like their Chinese originals. In fact, the only thing the dubbing has corrected is the court trialÂat the time, trials in colonial Hong Kong were conducted in English, while the original has this scene in Cantonese!<br /><br />Nonetheless, Chan's fighting style and the martial arts choreography inject humour where possible, so non-Cantonese audiences don't miss much. It's not, after all, the dialogue that makes a Chan flick, but the action and the painful out-takes. The story is easy to follow: Chan plays an incorruptible Hong Kong detective pursuing a gangland godfather (Cho Yeun), and assigned to protect a star witness (Brigitte Lin). The action is superb from beginning to end, and there's not much time to breathe in between. It'll never get you thinking, but what an entertaining, and well strung-together, film. Arguably, this is one of the best martial arts films out there.                                                                                                                                                                                                                                                                                                                                                                                                                                                                                                                                                                                                                                                                                                                                                                                                                                                                                                                                                                                                                                                                                                                                                                                                                                                                                                                                                                                                                                                                                                                                                                                                                                                                                                                                                                                                                                                                                                                                                                                                                                                                                                                                                                                                                                                                                                                                                                                                                                                                                                                                                                                                                                                                                                                                                                                                                                                                                                                                                                                                                                                                                                                                                                                                                                                                                                                                                                                       \n",
            "9243     This Hamlet made for one of the boringest MST3000 episodes ever. I am not a Shakespear fan, but I do not believe he ever intended his works to be this slow paced and drab. It is also one of the hardest movies to find because there are so many Hamlets listed. Like I said though this one is quite boring. It is in black and white, the pacing is slow, and there is minimal scenery. The actors are all dubbed too so that doesn't help. This is the one MST 3000 I can't watch in one sitting cause the way the guy playing Hamlet says his lines can put anyone to sleep.                                                                                                                                                                                                                                                                                                                                                                                                                                                                                                                                                                                                                                                                                                                                                                                                                                                                                                                                                                                                                                                                                                                                                                                                                                                                                                                                                                                                                                                                                                                                                                                                                                                                                                                                                                                                                                                                                                                                                                                                                                                                                                                                                                                                                                                                                                                                                                                                                                                                                                                                                                                                                                                                                                                                                                                                                                                                                                                                                                                                                                                                                                                                                                                                                                                                                                                                                                                                                                                                                                                                                                                                                                                                                                                                                                                                                                                                                                                                                                                                                                                                                                                                                                                                       \n",
            "6156     Boris Karloff and Bela Lugosi made many films together, but on the whole (interestingly enough) Karloff usually is the better man of the two. The real exception is \\The Black Cat\\\" (1934) where Karloff is playing the evil head of a devil cult, and Lugosi is seeking revenge on him for destroying his life. But more usual is \\\"Black Friday\\\", where (whatever his motive) Karloff is trying to improve brain surgery while Lugosi is a murderous thug. In \\\"The Raven\\\" Lugosi is a sadistic surgeon, who blackmails Karloff to assist his evil plans until Karloff finally has had enough. Rarely are they both negative characters totally. In \\\"The Body Snatcher\\\", Karloff does kill Lugosi, but Lugosi is trying to blackmail him.<br /><br />The one exception where they are both extremely sympathetic but at cross purposes to each other is this 1936 film, which I feel has rarely had the audience acceptance of some of the other movies I have mentioned. In it Karloff's Dr. Janos Rukh is a hard driven scientific genius who has been sneered at by the \\\"official scientific community\\\" for his theory that a rare form of Radium is in Nigeria on a meteorite that landed centuries ago. He has finally gotten the support of a well financed expedition led by Sir Francis Stevens and his wife Lady Arabella Stevens (Walter Kingsford and Beulah Bondi), and has another scientist, a Frenchman named Dr. Felix Benet (Lugosi), Rukh's young wife Diane (Frances Drake) and a friend and protÃ©gÃ©e of the Stevenses named Ronald Drake (Frank Lawton).<br /><br />Before they leave, Rukh is warned by his mother (Violet Kemble Cooper) that he is possibly seeking wisdom that he shouldn't and it may end in tragedy. He tries to dismiss this, but he is worried by what she says, his scientific standing, and whether or not he is going to get his due credit.<br /><br />What he gets is a disaster. He finds the substance, but is infected by it's remarkable radioactivity. He finds that he is slowly burning up, and if he tries to touch people or animals they die. He's actually built up a friendship or understanding with Benet, who figures out a type of radioactive fighting cocktail for Rukh to use to counter the danger. But there are two things that are unbeatable here. The antidote can only last for a certain amount of time, and has to be replenished. And the radioactivity has affected Rukh's brain. He is increasingly jealous of Diane's friendship with Ronald (encouraged, unfortunately by Sir Francis and Lady Arabella), and he is equally upset that (due to his having to pretend to have died - the effects of the radioactivity are like that) Benet and several others are collecting the kudos of the wonders that \\\"Radium X\\\" is giving to man. Soon Rukh is on a murderous rampage that destroys many lives, ending with his own.<br /><br />The film certainly picked up on science to an extent. Madame Curie had died recently from cancer she got due to work with Radium. Few fully understood the dangers of radioactivity in 1936, but some idea of it was coming out. The wave of murders by Rukh cause the newspapers to talk about a \\\"curse\\\" on the expedition. Of course, with the idea of a \\\"cursed\\\" expedition (on the continent of Africa) for a hidden treasure buried centuries ago, financed by a titled Englishman, we have entered archeology not physics or geology (paging Howard Carter and Lord Carnaevon).<br /><br />On the other hand, Benet tries to settle the cause of the string of deaths, and reverts to an idea that was actually demolished in 1888 in England. During the Whitechapel Murders, Sir Charles Warren ordered the retinas of several of the dead victims to be photographed to see if the last image on the retinas was Jack the Ripper. It turned out he only got the photographs of the retinas of dead prostitutes. But the idea did not die. Jules Verne used it in his novel \\\"The Brothers Kip\\\" in 1899, and here Dr. Benet uses it. As this is a science fiction story, he finds the image of Rukh on the the plate, but Benet drops the plate accidentally and it shatters.<br /><br />The film is good on many grounds, the most interesting that for a change Karloff and Lugosi are not unsympathetic towards each other. There is a type of tragic fatalism in this story that is missing from their other films. The other performances are good as well, in particular Ms Kemble Cooper. She is best remembered as Basil Rathbone's frightening sister (Jane Murdstone) in \\\"David Copperfield\\\". Here her final act is the only way to bring this tragedy to an end, and who can say it did not hurt her more than her target.\"\n",
            "13099    A perfect little atrocity...I doubt if a single shot lasted for more then the reglamentary-MTV 4.4 seconds. Woeful casting, worse even than in Kusminsky's version (a reminder: he managed to miscast Juliet Binoche and Ralph Feinnnes). But, hey-the rich got what they deserved. Dark and brooding Heathcliff reduced to the state of a golden-locked angel, frail and angellic Catherine presented as a chubby, melon-breasted heffer, meek and weak Linton is a peeping tom, and innocent Isabel becomes Sara Michelle-Gellar's character from Cruel Intentions. 15-year old Eddie Bauer and Abercrombie and Fitch donners-take notice. This thing was made for you. It is an hour-and-a-half long music video where everything is given to you; you are saved from the uncomfortable necessity of not even trying to understand the complexity of the characters, but even from initial shock at their actions. The actors tried, but, as I stated before, they were miscasted. Decent photography, but editing is on the level of TV production class in high school. I implore you all: read the book, or the cliffnotes even; watch the previous versions of it, even Kusminsky's; but stay away from the numerous future reruns, during which you will not receive the benefit of the commercial-free premiere.                                                                                                                                                                                                                                                                                                                                                                                                                                                                                                                                                                                                                                                                                                                                                                                                                                                                                                                                                                                                                                                                                                                                                                                                                                                                                                                                                                                                                                                                                                                                                                                                                                                                                                                                                                                                                                                                                                                                                                                                                                                                                                                                                                                                                                                                                                                                                                                                                                                                                                                                                                                                                                                                                                                                                                                                                                                                                                                                                                                                                                                                                                                                                                                                                                                                                                                                                                                                                                                                \n",
            "17663    This movie was astonishing. It is beyond atrocious. I often get together with a group of friends and go to the movie store to find awful movies to watch for their comedic value. My friend suggested this one, but as we watched it, people began to leave. I really wanted to finish it, just so that I could say that I had, but I was unable to. It's that bad. Horrible running gags, lame acting. The main characters are an annoying dinosaur klutz and Whoopi Goldberg. I would rather watch Costener's The Postman twelve times in a row than see a fraction of this movie again. I think they try to deal with some dinosaur discrimination issues, but the part of the movie that really stands out is the dinosaur constantly knocking things over with his tail, and then guffawing about it. It hurts. Watch it if you're an aspiring masochist, otherwise, leave this one alone.                                                                                                                                                                                                                                                                                                                                                                                                                                                                                                                                                                                                                                                                                                                                                                                                                                                                                                                                                                                                                                                                                                                                                                                                                                                                                                                                                                                                                                                                                                                                                                                                                                                                                                                                                                                                                                                                                                                                                                                                                                                                                                                                                                                                                                                                                                                                                                                                                                                                                                                                                                                                                                                                                                                                                                                                                                                                                                                                                                                                                                                                                                                                                                                                                                                                                                                                                                                                                                                                                                                                                                                                                                                                                                                                                                                                                                                                                          \n",
            "2065     This is an excellent film dealing with a potentially exploitative subject with great sensitivity. Anne Reid, previously best known in the UK for her TV roles including 'Dinnerladies' (a Victoria Wood scripted series on in-company catering workers, if you're wondering), gives a performance of finely judged understatement as May, a late-60s bereaved mother of two chattering class adults in an inner-London borough. Her husband Toots (Peter Vaughan) dies on their visit to the male of the latter species (Bobby), and we see the pair being rather casually greeted by Bobby and his family. May's teacher daughter Paula (Cathryn Bradshaw) lives nearby, however, and the relationship between May and Paula initially appears closer. Thus when May decides she cannot live in her own home and comes back to London, she is able to stay in Paula's house and do some child-minding of Paula's more appreciative offspring.<br /><br />It is on May's visits to Bobby's house that she embarks on an affair with Darren, a mid-30s friend of Bobby who is working on a house extension. In what may be the first mainstream British film to so portray it, it is May and not Darren (Daniel Craig*) who initiates the encounter, and, at least to begin with, it seems that the relationship is founded on mutual respect. There is no explicit sexual content (at least in the DVD I saw: differences in the IMDb cast list suggests the existence of other versions), and the physical basis of the affair is handled directly but not exploitatively. More strongly portrayed is the relationship between May and daughter Paula, a recent convert to 'therapy and self-exploration', who announces that mummy has never been supportive of her. Paula is also Darren's lover, and when she finds May's explicit but rather poor drawings of Darren and May together, things go downhill in dramatic but controlled fashion. Only in an English film, perhaps, could a daughter announce that she is going to hit her mother, politely ask her to stand up, and duly wallop her.<br /><br />In the mean time, May is being drawn into a putative relationship with a decent but older (of her own generation) member of Paula's writing group. The contrast between the ensuing unwanted intercourse and her affair with Darren is clearly made; it is at that point that May starts to acquiesce to Paula, and Darren's worm begins to turn (he reveals on cocaine that he may have been after her money, if not all along, but for some of the ride). So May finds herself superfluous to both of her children's needs, and finally does return home (but later leaves on a jet plane for pastures new).<br /><br />The film's strength is that it portrays with unflinching but sympathetic truth the nature of contemporary adult parent-sibling relationships, where bereavement may leave the surviving parent feeling more alone than if they had no-one to care for them. This is not new, but the openness of the portrayal of sexual need in the over-60s may well be. The darkness of the film's content, from a screenplay by Hanif Kureishi, stands in contrast to the way in which it is lit (it seems to be perpetual summer), and the overall mood is uplifting - it could so easily have been yet another piece set in a dour and rainy England. The ending is perhaps under-written, as we don't know where May is going or for how long - perhaps she's Shirley Valentine with a pension, she's certainly no Picasso. Anne Reid is, however, revealed as a fine actor whose professional life will surely have changed forever. Like Julie Andrews in Torn Curtain (said by Paul Newman), \\There goes your Mary Poppins {read Dinnerladies} image for good\\\".<br /><br />* Yes, he: announced Oct 2005 as the new James Bond.\"                                                                                                                                                                                                                                                                                                                                                                                                                                                                                                                                                                                                                                                                                                                                                                                                                                                                                                                  \n",
            "17012    Christopher Lee is one of my favorite actors! I'm trying to view all of his work. He has been known to single-handedly save movies with his presence. Unfortunately, this is not one of them. This movie suffers from a low budget and it's production values are disturbing. Please...for the love of Christopher....avoid this film!                                                                                                                                                                                                                                                                                                                                                                                                                                                                                                                                                                                                                                                                                                                                                                                                                                                                                                                                                                                                                                                                                                                                                                                                                                                                                                                                                                                                                                                                                                                                                                                                                                                                                                                                                                                                                                                                                                                                                                                                                                                                                                                                                                                                                                                                                                                                                                                                                                                                                                                                                                                                                                                                                                                                                                                                                                                                                                                                                                                                                                                                                                                                                                                                                                                                                                                                                                                                                                                                                                                                                                                                                                                                                                                                                                                                                                                                                                                                                                                                                                                                                                                                                                                                                                                                                                                                                                                                                                                   \n",
            "1489     Although the actors were good, specially Fritzi Haberland as the blind Lilly, the film script is obsessively pretentious and completely arbitrary. A famous theatre director (Hilmir SnÃ¦r GuÃ°nason), becoming blind after a car accident, is on the run for himself and his destiny. Lilly, being sightless since her birth, is teacher for blind persons, and wants to make him \\seeing\\\" again. (Blind persons are seeing with their fingers, nose and ears.) Here this movie is becoming a roadmovie; and the longer the road becomes, the closer their relation develops, which was predictable since the beginning of the film. The theatre director is on the road to his mother (Jenny GrÃ¶llmann). His mother is living somewhere in Russia on the sea and making artistic installations - of course, what should she do other! - and she is still living, because she is waiting his son, to die. My God! This are destinies!<br /><br />Finally the son arrived! Mum is celebrating a big party! At the beach. Wind is blowing and a pianist is playing on a real piano in the middle of a dune. Yes, they are celebrating her farewell. The son arrives just in time. Mother can finally swallow the pills administered by a pretty nurse. Now a great artist can die in the arms of her great artist son, speaking sad contemplations about live in perfect German, while the son is answering with a rough accent. Because the son is unable to see, he is not falling in love to the nurse, - the film script would have become also too complicate! - but is looking for Lilly on the way back to home.<br /><br />Parallel to this roadmovie the sister of Lilly, staying at home is asking a gawky schoolmate to deflower her, who has first to booze himself to courage. The occasion is favourable. Because Mum (Tina Engel) is on journey together with the lover of Lilly, Paul (Harald Schrott). They are after Lilly, to bring her back. Paul and the mother of Lilly are not falling in love, because the film script would have become too complicate. The film script missed to make out of Paul something exceptional too. I would suggest an architect or a Pianist, or course a famous one! When they finally find Lilly, they want to convince her, to come back to Paul, because he has two eyes to see and is able to care for her. But Lilly felt in love to his pupil, the theatre director; did I mention, that he was even a famous theatre director?<br /><br />This is German film art! As you may see in this pretentious production, that the German film subsidy fund is not always producing good films, because they subsidy just such kind of pseudo intellectual films. This film is really embarrassing. I have the impression, that the film script has been cobbled together from some highbrows in coffee shops and restaurants. Everybody is entitled to contribute with an idea. Probably also Til Schweiger has contributed with some intellectual flash of wit, being a co-producer. I was reminded by this film script to an other German film of absolute painfulness: \\\"Barfuss\\\" - already the spelling of the title is not right! \\\"Barfuss\\\" DVD cover writes proudly: \\\"A Til Schweiger Film\\\". This film got also subsidies of Filmstiftung NRW, FilmfÃ¶rderung Hamburg and the FFA.<br /><br />Please don't spoil your time with this film! There are really good films in Germany. Watch out for film directors like Marcus H. RosenmÃ¼ller, Joseph Vilsmaier, Hans Steinbichler, Hans-Christian Schmid, Faith Akin ...\"                                                                                                                                                                                                                                                                                                                                                                                                                                                                                                                                                                                                                                                                                                                                                                                                                                                                                                                                                                                                                                                                                                                                                                                                \n",
            "Name: review, dtype: object\n",
            "16674    this ensemble piece about adults who return to the formulative summer camp of their youth was a very quiet entrant and exiter to the cinemas in the autumn of 1993 i would say that was a shame but then again some of the better movies are quiet releases that do not get much hype or praise diane lane kevin pollack elizabeth perkins vincent spano julie warner bill paxton kimberly williams matt craven and alan arkin who is painfully good here are the group of actors who flesh out these roles as people who have grown old with good bad and funny memories of summers gone past this film covers the gambit of emotions mostly pleasant and the film never hammers away at the viewer to feel what the characters are feeling preferring to allow the viewer to enter into the memories on their own since i am a movie viewer who bristles at bluntly brazen manipulation in films this is something that i appreciate from writer director mike binder this film s a great cheap rent a good main rent and even a pretty sit in a theater flick you might run across this on tv and i would definitely suggest a look see                                                                                                                                                                                                                                                                                                                                                                                                                                                                                                                                                                                                                                                                                                                                                                                                                                                                                                                                                                                                                                                                                                                                                                                                                                                                                                                                                                                                                                                                                                                                                                                                                                                                                                                                                                                                                                                                                                                                                                                                                                                                                                                                                                                                                                                                                                                                                                                                                                                                                                                                                                                                                                                                                                                                                                                                                                                                                                                                                                                                                                                                                                                                                                                                                                                                                                                                                                                                                                       \n",
            "15398    tom hulce turns in yet another oscar worthy performance as dominick luciano the brain damaged garbage man who is helping put his brother ray liotta as eugene through medical school this is a must see for all movie lovers and all lovers of life and people from the small studder to the eratic dancing to the repeated words oh jeez whenever nicky is in a bind the belieavablitly of tom s performance is so excellent that you will have to concentrate to remember that it is an actor on screen                                                                                                                                                                                                                                                                                                                                                                                                                                                                                                                                                                                                                                                                                                                                                                                                                                                                                                                                                                                                                                                                                                                                                                                                                                                                                                                                                                                                                                                                                                                                                                                                                                                                                                                                                                                                                                                                                                                                                                                                                                                                                                                                                                                                                                                                                                                                                                                                                                                                                                                                                                                                                                                                                                                                                                                                                                                                                                                                                                                                                                                                                                                                                                                                                                                                                                                                                                                                                                                                                                                                                                                                                                                                                                                                                                                                                                                                                                                                                                                                                                                                        \n",
            "6188     probably jackie chan s best film in the 1980s and the one that put him on the map the scale of this self directed police drama is evident from the opening and closing scenes during which a squatters village and shopping mall are demolished there are clearly differences between the original chinese and dubbed english versions with many of the jokes failing to make their way into the latter the latter is also hampered by stars who sound nothing like their chinese originals in fact the only thing the dubbing has corrected is the court trialaat the time trials in colonial hong kong were conducted in english while the original has this scene in cantonese nonetheless chan s fighting style and the martial arts choreography inject humour where possible so non cantonese audiences do not miss much it is not after all the dialogue that makes a chan flick but the action and the painful out takes the story is easy to follow chan plays an incorruptible hong kong detective pursuing a gangland godfather cho yeun and assigned to protect a star witness brigitte lin the action is superb from beginning to end and there is not much time to breathe in between it will never get you thinking but what an entertaining and well strung together film arguably this is one of the best martial arts films out there                                                                                                                                                                                                                                                                                                                                                                                                                                                                                                                                                                                                                                                                                                                                                                                                                                                                                                                                                                                                                                                                                                                                                                                                                                                                                                                                                                                                                                                                                                                                                                                                                                                                                                                                                                                                                                                                                                                                                                                                                                                                                                                                                                                                                                                                                                                                                                                                                                                                                                                                                                                                                                                                                                                                                                                                                                                                                                                                                                                                                                                                                                                                                                                                                          \n",
            "9243     this hamlet made for one of the boringest mst3000 episodes ever i am not a shakespear fan but i do not believe he ever intended his works to be this slow paced and drab it is also one of the hardest movies to find because there are so many hamlets listed like i said though this one is quite boring it is in black and white the pacing is slow and there is minimal scenery the actors are all dubbed too so that does not help this is the one mst 3000 i can not watch in one sitting because the way the guy playing hamlet says his lines can put anyone to sleep                                                                                                                                                                                                                                                                                                                                                                                                                                                                                                                                                                                                                                                                                                                                                                                                                                                                                                                                                                                                                                                                                                                                                                                                                                                                                                                                                                                                                                                                                                                                                                                                                                                                                                                                                                                                                                                                                                                                                                                                                                                                                                                                                                                                                                                                                                                                                                                                                                                                                                                                                                                                                                                                                                                                                                                                                                                                                                                                                                                                                                                                                                                                                                                                                                                                                                                                                                                                                                                                                                                                                                                                                                                                                                                                                                                                                                                                                                                                                                                                    \n",
            "6156     boris karloff and bela lugosi made many films together but on the whole interestingly enough karloff usually is the better man of the two the real exception is the black cat 1934 where karloff is playing the evil head of a devil cult and lugosi is seeking revenge on him for destroying his life but more usual is black friday where whatever his motive karloff is trying to improve brain surgery while lugosi is a murderous thug in the raven lugosi is a sadistic surgeon who blackmails karloff to assist his evil plans until karloff finally has had enough rarely are they both negative characters totally in the body snatcher karloff does kill lugosi but lugosi is trying to blackmail him the one exception where they are both extremely sympathetic but at cross purposes to each other is this 1936 film which i feel has rarely had the audience acceptance of some of the other movies i have mentioned in it karloff s dr janos rukh is a hard driven scientific genius who has been sneered at by the official scientific community for his theory that a rare form of radium is in nigeria on a meteorite that landed centuries ago he has finally gotten the support of a well financed expedition led by sir francis stevens and his wife lady arabella stevens walter kingsford and beulah bondi and has another scientist a frenchman named dr felix benet lugosi rukh s young wife diane frances drake and a friend and protagae of the stevenses named ronald drake frank lawton before they leave rukh is warned by his mother violet kemble cooper that he is possibly seeking wisdom that he should not and it may end in tragedy he tries to dismiss this but he is worried by what she says his scientific standing and whether or not he is going to get his due credit what he gets is a disaster he finds the substance but is infected by it is remarkable radioactivity he finds that he is slowly burning up and if he tries to touch people or animals they die he is actually built up a friendship or understanding with benet who figures out a type of radioactive fighting cocktail for rukh to use to counter the danger but there are two things that are unbeatable here the antidote can only last for a certain amount of time and has to be replenished and the radioactivity has affected rukh s brain he is increasingly jealous of diane s friendship with ronald encouraged unfortunately by sir francis and lady arabella and he is equally upset that due to his having to pretend to have died the effects of the radioactivity are like that benet and several others are collecting the kudos of the wonders that radium x is giving to man soon rukh is on a murderous rampage that destroys many lives ending with his own the film certainly picked up on science to an extent madame curie had died recently from cancer she got due to work with radium few fully understood the dangers of radioactivity in 1936 but some idea of it was coming out the wave of murders by rukh because the newspapers to talk about a curse on the expedition of course with the idea of a cursed expedition on the continent of africa for a hidden treasure buried centuries ago financed by a titled englishman we have entered archeology not physics or geology paging howard carter and lord carnaevon on the other hand benet tries to settle the because of the string of deaths and reverts to an idea that was actually demolished in 1888 in england during the whitechapel murders sir charles warren ordered the retinas of several of the dead victims to be photographed to see if the last image on the retinas was jack the ripper it turned out he only got the photographs of the retinas of dead prostitutes but the idea did not die jules verne used it in his novel the brothers kip in 1899 and here dr benet uses it as this is a science fiction story he finds the image of rukh on the the plate but benet drops the plate accidentally and it shatters the film is good on many grounds the most interesting that for a change karloff and lugosi are not unsympathetic towards each other there is a type of tragic fatalism in this story that is missing from their other films the other performances are good as well in particular ms kemble cooper she is best remembered as basil rathbone s frightening sister jane murdstone in david copperfield here her final act is the only way to bring this tragedy to an end and who can say it did not hurt her more than her target  \n",
            "13099    a perfect little atrocity i doubt if a single shot lasted for more then the reglamentary mtv 4 4 seconds woeful casting worse even than in kusminsky s version a reminder he managed to miscast juliet binoche and ralph feinnnes but hey the rich got what they deserved dark and brooding heathcliff reduced to the state of a golden locked angel frail and angellic catherine presented as a chubby melon breasted heffer meek and weak linton is a peeping tom and innocent isabel becomes sara michelle gellar s character from cruel intentions 15 year old eddie bauer and abercrombie and fitch donners take notice this thing was made for you it is an hour and a half long music video where everything is given to you you are saved from the uncomfortable necessity of not even trying to understand the complexity of the characters but even from initial shock at their actions the actors tried but as i stated before they were miscasted decent photography but editing is on the level of tv production class in high school i implore you all read the book or the cliffnotes even watch the previous versions of it even kusminsky s but stay away from the numerous future reruns during which you will not receive the benefit of the commercial free premiere                                                                                                                                                                                                                                                                                                                                                                                                                                                                                                                                                                                                                                                                                                                                                                                                                                                                                                                                                                                                                                                                                                                                                                                                                                                                                                                                                                                                                                                                                                                                                                                                                                                                                                                                                                                                                                                                                                                                                                                                                                                                                                                                                                                                                                                                                                                                                                                                                                                                                                                                                                                                                                                                                                                                                                                                                                                                                                                                                                                                                                                                                                                                                                                                                                                                                         \n",
            "17663    this movie was astonishing it is beyond atrocious i often get together with a group of friends and go to the movie store to find awful movies to watch for their comedic value my friend suggested this one but as we watched it people began to leave i really wanted to finish it just so that i could say that i had but i was unable to it is that bad horrible running gags lame acting the main characters are an annoying dinosaur klutz and whoopi goldberg i would rather watch costener s the postman twelve times in a row than see a fraction of this movie again i think they try to deal with some dinosaur discrimination issues but the part of the movie that really stands out is the dinosaur constantly knocking things over with his tail and then guffawing about it it hurts watch it if you are an aspiring masochist otherwise leave this one alone                                                                                                                                                                                                                                                                                                                                                                                                                                                                                                                                                                                                                                                                                                                                                                                                                                                                                                                                                                                                                                                                                                                                                                                                                                                                                                                                                                                                                                                                                                                                                                                                                                                                                                                                                                                                                                                                                                                                                                                                                                                                                                                                                                                                                                                                                                                                                                                                                                                                                                                                                                                                                                                                                                                                                                                                                                                                                                                                                                                                                                                                                                                                                                                                                                                                                                                                                                                                                                                                                                                                                                                                                                                                                                     \n",
            "2065     this is an excellent film dealing with a potentially exploitative subject with great sensitivity anne reid previously best known in the uk for her tv roles including dinnerladies a victoria wood scripted series on in company catering workers if you are wondering gives a performance of finely judged understatement as may a late 60s bereaved mother of two chattering class adults in an inner london borough her husband toots peter vaughan dies on their visit to the male of the latter species bobby and we see the pair being rather casually greeted by bobby and his family may s teacher daughter paula cathryn bradshaw lives nearby however and the relationship between may and paula initially appears closer thus when may decides she cannot live in her own home and comes back to london she is able to stay in paula s house and do some child minding of paula s more appreciative offspring it is on may s visits to bobby s house that she embarks on an affair with darren a mid 30s friend of bobby who is working on a house extension in what may be the first mainstream british film to so portray it it is may and not darren daniel craig who initiates the encounter and at least to begin with it seems that the relationship is founded on mutual respect there is no explicit sexual content at least in the dvd i saw differences in the imdb cast list suggests the existence of other versions and the physical basis of the affair is handled directly but not exploitatively more strongly portrayed is the relationship between may and daughter paula a recent convert to therapy and self exploration who announces that mummy has never been supportive of her paula is also darren s lover and when she finds may s explicit but rather poor drawings of darren and may together things go downhill in dramatic but controlled fashion only in an english film perhaps could a daughter announce that she is going to hit her mother politely ask her to stand up and duly wallop her in the mean time may is being drawn into a putative relationship with a decent but older of her own generation member of paula s writing group the contrast between the ensuing unwanted intercourse and her affair with darren is clearly made it is at that point that may starts to acquiesce to paula and darren s worm begins to turn he reveals on cocaine that he may have been after her money if not all along but for some of the ride so may finds herself superfluous to both of her children s needs and finally does return home but later leaves on a jet plane for pastures new the film s strength is that it portrays with unflinching but sympathetic truth the nature of contemporary adult parent sibling relationships where bereavement may leave the surviving parent feeling more alone than if they had no one to care for them this is not new but the openness of the portrayal of sexual need in the over 60s may well be the darkness of the film s content from a screenplay by hanif kureishi stands in contrast to the way in which it is lit it seems to be perpetual summer and the overall mood is uplifting it could so easily have been yet another piece set in a dour and rainy england the ending is perhaps under written as we do not know where may is going or for how long perhaps she is shirley valentine with a pension she is certainly no picasso anne reid is however revealed as a fine actor whose professional life will surely have changed forever like julie andrews in torn curtain said by paul newman there goes your mary poppins read dinnerladies image for good yes he announced oct 2005 as the new james bond                                                                                                                                                                                                                                                                                                                                                                                                                                                                                                                                                                                                                                                                                                                                                                                                                                                       \n",
            "17012    christopher lee is one of my favorite actors i am trying to view all of his work he has been known to single handedly save movies with his presence unfortunately this is not one of them this movie suffers from a low budget and it is production values are disturbing please for the love of christopher avoid this film                                                                                                                                                                                                                                                                                                                                                                                                                                                                                                                                                                                                                                                                                                                                                                                                                                                                                                                                                                                                                                                                                                                                                                                                                                                                                                                                                                                                                                                                                                                                                                                                                                                                                                                                                                                                                                                                                                                                                                                                                                                                                                                                                                                                                                                                                                                                                                                                                                                                                                                                                                                                                                                                                                                                                                                                                                                                                                                                                                                                                                                                                                                                                                                                                                                                                                                                                                                                                                                                                                                                                                                                                                                                                                                                                                                                                                                                                                                                                                                                                                                                                                                                                                                                                                                     \n",
            "1489     although the actors were good specially fritzi haberland as the blind lilly the film script is obsessively pretentious and completely arbitrary a famous theatre director hilmir snar guanason becoming blind after a car accident is on the run for himself and his destiny lilly being sightless since her birth is teacher for blind persons and wants to make him seeing again blind persons are seeing with their fingers nose and ears here this movie is becoming a roadmovie and the longer the road becomes the closer their relation develops which was predictable since the beginning of the film the theatre director is on the road to his mother jenny grallmann his mother is living somewhere in russia on the sea and making artistic installations of course what should she do other and she is still living because she is waiting his son to die my god this are destinies finally the son arrived mum is celebrating a big party at the beach wind is blowing and a pianist is playing on a real piano in the middle of a dune yes they are celebrating her farewell the son arrives just in time mother can finally swallow the pills administered by a pretty nurse now a great artist can die in the arms of her great artist son speaking sad contemplations about live in perfect german while the son is answering with a rough accent because the son is unable to see he is not falling in love to the nurse the film script would have become also too complicate but is looking for lilly on the way back to home parallel to this roadmovie the sister of lilly staying at home is asking a gawky schoolmate to deflower her who has first to booze himself to courage the occasion is favourable because mum tina engel is on journey together with the lover of lilly paul harald schrott they are after lilly to bring her back paul and the mother of lilly are not falling in love because the film script would have become too complicate the film script missed to make out of paul something exceptional too i would suggest an architect or a pianist or course a famous one when they finally find lilly they want to convince her to come back to paul because he has two eyes to see and is able to care for her but lilly felt in love to his pupil the theatre director did i mention that he was even a famous theatre director this is german film art as you may see in this pretentious production that the german film subsidy fund is not always producing good films because they subsidy just such kind of pseudo intellectual films this film is really embarrassing i have the impression that the film script has been cobbled together from some highbrows in coffee shops and restaurants everybody is entitled to contribute with an idea probably also til schweiger has contributed with some intellectual flash of wit being a co producer i was reminded by this film script to an other german film of absolute painfulness barfuss already the spelling of the title is not right barfuss dvd cover writes proudly a til schweiger film this film got also subsidies of filmstiftung nrw filmfarderung hamburg and the ffa please do not spoil your time with this film there are really good films in germany watch out for film directors like marcus h rosenma14ller joseph vilsmaier hans steinbichler hans christian schmid faith akin                                                                                                                                                                                                                                                                                                                                                                                                                                                                                                                                                                                                                                                                                                                                                                                                                                                                                                                                                                                                                                                                                                                                                                 \n",
            "Name: review, dtype: object\n",
            "CPU times: user 18.5 ms, sys: 10 µs, total: 18.6 ms\n",
            "Wall time: 18.9 ms\n"
          ],
          "name": "stdout"
        },
        {
          "output_type": "stream",
          "text": [
            "/usr/local/lib/python3.6/dist-packages/ipykernel_launcher.py:6: FutureWarning: Passing a negative integer is deprecated in version 1.0 and will not be supported in future version. Instead, use None to not limit the column width.\n",
            "  \n"
          ],
          "name": "stderr"
        }
      ]
    },
    {
      "cell_type": "markdown",
      "metadata": {
        "id": "p6mimtiSLguB",
        "colab_type": "text"
      },
      "source": [
        "#### Prepare tokenizer"
      ]
    },
    {
      "cell_type": "code",
      "metadata": {
        "id": "ZsG38a0h8ywg",
        "colab_type": "code",
        "colab": {}
      },
      "source": [
        "import spacy\n",
        "from spacy.lang.en.stop_words import STOP_WORDS\n",
        "from spacy.lang.en import English\n",
        "import string\n",
        "from sklearn.base import TransformerMixin\n",
        "from nltk.tokenize.toktok import ToktokTokenizer\n",
        "\n",
        "\n",
        "punctuations = string.punctuation\n",
        "tokenizer = ToktokTokenizer()\n",
        "stop_words = spacy.lang.en.stop_words.STOP_WORDS\n",
        "parser = spacy.load(\"en_core_web_sm\")\n",
        "\n",
        "# Creating our tokenizer function\n",
        "def spacy_tokenizer(sentence):\n",
        "    sentence = remove_stopwords(sentence)\n",
        "    # Keep meaningfull words\n",
        "    # meaningfull_words = get_meaningfull_words(sentence)\n",
        "    # for word in meaningfull_words:\n",
        "    #   sentence = sentence.replace(word,'')\n",
        "    # Creating our token object, which is used to create documents with linguistic annotations.\n",
        "    tokens = parser(sentence)\n",
        "    # # Lemmatizing each token and converting each token into lowercase\n",
        "    tokens = [ word.lemma_.lower().strip() if word.lemma_ != \"-PRON-\" else word.lower_ for word in tokens ]\n",
        "    # tokens.extend(meaningfull_words)\n",
        "\n",
        "   # return preprocessed list of tokens\n",
        "    return tokens\n",
        "\n",
        "\n",
        "def spacy_filter_meaningfull_word_tokenizer(sentence):\n",
        "    sentence = remove_stopwords(sentence)\n",
        "    # Keep meaningfull words\n",
        "    meaningfull_words = get_meaningfull_words(sentence)\n",
        "    for word in meaningfull_words:\n",
        "      sentence = sentence.replace(word,'')\n",
        "    # Creating our token object, which is used to create documents with linguistic annotations.\n",
        "    tokens = parser(sentence)\n",
        "    # # Lemmatizing each token and converting each token into lowercase\n",
        "    tokens = [ word.lemma_.lower().strip() if word.lemma_ != \"-PRON-\" else word.lower_ for word in tokens ]\n",
        "    tokens.extend(meaningfull_words)\n",
        "\n",
        "   # return preprocessed list of tokens\n",
        "    return tokens\n",
        "\n",
        "def get_meaningfull_words(sentence):\n",
        "  parser = spacy.load(\"en_core_web_sm\")\n",
        "  tokens = parser(sentence)\n",
        "  return [ent.text for ent in tokens.ents]\n",
        "\n",
        "\n",
        "\n",
        "# # Removing Stopwords\n",
        "def remove_stopwords(text, is_lower_case=False):\n",
        "    tokens = tokenizer.tokenize(text)\n",
        "    tokens = [token.strip() for token in tokens]\n",
        "    if is_lower_case:\n",
        "        filtered_tokens = [token for token in tokens if token not in stop_words]\n",
        "    else:\n",
        "        filtered_tokens = [token for token in tokens if token.lower() not in stop_words]\n",
        "    filtered_text = ' '.join(filtered_tokens)    \n",
        "    return filtered_text\n",
        "\n",
        "\n",
        "\n",
        "# Custom transformer using spaCy\n",
        "class predictors(TransformerMixin):\n",
        "    def transform(self, X, **transform_params):\n",
        "        # Cleaning Text\n",
        "        return [clean_text(text) for text in X]\n",
        "\n",
        "    def fit(self, X, y=None, **fit_params):\n",
        "        return self\n",
        "\n",
        "    def get_params(self, deep=True):\n",
        "        return {}\n",
        "\n",
        "# Basic function to clean the text\n",
        "def clean_text(text):\n",
        "    # Removing spaces and converting text into lowercase\n",
        "    return text.strip().lower()\n"
      ],
      "execution_count": 0,
      "outputs": []
    },
    {
      "cell_type": "code",
      "metadata": {
        "id": "S0_TYgmnx1Y7",
        "colab_type": "code",
        "outputId": "5ae56a81-bdf4-4d6b-a59c-b265aef76bcc",
        "colab": {
          "base_uri": "https://localhost:8080/",
          "height": 498
        }
      },
      "source": [
        "%%time\n",
        "test = data['review'].sample(10)\n",
        "print_full(test)\n",
        "print_full(test.apply(preprocessor).apply(spacy_tokenizer))"
      ],
      "execution_count": 86,
      "outputs": [
        {
          "output_type": "stream",
          "text": [
            "/usr/local/lib/python3.6/dist-packages/ipykernel_launcher.py:6: FutureWarning: Passing a negative integer is deprecated in version 1.0 and will not be supported in future version. Instead, use None to not limit the column width.\n",
            "  \n"
          ],
          "name": "stderr"
        },
        {
          "output_type": "stream",
          "text": [
            "18154    A well-made run-of-the-mill movie with a tragic ending. Pluses: The way the story moves - begins with Soorya struggling to live followed by a long flashback about why he's there. The Music. A disinterested look at the life of policemen. Minuses: The violence and the gore, but I guess they add to the realistic effects. Still, having people's heads chopped off and sent in boxes and sacks could have been avoided.<br /><br />No complaints - 7/10                                                                                                                                                                                                                                                                                                                                                                                                                                                                                                                                                                                                                                                                                                                                                                                                                                                                                                                                                                                                                                                                                                                                                                                                                                                                                                                                                                                                                                                                                                                                                                                                                                                                                                                                                                                                                                                                                                                                                                                                                                                                                                                                                                                                                                                                                                                                                                                                                                                                                                                                                                                                                                                                                                                                                                                                                                                                                                                                                                                                                                                                                                                                                                                                                                                                                                                                                                                                                                                                                                                                                                                                                                                                                                                                                                                                                                                                                                                                                                                                                                                                                                                                                                                                                                                                                                                                                                                                                                                                                                                                                                                                                                                                                                                                                                                                    \n",
            "17617    I like this movie much, it's special type of humor by Ondricek and Machacek... I think it's better then Samotari (Loners).. Maybe it's difficult to understand when you are not Czech. If you are not watching that movie, just enjoy it, don't mind about anything else.. just relax !!                                                                                                                                                                                                                                                                                                                                                                                                                                                                                                                                                                                                                                                                                                                                                                                                                                                                                                                                                                                                                                                                                                                                                                                                                                                                                                                                                                                                                                                                                                                                                                                                                                                                                                                                                                                                                                                                                                                                                                                                                                                                                                                                                                                                                                                                                                                                                                                                                                                                                                                                                                                                                                                                                                                                                                                                                                                                                                                                                                                                                                                                                                                                                                                                                                                                                                                                                                                                                                                                                                                                                                                                                                                                                                                                                                                                                                                                                                                                                                                                                                                                                                                                                                                                                                                                                                                                                                                                                                                                                                                                                                                                                                                                                                                                                                                                                                                                                                                                                                         \n",
            "20325    I liked Top Gun. It held my interest. Predictable plot, decent character development and story line. It is pretty similar to High Noon in that the town people appear weak and scared to stand up to a villain. This movie has some quality actors who really did not get a chance to share all of their talents. Also some of the actors did not receive credit for their roles. Denver Pyle was a good looking man in his younger days. John Dehner, Rod Taylor are outstanding in their roles. Sterling Hayden did the best that he could with poor material. It is hard to imagine him as a gunslinger. Laura, played by Karen Booth, was a nauseating character. She seemed flattered that two men may have been fighting over her. Ugh. Finally, How can people travel without luggage? Especially women.                                                                                                                                                                                                                                                                                                                                                                                                                                                                                                                                                                                                                                                                                                                                                                                                                                                                                                                                                                                                                                                                                                                                                                                                                                                                                                                                                                                                                                                                                                                                                                                                                                                                                                                                                                                                                                                                                                                                                                                                                                                                                                                                                                                                                                                                                                                                                                                                                                                                                                                                                                                                                                                                                                                                                                                                                                                                                                                                                                                                                                                                                                                                                                                                                                                                                                                                                                                                                                                                                                                                                                                                                                                                                                                                                                                                                                                                                                                                                                                                                                                                                                                                                                                                                                                                                                                                                                                                                                                  \n",
            "13317    THE CHOKE (aka AXE in the UK) is a slasher produced supposedly as a straight-to-DVD movie. I say \\supposedly\\\" because the title of the movie does not have the \\\"V\\\" in brackets to indicate that it was a made for DVD movie (even though it does have the appearance of one).<br /><br />The plot is simple Â a band is holding a gig in a former meatpacking factory and they are killed one by one.<br /><br />I think most would agree that the movie was never going to be a masterpiece, but this does not excuse the faults here. Even straight-to-DVD movies such as BACHELOR PARTY MASSACRE (which has a very low IMDb rating) have a lot of redeeming qualities and sometimes come off as being one of the so-called \\\"so bad, they're good\\\" movies. However, THE CHOKE falls far short of being either a serious slasher (such as HALLOWEEN) or being a \\\"so bad it's good\\\" movie (such as THE NAIL GUN MASSACRE).<br /><br />The movie does start off good with a character killed using a drill. The blood effects were very cheesy but understandable given the very low budget. But, from there onwards, it's downhill all the way.<br /><br />There are so many faults in THE CHOKE that I could spend all day talking about them. But, a few obvious ones stand out and I'll go into them.<br /><br />The aforementioned gig that the band holds seems to start off with around 50 people present but after the music stops, there seems to be only around 8 people left (and yet they're all meant to be locked in!).<br /><br />The characters in this movie are not likable at all. Most of the band members are aggressive foul-mouthed morons or just downright weird. No one really cares about what happens to them, and even their supposed friends forget about them when they've been dispatched. The highlight of the movie is the presence of a homeless man who seems to regard the meatpacking factory as some kind of church (seriously!). He spouts some really funny lines for no apparent reason. But sadly, even his presence can't save the movie.<br /><br />There are too many scenes of people walking around and talking without any characterisation. Around 65 minutes of the film is spent watching characters walk around talking. Characters disappear for long periods of time without explanation. As in other straight-to-DVD movies such as CROCODILE and GRIM WEEKEND, the characters spend a lot of time swearing at each other aggressively without any provocation at all. There are plenty of over-the-top outbursts (mainly from the male characters) and one nearly results in a full-blown fight. In fact, the format could be said to go as follows: characters walk around--murder takes place--characters walk around--murder takes place. You get the idea.<br /><br />The dialogue is terrible and it seems that few lines are spoken without the f-word being used. Perhaps this was meant to be funny, but it just comes off as sad. And more to the point, we have all seen this done a thousand times before (usually to much greater effect).<br /><br />The movie is totally devoid of any suspense at all. The dead bodies serve to provide the only indication that the characters are in danger. A maniac is running around loose and yet the characters just behave like total morons. They make little attempt to get out of the factory or find a weapon with which to protect themselves. And much of the time, they don't even pretend to be scared.<br /><br />In the same vein as DRIVE-IN MASSACRE, the killer is not seen at the time the murders are being committed (with the exception of the final murder when the killer's identity is revealed). A random weapon appears out of nowhere to kill the victim in question. There is no one seen stalking the characters at any time. In DRIVE-IN MASSACRE, this served to make the film funny (unintentionally of course), but here it is not funny at all.<br /><br />And, as another reviewer has pointed out, the soundtrack includes music that is very bad, even for those who like punk rock. The extras look uncomfortable dancing to it. The score (at the end, there is no music at the beginning!) consists of a band of Sugarbabe wannabes singing some very bad song that is completely unrelated to the movie.<br /><br />Don't misunderstand the points made in this review. This reviewer likes bad movies (such as THE NAIL GUN MASSACRE and BACHELOR PARTY MASSACRE) as much as the classics (such as HALLOWEEN and Friday THE 13TH). But, it seems that THE CHOKE tried too hard to fit into one of those categories without fitting into either. And even as straight-to-DVD movies go, this is a poor effort.<br /><br />On a positive note, the film does contain some fairly good gory murder scenes. But, when the surviving characters do not take the situation seriously, these scenes lose their importance quickly as the intensity they provide disappears into oblivion.<br /><br />Fans of the traditional 1980s B-movie slashers should take steps to avoid this movie. And fans of the classics such as HALLOWEEN and Friday THE 13TH should do everything in their power to avoid it!\"\n",
            "3685     Nell Shipman attempted a plot to lead up to a chase finale in 'Back to God's Country' of the previous year, and she failed miserably. This time, she does better, although it seems pointless. 'Something New' hardly has a plot lying outside of the chase. There's a brief premise, which sets up the hero (co-author and Shipman's boyfriend) to have to save the girl (played by Shipman), then it's nothing but an exciting, implausible chase from there. Of course, it plays out like an hour-long advertisement for a Maxwell Sedan, but the entire movie is congruously ridiculous. It doesn't seem that she learned much from the last-minute rescue films of D.W. Griffith or its parodies by Mack Sennett and other comedians, which she's imitating.<br /><br />One point of interest is that Shipman writes and directs herself into the film as the writer of the film's story, which has as its protagonist a writer (Shipman again), although she doesn't do much else clever or humorous with it, even though she attempts to. Again, others had pioneered the writer's joke in the intertitles, like Anita Loos with 'Wild and Woolly' or Frances Marion with 'A Girl's Folly' (both 1917). At least, Shipman gives the impression that she doesn't take herself or the film seriously--and neither do I. 'Something New,' despite its claim, is hackneyed.                                                                                                                                                                                                                                                                                                                                                                                                                                                                                                                                                                                                                                                                                                                                                                                                                                                                                                                                                                                                                                                                                                                                                                                                                                                                                                                                                                                                                                                                                                                                                                                                                                                                                                                                                                                                                                                                                                                                                                                                                                                                                                                                                                                                                                                                                                                                                                                                                                                                                                                                                                                                                                                                                                                                                                                                                                                                                                                                                                                                                                                                                                                                                                                                                                                                                                                                                                                                                                                                                                                                                                                                                                                                                                                                                                                                                                                                                   \n",
            "1540     'Presque Rien' ('Come Undone') is an earlier work by the inordinately gifted writer/ director SÃ©bastien Lifshitz (with the collaboration of writer StÃ©phane Bouquet - the team that gave us the later 'Wild Side'). As we come to understand Lifshitz's manner of storytelling each of his works becomes more treasureable. By allowing his tender and sensitive love stories to unfold in the same random fashion found in the minds of confused and insecure youths - time now, time passed, time reflective, time imagined, time alone - Lifshitz makes his tales more personal, involving the viewer with every aspect of the characters' responses. It takes a bit of work to key into his method, but going with his technique draws us deeply into the film.<br /><br />Mathieu (handsome and gifted JÃ©rÃ©mie ElkaÃ¯m) is visiting the seaside for a holiday, a time to allow his mother (Dominique Reymond) to struggle with her undefined illness, cared for by the worldly and wise Annick (Marie Matheron) and accompanied by his sister Sarah (Laetitia Legrix): their distant father has remained at home for business reasons. Weaving in and out of the first moments of the film are images of Mathieu alone, looking depressed, riding trains, speaking to someone in a little recorder. We are left to wonder whether the unfolding action is all memory or contemporary action.<br /><br />While sunning at the beach Mathieu notices a handsome youth his age starring at him, and we can feel Mathieu's emotions quivering with confusion. The youth CÃ©dric (StÃ©phane Rideau) follows Mathieu and his sister home, continuing the mystery of attraction. Soon CÃ©dric approaches Mathieu and a gentle introduction leads to a kiss that begins a passionate love obsession. Mathieu is terrified of the direction he is taking, rebuffs CÃ©dric's public approaches, but continues to seek him out for consignations. The two young men are fully in the throes of being in love and the enactment of the physical aspect of this relationship, so very necessary to understanding this story, is shared with the audience in some very erotic and sensual scenes. Yet as the summer wears on Mathieu, a committed student, realizes that CÃ©dric is a drifter working in a condiment stand at a carnival. It becomes apparent that CÃ©dric is the Dionysian partner while Mathieu is the Apollonian one: in a telling time in architectural ruin Mathieu is excited by the beauty of the history and space while CÃ©dric is only interested in the place as a new hideaway for lovemaking.<br /><br />Mathieu is a complex person, coping with his familial ties strained by critical illness and a non-present father, a fear of his burgeoning sexuality, and his nascent passion for CÃ©dric. Their moments of joy are disrupted by CÃ©dric's admission of infidelity and Mathieu's inability to cope with that issue and eventually they part ways. Time passes, family changes are made, and Mathieu drifts into depression including a suicide attempt. The manner in which Mathieu copes with all of these challenges and finds solace, strangely enough, in one of CÃ©dric's past lovers Pierre (Nils Ohlund) brings the film to an ambiguous yet wholly successful climax.<br /><br />After viewing the film the feeling of identification with these characters is so strong that the desire to start the film from the beginning now with the knowledge of the complete story is powerful. Lifshitz has given us a film of meditation with passion, conflicts with passion's powers found in love, and a quiet film of silences and reveries that are incomparably beautiful. The entire cast is superb and the direction is gentle and provocative. Lifshitz is most assuredly one of the bright lights of film-making. In French with English subtitles. Highly Recommended. Grady Harp                                                                                                                                                                                                                                                                                                                                                                                                                                                                                                                                                                                                                                                                                                                                                                                                                                                                                                                                                                                                                                                                                                                                                                                                                                                                                                                                  \n",
            "15950    A surprisingly good movie! It has quite a few good jokes thru out the whole movie. The only negative thing is that some scenes go to the extremes to show just how stupid the two main characters are. We get it, stupid blondes, get on with it! <br /><br />The plot just barely dodges being called \\corny\\\". And boobies are always a plus altho the movie for some strange reason doesn't play with that card very much even tho the plot line introduces two black haired women who act as the evil counter part of our two blondes.<br /><br />So all in all, a good movie to watch. I almost gave it an 8/10, but let's not get crazy.\"                                                                                                                                                                                                                                                                                                                                                                                                                                                                                                                                                                                                                                                                                                                                                                                                                                                                                                                                                                                                                                                                                                                                                                                                                                                                                                                                                                                                                                                                                                                                                                                                                                                                                                                                                                                                                                                                                                                                                                                                                                                                                                                                                                                                                                                                                                                                                                                                                                                                                                                                                                                                                                                                                                                                                                                                                                                                                                                                                                                                                                                                                                                                                                                                                                                                                                                                                                                                                                                                                                                                                                                                                                                                                                                                                                                                                                                                                                                                                                                                                                                                                                                                                                                                                                                                                                                                                                                                                                                                                                                                                                                                                  \n",
            "13138    Don't waste 90 minutes of your time on \\Fast Food, Fast Women.\\\" It's annoyingly episodic script with three story lines patched together is laughably bad due to predictable writing, horrific acting, and even bad music. I found the anorexic main character upsetting to watch every time she was on screen. SHE needs the fast food.<br /><br />Spend the 90 minutes you'd devote to this turkey doing something more exciting...like trimming your toenails. You'd have more entertainment value.<br /><br />The only redeeming thing about this film is Louise Lasser, but she deserves much better than this tired script. It's as impotent as the elder guy she courts in the movie.<br /><br />VIEWER BEWARE!\"                                                                                                                                                                                                                                                                                                                                                                                                                                                                                                                                                                                                                                                                                                                                                                                                                                                                                                                                                                                                                                                                                                                                                                                                                                                                                                                                                                                                                                                                                                                                                                                                                                                                                                                                                                                                                                                                                                                                                                                                                                                                                                                                                                                                                                                                                                                                                                                                                                                                                                                                                                                                                                                                                                                                                                                                                                                                                                                                                                                                                                                                                                                                                                                                                                                                                                                                                                                                                                                                                                                                                                                                                                                                                                                                                                                                                                                                                                                                                                                                                                                                                                                                                                                                                                                                                                                                                                                                                                                                                                                                          \n",
            "7667     I saw this when on The Wonderful World of Disney as a kid, so I didn't recall much of it. As I watched it recently, I sat there thinking, \\This is the weirdest thing I've seen\\\".<br /><br />The 'traveling' scenes look like something caused by an LSD overdose. The animated characters are mostly oddly colored/voiced versions of Jungle Book and Robin Hood characters. Some not-so-Disney things I noticed: kids being threatened at knife point and prostitutes(during the Portobello Road song).<br /><br />It was very entertaining, though the musical numbers were long and I can see little kids getting bored with them. Also, the subject manner was a bit dark, seeing as it was set during WW2.\"                                                                                                                                                                                                                                                                                                                                                                                                                                                                                                                                                                                                                                                                                                                                                                                                                                                                                                                                                                                                                                                                                                                                                                                                                                                                                                                                                                                                                                                                                                                                                                                                                                                                                                                                                                                                                                                                                                                                                                                                                                                                                                                                                                                                                                                                                                                                                                                                                                                                                                                                                                                                                                                                                                                                                                                                                                                                                                                                                                                                                                                                                                                                                                                                                                                                                                                                                                                                                                                                                                                                                                                                                                                                                                                                                                                                                                                                                                                                                                                                                                                                                                                                                                                                                                                                                                                                                                                                                                                                                                                                               \n",
            "790      To me movies and acting is all about telling a story. The story of David and Bethsheba is a tragedy that is deep and can be felt by anyone who reads and understands the biblical account. In this movie I thought the storytelling by Gregory Peck and Susan Hayward were at their best. To know and understand the story of David and his journey to become the King of Israel, made this story all the more compelling. You could feel his lust for a beautiful woman, Gregory Peck showed the real human side of this man who in his time was larger than life. Susan Hayward's fear, reluctance, but then obedience to his authority as her King was beautifully portrayed by her. One could also feel David's anguish the nigh that Uriah spent the night at the gate instead of at home. As well as the sadness when he was killed in battle. Raymond Massey's powerful and authoritative condemnation of the King made me feel his anger. The sets were real enough, and the atmosphere believable. All in all I think this was one of the best movies of it's kind. I gave it a rating of ten.                                                                                                                                                                                                                                                                                                                                                                                                                                                                                                                                                                                                                                                                                                                                                                                                                                                                                                                                                                                                                                                                                                                                                                                                                                                                                                                                                                                                                                                                                                                                                                                                                                                                                                                                                                                                                                                                                                                                                                                                                                                                                                                                                                                                                                                                                                                                                                                                                                                                                                                                                                                                                                                                                                                                                                                                                                                                                                                                                                                                                                                                                                                                                                                                                                                                                                                                                                                                                                                                                                                                                                                                                                                                                                                                                                                                                                                                                                                                                                                                                                                                                                                                                          \n",
            "Name: review, dtype: object\n",
            "18154    [run, mill, movie, tragic, end, plus, way, story, move, begin, soorya, struggle, live, follow, long, flashback, music, disintereste, look, life, policemen, minuses, violence, gore, guess, add, realistic, effect, have, people, s, head, chop, send, box, sack, avoid, complaint, 7, 10]                                                                                                                                                                                                                                                                                                                                                                                                                                                                                                                                                \n",
            "17617    [like, movie, special, type, humor, ondricek, machacek, think, better, samotari, loner, maybe, difficult, understand, czech, watch, movie, enjoy, mind, relax]                                                                                                                                                                                                                                                                                                                                                                                                                                                                                                                                                                                                                                                                            \n",
            "20325    [like, gun, hold, interest, predictable, plot, decent, character, development, story, line, pretty, similar, high, noon, town, people, appear, weak, scared, stand, villain, movie, quality, actor, chance, share, talent, actor, receive, credit, role, denver, pyle, good, looking, man, young, day, john, dehner, rod, taylor, outstanding, role, sterling, hayden, good, poor, material, hard, imagine, gunslinger, laura, play, karen, booth, nauseate, character, flatter, man, fight, ugh, finally, people, travel, luggage, especially, woman]                                                                                                                                                                                                                                                                                    \n",
            "13317    [choke, aka, axe, uk, slasher, produce, supposedly, straight, dvd, movie, supposedly, title, movie, v, bracket, indicate, dvd, movie, appearance, plot, simple, band, holding, gig, meatpacke, factory, kill, think, agree, movie, go, masterpiece, excuse, fault, straight, dvd, movies, bachelor, party, massacre, low, imdb, rating, lot, redeem, quality, come, call, bad, good, movie, choke, fall, far, short, slasher, halloween, bad, good, movie, nail, gun, massacre, movie, start, good, character, kill, drill, blood, effect, cheesy, understandable, give, low, budget, onwards, downhill, way, fault, choke, spend, day, talk, obvious, one, stand, aforementioned, gig, band, hold, start, 50, people, present, music, stop, 8, people, leave, ...]                                                                       \n",
            "3685     [nell, shipman, attempt, plot, lead, chase, finale, god, s, country, previous, year, fail, miserably, time, better, pointless, new, hardly, plot, lie, outside, chase, brief, premise, set, hero, co, author, shipman, s, boyfriend, save, girl, play, shipman, exciting, implausible, chase, course, play, like, hour, long, advertisement, maxwell, sedan, entire, movie, congruously, ridiculous, learn, minute, rescue, film, d, w, griffith, parody, mack, sennett, comedians, imitate, point, interest, shipman, write, direct, film, writer, film, s, story, protagonist, writer, shipman, clever, humorous, attempt, pioneer, writer, s, joke, intertitle, like, anita, loos, wild, woolly, france, marion, girl, s, folly, 1917, shipman, give, impression, film, seriously, ...]                                                \n",
            "1540     [presque, rien, come, undo, early, work, inordinately, gifted, writer, director, sabastien, lifshitz, collaboration, writer, staphane, bouquet, team, give, later, wild, come, understand, lifshitz, s, manner, storytelling, work, treasureable, allow, tender, sensitive, love, story, unfold, random, fashion, find, mind, confused, insecure, youth, time, time, pass, time, reflective, time, imagine, time, lifshitz, make, tale, personal, involve, viewer, aspect, character, response, take, bit, work, key, method, go, technique, draw, deeply, film, mathieu, handsome, gift, jaramie, elkaa, m, visit, seaside, holiday, time, allow, mother, dominique, reymond, struggle, undefined, illness, care, worldly, wise, annick, marie, matheron, accompany, sister, sarah, laetitia, legrix, distant, father, remain, home, ...]\n",
            "15950    [surprisingly, good, movie, good, joke, movie, negative, thing, scene, extreme, stupid, main, character, stupid, blonde, plot, barely, dodge, call, corny, booby, plus, altho, movie, strange, reason, play, card, tho, plot, line, introduce, black, haired, woman, act, evil, counter, blonde, good, movie, watch, give, 8, 10, let, crazy]                                                                                                                                                                                                                                                                                                                                                                                                                                                                                             \n",
            "13138    [waste, 90, minute, time, fast, food, fast, woman, annoyingly, episodic, script, story, line, patch, laughably, bad, predictable, write, horrific, act, bad, music, find, anorexic, main, character, upsetting, watch, time, screen, need, fast, food, spend, 90, minute, devote, turkey, exciting, like, trim, toenail, entertainment, value, redeem, thing, film, louise, lasser, deserve, well, tired, script, impotent, elder, guy, courts, movie, viewer, beware]                                                                                                                                                                                                                                                                                                                                                                    \n",
            "7667     [see, wonderful, world, disney, kid, recall, watch, recently, sit, think, weird, thing, see, travel, scene, look, like, cause, lsd, overdose, animate, character, oddly, color, voiced, version, jungle, book, robin, hood, characters, disney, thing, notice, kid, threaten, knife, point, prostitute, portobello, road, song, entertain, musical, number, long, little, kid, get, bored, subject, manner, bit, dark, seeing, set, ww2]                                                                                                                                                                                                                                                                                                                                                                                                  \n",
            "790      [movie, act, tell, story, story, david, bethsheba, tragedy, deep, feel, read, understand, biblical, account, movie, think, storytelle, gregory, peck, susan, hayward, best, know, understand, story, david, journey, king, israel, story, compelling, feel, lust, beautiful, woman, gregory, peck, show, real, human, man, time, large, life, susan, hayward, s, fear, reluctance, obedience, authority, king, beautifully, portray, feel, david, s, anguish, nigh, uriah, spend, night, gate, instead, home, sadness, kill, battle, raymond, massey, s, powerful, authoritative, condemnation, king, feel, anger, set, real, atmosphere, believable, think, good, movie, kind, give, rating]                                                                                                                                             \n",
            "Name: review, dtype: object\n",
            "CPU times: user 415 ms, sys: 10 ms, total: 425 ms\n",
            "Wall time: 427 ms\n"
          ],
          "name": "stdout"
        }
      ]
    },
    {
      "cell_type": "markdown",
      "metadata": {
        "id": "xpOHUj0QLguG",
        "colab_type": "text"
      },
      "source": [
        "### Split train and test sample"
      ]
    },
    {
      "cell_type": "code",
      "metadata": {
        "colab_type": "code",
        "id": "WNtEA36onDhi",
        "colab": {}
      },
      "source": [
        "# split the dataset in train and test\n",
        "# Your code here\n",
        "from sklearn.model_selection import train_test_split\n",
        "X = data['review']\n",
        "y = data['sentiment']\n",
        "X_train,X_test,y_train, y_test = train_test_split(X,y,test_size=0.2)\n"
      ],
      "execution_count": 0,
      "outputs": []
    },
    {
      "cell_type": "code",
      "metadata": {
        "id": "8dQObRO_BBFb",
        "colab_type": "code",
        "colab": {
          "base_uri": "https://localhost:8080/",
          "height": 87
        },
        "outputId": "54017510-ac17-42ae-86c4-06ac8850d754"
      },
      "source": [
        "print(X.shape)\n",
        "print(y.shape)\n",
        "print(X_train.shape)\n",
        "print(y_train.shape)"
      ],
      "execution_count": 88,
      "outputs": [
        {
          "output_type": "stream",
          "text": [
            "(22500,)\n",
            "(22500,)\n",
            "(18000,)\n",
            "(18000,)\n"
          ],
          "name": "stdout"
        }
      ]
    },
    {
      "cell_type": "markdown",
      "metadata": {
        "id": "96CGvWnKLguJ",
        "colab_type": "text"
      },
      "source": [
        "### Classification\n",
        "\n"
      ]
    },
    {
      "cell_type": "code",
      "metadata": {
        "id": "mrKUekdZKVWx",
        "colab_type": "code",
        "colab": {}
      },
      "source": [
        "from sklearn.model_selection import GridSearchCV\n",
        "from sklearn.linear_model import LogisticRegression\n",
        "from sklearn.model_selection import GridSearchCV \n",
        "from sklearn.pipeline import Pipeline\n",
        "from sklearn import metrics\n",
        "from sklearn.feature_extraction.text import TfidfVectorizer\n",
        "from sklearn.externals.joblib import Memory\n",
        "tfidf_vector = TfidfVectorizer(tokenizer = spacy_tokenizer,preprocessor=preprocessor,\n",
        "                               ngram_range=(1,1), max_df = 0.5, min_df = 1,sublinear_tf=True)\n",
        "\n",
        "log_reg = LogisticRegression(n_jobs=-1,random_state=0,C=3.5938136638046276)\n",
        "tfidf_pipe =  Pipeline([(\"cleaner\", predictors()),\n",
        "                 ('vect', tfidf_vector),\n",
        "                 ('clf', log_reg)],memory = Memory(location='/content/cache'))\n"
      ],
      "execution_count": 0,
      "outputs": []
    },
    {
      "cell_type": "code",
      "metadata": {
        "id": "DFGMpcD4yVbF",
        "colab_type": "code",
        "outputId": "eb1d6364-2a7d-43bd-b7d8-5c0817f7db2d",
        "colab": {
          "base_uri": "https://localhost:8080/",
          "height": 1000
        }
      },
      "source": [
        "%%time\n",
        "# Train model\n",
        "\n",
        "# model generation\n",
        "tfidf_pipe.fit(X_train,y_train)\n",
        "# Predict\n",
        "\n",
        "tfidf_pipe_predictions = tfidf_pipe.predict(X_test)\n",
        "# Evaluate\n",
        "print(\"Logistic Regression Accuracy:\",metrics.accuracy_score(y_test, tfidf_pipe_predictions))\n",
        "print(\"Logistic Regression Precision:\",metrics.precision_score(y_test, tfidf_pipe_predictions))\n",
        "print(\"Logistic Regression Recall:\",metrics.recall_score(y_test, tfidf_pipe_predictions))"
      ],
      "execution_count": 0,
      "outputs": [
        {
          "output_type": "stream",
          "text": [
            "________________________________________________________________________________\n",
            "[Memory] Calling sklearn.pipeline._fit_transform_one...\n",
            "_fit_transform_one(<__main__.predictors object at 0x7f455ff2d080>, 20989    You do realize that you've been watching the E...\n",
            "22481    To me, the final scene, in which Harris respon...\n",
            "21321    Bo is Jane Parker, whose long-lost anthropolog...\n",
            "6571     This wasn't really a very good movie. There we...\n",
            "7716     She's not Michael Jordan<br /><br />Think of a...\n",
            "                               ...                        \n",
            "3477     This is a long lost horror gem starring Sydney...\n",
            "6501     As with a bunch of guys at school we must give...\n",
            "19040    Wow, praise IMDb and Google, for I have been t...\n",
            "15058    This was the worst movie I've ever seen in the...\n",
            "10012    A visit by Hitler in Rome is the backdrop of t...\n",
            "Name: review, Length: 18000, dtype: object, \n",
            "20989    0\n",
            "22481    1\n",
            "21321    0\n",
            "6571     0\n",
            "7716     1\n",
            "        ..\n",
            "3477     1\n",
            "6501     1\n",
            "19040    1\n",
            "15058    0\n",
            "10012    1\n",
            "Name: sentiment, Length: 18000, dtype: int64, \n",
            "None, message_clsname='Pipeline', message=None)\n",
            "________________________________________________fit_transform_one - 0.3s, 0.0min\n",
            "________________________________________________________________________________\n",
            "[Memory] Calling sklearn.pipeline._fit_transform_one...\n",
            "_fit_transform_one(TfidfVectorizer(analyzer='word', binary=False, decode_error='strict',\n",
            "                dtype=<class 'numpy.float64'>, encoding='utf-8',\n",
            "                input='content', lowercase=True, max_df=0.5, max_features=None,\n",
            "                min_df=1, ngram_range=(1, 1), norm='l2',\n",
            "                preprocessor=<function preprocessor at 0x7f455f5cc730>,\n",
            "                smooth_idf=True, stop_words=None, strip_accents=None,\n",
            "                sublinear_tf=True, token_pattern='(?u)\\\\b\\\\w\\\\w+\\\\b',\n",
            "                tokenizer=<function spacy_tokenizer at 0x7f4562b94840>,\n",
            "                use_idf=True, vocabulary=None), \n",
            "[ \"you do realize that you've been watching the exact same show for eight \"\n",
            "  'years, right? i could understand the initial curiosity of seeing strangers '\n",
            "  \"co-exist on an island, but you'd think that after watching unkempt, \"\n",
            "  'stink-ladened heroes run roughshod through the bush with an egg on a spoon '\n",
            "  'for half a decade would be enough to get you to commit to something a '\n",
            "  \"little more original (and interesting).<br /><br />and i'm not even \"\n",
            "  'speaking of the shows validity which for the record i find questionable. '\n",
            "  'it\\'s just hard to suspend disbelief for \\\\bushy bill\\\\\" eating a rat when '\n",
            "  'the entire crew of producers and camera people are housed in an air '\n",
            "  \"condition..., \n",
            "20989    0\n",
            "22481    1\n",
            "21321    0\n",
            "6571     0\n",
            "7716     1\n",
            "        ..\n",
            "3477     1\n",
            "6501     1\n",
            "19040    1\n",
            "15058    0\n",
            "10012    1\n",
            "Name: sentiment, Length: 18000, dtype: int64, \n",
            "None, message_clsname='Pipeline', message=None)\n"
          ],
          "name": "stdout"
        }
      ]
    },
    {
      "cell_type": "code",
      "metadata": {
        "id": "Oc0S6CaqWhah",
        "colab_type": "code",
        "colab": {}
      },
      "source": [
        "tfidf_filter_vector = TfidfVectorizer(tokenizer = spacy_filter_meaningfull_word_tokenizer,preprocessor=preprocessor,\n",
        "                               ngram_range=(1,1), max_df = 0.5, min_df = 1,sublinear_tf=True)\n",
        "\n",
        "log_reg = LogisticRegression(n_jobs=-1,random_state=0,C=3.5938136638046276)\n",
        "tfidf_filter_pipe =  Pipeline([(\"cleaner\", predictors()),\n",
        "                 ('vect', tfidf_filter_vector),\n",
        "                 ('clf', log_reg)],memory = Memory(location='/content/cache'))\n"
      ],
      "execution_count": 0,
      "outputs": []
    },
    {
      "cell_type": "code",
      "metadata": {
        "id": "gavVRv0rW8E2",
        "colab_type": "code",
        "colab": {
          "base_uri": "https://localhost:8080/",
          "height": 852
        },
        "outputId": "9517c543-5c99-4c31-8607-5848bd242cdf"
      },
      "source": [
        "%%time\n",
        "# Train model\n",
        "\n",
        "# model generation\n",
        "tfidf_filter_pipe.fit(X_train,y_train)\n",
        "# Predict\n",
        "\n",
        "tfidf_filter_pipe_predictions = tfidf_filter_pipe.predict(X_test)\n",
        "# Evaluate\n",
        "print(\"Logistic Regression Accuracy:\",metrics.accuracy_score(y_test, tfidf_filter_pipe_predictions))\n",
        "print(\"Logistic Regression Precision:\",metrics.precision_score(y_test, tfidf_filter_pipe_predictions))\n",
        "print(\"Logistic Regression Recall:\",metrics.recall_score(y_test, tfidf_filter_pipe_predictions))"
      ],
      "execution_count": 71,
      "outputs": [
        {
          "output_type": "stream",
          "text": [
            "________________________________________________________________________________\n",
            "[Memory] Calling sklearn.pipeline._fit_transform_one...\n",
            "_fit_transform_one(TfidfVectorizer(analyzer='word', binary=False, decode_error='strict',\n",
            "                dtype=<class 'numpy.float64'>, encoding='utf-8',\n",
            "                input='content', lowercase=True, max_df=0.5, max_features=None,\n",
            "                min_df=1, ngram_range=(1, 1), norm='l2',\n",
            "                preprocessor=<function preprocessor at 0x7f4564919488>,\n",
            "                smooth_idf=True, stop_words=None, strip_accents=None,\n",
            "                sublinear_tf=True, token_pattern='(?u)\\\\b\\\\w\\\\w+\\\\b',\n",
            "                tokenizer=<function spacy_filter_meaningfull_word_tokenizer at 0x7f4564031f28>,\n",
            "                use_idf=True, vocabulary=None), \n",
            "[ 'channel surfing and caught this on logo. it was one of those \\\\i have to '\n",
            "  'watch this because it\\'s so horribly bad\\\\\" moments, like roadhouse without '\n",
            "  'the joy. the writing is atrocious; completely inane and the acting is '\n",
            "  \"throw-up-in-your-mouth bad.<br /><br />there's low budget and then there is \"\n",
            "  'the abyss which is where this epic should be tossed and never seen from '\n",
            "  'again. i mean, the main characters go to a ski retreat in some rented house '\n",
            "  'and the house is, well, ordinary which is no big deal, but they choose to '\n",
            "  'show all the houseguests pouring over it like it was the sistine chapel. '\n",
            "  \"i'm sorry but watching 6 guys stare into every 10'x10' boring room ..., \n",
            "72     0\n",
            "895    1\n",
            "475    0\n",
            "145    0\n",
            "94     0\n",
            "      ..\n",
            "336    1\n",
            "82     0\n",
            "750    0\n",
            "559    0\n",
            "861    0\n",
            "Name: sentiment, Length: 800, dtype: int64, \n",
            "None, message_clsname='Pipeline', message=None)\n",
            "______________________________________________fit_transform_one - 519.6s, 8.7min\n"
          ],
          "name": "stdout"
        },
        {
          "output_type": "stream",
          "text": [
            "/usr/local/lib/python3.6/dist-packages/sklearn/pipeline.py:315: UserWarning: Persisting input arguments took 1.79s to run.\n",
            "If this happens often in your code, it can cause performance problems \n",
            "(results will be correct in all cases). \n",
            "The reason for this is probably some large input arguments for a wrapped\n",
            " function (e.g. large strings).\n",
            "THIS IS A JOBLIB ISSUE. If you can, kindly provide the joblib's team with an\n",
            " example so that they can fix the problem.\n",
            "  **fit_params_steps[name])\n"
          ],
          "name": "stderr"
        },
        {
          "output_type": "stream",
          "text": [
            "Logistic Regression Accuracy: 0.845\n",
            "Logistic Regression Precision: 0.8207547169811321\n",
            "Logistic Regression Recall: 0.8787878787878788\n",
            "CPU times: user 10min 44s, sys: 7.53 s, total: 10min 51s\n",
            "Wall time: 10min 53s\n"
          ],
          "name": "stdout"
        }
      ]
    },
    {
      "cell_type": "code",
      "metadata": {
        "id": "Pw0l8fd8BlfJ",
        "colab_type": "code",
        "colab": {}
      },
      "source": [
        "# Create hyperparameter options\n",
        "# Create regularization hyperparameter space\n",
        "C = np.logspace(0,5,10)\n",
        "ngram_range = [(1,1),(1,2),(1,3),(2,2),(2,3)]\n",
        "max_df = (0.25,0.5,0.75,1)\n",
        "min_df = (0.25,0.5,0.75,1)\n",
        "binary = (True,False)\n",
        "norm = ('l1','l2')\n",
        "use_idf = (True,False)\n",
        "smooth_idf = (True,False)\n",
        "sublinear_tf = (True,False)\n",
        "\n",
        "param_grid = {\n",
        "  'clf__C': C,\n",
        "  # 'vect__ngram_range': ngram_range,\n",
        "  # 'vect__max_df': max_df,'vect__min_df': min_df\n",
        "  # 'vect__binary': binary, 'vect__norm': norm,\n",
        "  # 'vect__use_idf': use_idf, 'vect__smooth_idf': smooth_idf,\n",
        "  # 'vect__sublinear_tf':  sublinear_tf\n",
        "}\n",
        "gs = GridSearchCV(tfidf_pipe, param_grid,n_jobs=-1 ,cv=5, verbose=1)\n"
      ],
      "execution_count": 0,
      "outputs": []
    },
    {
      "cell_type": "code",
      "metadata": {
        "id": "8S2FrL9nLCC5",
        "colab_type": "code",
        "colab": {}
      },
      "source": [
        "from sklearn.externals.joblib import parallel_backend\n",
        "\n",
        "# model generation\n",
        "# with parallel_backend('multiprocessing'):\n",
        "#   gs.fit(X_train,y_train)"
      ],
      "execution_count": 0,
      "outputs": []
    },
    {
      "cell_type": "code",
      "metadata": {
        "id": "s8tIyYfgL8WH",
        "colab_type": "code",
        "outputId": "2bdd32cb-6a21-40fa-f4cd-f9f9f6b15314",
        "colab": {
          "base_uri": "https://localhost:8080/",
          "height": 52
        }
      },
      "source": [
        "%%time\n",
        "# Predicting with a test dataset\n",
        "gs_predictions = gs.predict(X_test)"
      ],
      "execution_count": 0,
      "outputs": [
        {
          "output_type": "stream",
          "text": [
            "CPU times: user 24.3 s, sys: 100 ms, total: 24.4 s\n",
            "Wall time: 24.5 s\n"
          ],
          "name": "stdout"
        }
      ]
    },
    {
      "cell_type": "code",
      "metadata": {
        "id": "ZrupP63CDfnM",
        "colab_type": "code",
        "outputId": "1a15bdac-3add-4b4d-e329-3c4e8415c5e0",
        "colab": {
          "base_uri": "https://localhost:8080/",
          "height": 88
        }
      },
      "source": [
        "from sklearn import metrics\n",
        "\n",
        "\n",
        "# View best hyperparameters\n",
        "print('Best params:', gs.best_params_)\n",
        "# print('Best C:', gs.best_estimator_.get_params()['C'])\n",
        "# print('Best dual:', gs.best_estimator_.get_params()['dual'])\n",
        "# print('Best fit_intercept:', gs.best_estimator_.get_params()['fit_intercept'])\n",
        "# print('Best class_weight:', gs.best_estimator_.get_params()['class_weight'])\n",
        "# print('Best random_state:', gs.best_estimator_.get_params()['random_state'])\n",
        "# print('Best solver:', gs.best_estimator_.get_params()['solver'])\n",
        "\n",
        "\n",
        "# Model Accuracy\n",
        "print(\"Logistic Regression Accuracy:\",metrics.accuracy_score(y_test, gs_predictions))\n",
        "print(\"Logistic Regression Precision:\",metrics.precision_score(y_test, gs_predictions))\n",
        "print(\"Logistic Regression Recall:\",metrics.recall_score(y_test, gs_predictions))\n"
      ],
      "execution_count": 0,
      "outputs": [
        {
          "output_type": "stream",
          "text": [
            "Best params: {'clf__C': 3.5938136638046276}\n",
            "Logistic Regression Accuracy: 0.8805387205387205\n",
            "Logistic Regression Precision: 0.8723854911305269\n",
            "Logistic Regression Recall: 0.8905405405405405\n"
          ],
          "name": "stdout"
        }
      ]
    },
    {
      "cell_type": "code",
      "metadata": {
        "id": "qcgsonCxLguO",
        "colab_type": "code",
        "colab": {}
      },
      "source": [
        "tweets = [\n",
        "    \"This is really bad\",\n",
        "    \"I love this!\",\n",
        "    \":)\",\n",
        "]\n",
        "\n",
        "preds = clf.predict_proba(tweets)\n",
        "\n",
        "for i in range(len(tweets)):\n",
        "    print(f'{tweets[i]} --> Positive, Negative = {preds[i]}')"
      ],
      "execution_count": 0,
      "outputs": []
    },
    {
      "cell_type": "markdown",
      "metadata": {
        "id": "Hwxt0TwMX9-K",
        "colab_type": "text"
      },
      "source": [
        "#### Save Model"
      ]
    },
    {
      "cell_type": "code",
      "metadata": {
        "id": "lfdBKUEELguQ",
        "colab_type": "code",
        "colab": {
          "base_uri": "https://localhost:8080/",
          "height": 203
        },
        "outputId": "83667c25-f2dc-4acb-b9a3-1118d462b625"
      },
      "source": [
        "import pickle\n",
        "import os\n",
        "\n",
        "pickle.dump(tfidf_pipe, open(os.path.join('models', 'movie_review.pkl'), 'wb'), protocol=4)"
      ],
      "execution_count": 58,
      "outputs": [
        {
          "output_type": "error",
          "ename": "NameError",
          "evalue": "ignored",
          "traceback": [
            "\u001b[0;31m---------------------------------------------------------------------------\u001b[0m",
            "\u001b[0;31mNameError\u001b[0m                                 Traceback (most recent call last)",
            "\u001b[0;32m<ipython-input-58-ec71d6b49976>\u001b[0m in \u001b[0;36m<module>\u001b[0;34m()\u001b[0m\n\u001b[1;32m      2\u001b[0m \u001b[0;32mimport\u001b[0m \u001b[0mos\u001b[0m\u001b[0;34m\u001b[0m\u001b[0;34m\u001b[0m\u001b[0m\n\u001b[1;32m      3\u001b[0m \u001b[0;34m\u001b[0m\u001b[0m\n\u001b[0;32m----> 4\u001b[0;31m \u001b[0mpickle\u001b[0m\u001b[0;34m.\u001b[0m\u001b[0mdump\u001b[0m\u001b[0;34m(\u001b[0m\u001b[0mpipe\u001b[0m\u001b[0;34m,\u001b[0m \u001b[0mopen\u001b[0m\u001b[0;34m(\u001b[0m\u001b[0mos\u001b[0m\u001b[0;34m.\u001b[0m\u001b[0mpath\u001b[0m\u001b[0;34m.\u001b[0m\u001b[0mjoin\u001b[0m\u001b[0;34m(\u001b[0m\u001b[0;34m'models'\u001b[0m\u001b[0;34m,\u001b[0m \u001b[0;34m'movie_review.pkl'\u001b[0m\u001b[0;34m)\u001b[0m\u001b[0;34m,\u001b[0m \u001b[0;34m'wb'\u001b[0m\u001b[0;34m)\u001b[0m\u001b[0;34m,\u001b[0m \u001b[0mprotocol\u001b[0m\u001b[0;34m=\u001b[0m\u001b[0;36m4\u001b[0m\u001b[0;34m)\u001b[0m\u001b[0;34m\u001b[0m\u001b[0;34m\u001b[0m\u001b[0m\n\u001b[0m",
            "\u001b[0;31mNameError\u001b[0m: name 'pipe' is not defined"
          ]
        }
      ]
    },
    {
      "cell_type": "code",
      "metadata": {
        "id": "jPtprJPRlFhl",
        "colab_type": "code",
        "colab": {}
      },
      "source": [
        "# Evaluate model\n",
        "evaluation_data = pd.read_csv('/content/drive/My Drive/FTMLE - Tonga/Data/movie_review_evaluation.csv',sep='\\t')\n",
        "X_evaluation = evaluation_data['review']\n",
        "y_pred = tfidf_pipe.predict(X_evaluation)\n",
        "pred_sentiment = pd.DataFrame(y_pred,columns=['sentiment'])\n",
        "evaluation_data = pd.concat([X_pred,pred_sentiment], axis=1)\n",
        "evaluation_data.to_csv('/content/phuc.tran.csv')"
      ],
      "execution_count": 0,
      "outputs": []
    },
    {
      "cell_type": "markdown",
      "metadata": {
        "id": "9kf3QJIdXT6f",
        "colab_type": "text"
      },
      "source": [
        "### Addition"
      ]
    },
    {
      "cell_type": "code",
      "metadata": {
        "id": "rO-4z0kwTIXj",
        "colab_type": "code",
        "colab": {}
      },
      "source": [
        ""
      ],
      "execution_count": 0,
      "outputs": []
    }
  ]
}